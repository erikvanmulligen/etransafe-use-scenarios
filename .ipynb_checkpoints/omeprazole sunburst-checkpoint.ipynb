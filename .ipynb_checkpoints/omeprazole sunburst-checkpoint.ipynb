{
 "cells": [
  {
   "cell_type": "markdown",
   "metadata": {},
   "source": [
    " # eTransafe Omeprazole Heatmap\n",
    "\n",
    "This is the use scenario that has been described in the eTox project for exploring the differences with respect to adverse events between omeprazole preclinical and clinical. In order to compute these results the following scenario is executed:\n",
    "1. authenticate with the eTransafe keycloak\n",
    "2. Translate the provided compound (e.g., omeprazole) to a SMILES\n",
    "3. Retrieve similar compounds based on structural similarity\n",
    "4. Retrieve data from the preclinical and clinical databases\n",
    "5. Aggregate the data per system organ class\n",
    "6. Visualize the data using a heatmap\n",
    "\n",
    "(C) 2021 Erasmus University Medical Center, Rotterdam, The Netherlands\n",
    "Author: Erik M. van Mulligen, e.vanmulligen@erasmusmc.nl"
   ]
  },
  {
   "cell_type": "code",
   "execution_count": 1,
   "metadata": {
    "pycharm": {
     "name": "#%%\n"
    }
   },
   "outputs": [],
   "source": [
    "from knowledgehub.api import KnowledgeHubAPI\n",
    "import ipywidgets as w\n",
    "from IPython.display import display, Javascript\n",
    "from ipypublish import nb_setup\n",
    "import numpy as np\n",
    "import numpy.ma as ma\n",
    "import seaborn as sns\n",
    "import pandas\n",
    "from matplotlib.colors import LogNorm, Normalize\n",
    "import matplotlib.pyplot as plt\n",
    "import plotly.express as px"
   ]
  },
  {
   "cell_type": "code",
   "execution_count": 2,
   "metadata": {},
   "outputs": [],
   "source": [
    "#api = KnowledgeHubAPI(server='TEST', client_secret='39c644b3-1f23-4d94-a71f-e0fb43ebd760')\n",
    "api = KnowledgeHubAPI(server='DEV', client_secret='3db5a6d7-4694-48a4-8a2e-e9c30d78f9ab')"
   ]
  },
  {
   "cell_type": "markdown",
   "metadata": {},
   "source": [
    "# 1. Authentication\n",
    "Use eTransafe's authentication service to get access to available services"
   ]
  },
  {
   "cell_type": "code",
   "execution_count": 3,
   "metadata": {},
   "outputs": [
    {
     "data": {
      "application/vnd.jupyter.widget-view+json": {
       "model_id": "f5b83057947b4a5fbc0acbd1e9973bd0",
       "version_major": 2,
       "version_minor": 0
      },
      "text/plain": [
       "VBox(children=(Text(value='erik.mulligen', description='username:', placeholder='Knowledge Hub account'), Pass…"
      ]
     },
     "metadata": {},
     "output_type": "display_data"
    },
    {
     "name": "stdout",
     "output_type": "stream",
     "text": [
      "successfully logged in\n"
     ]
    },
    {
     "data": {
      "application/javascript": [
       "IPython.notebook.execute_cell_range(IPython.notebook.get_selected_index()+1, IPython.notebook.get_selected_index()+2)"
      ],
      "text/plain": [
       "<IPython.core.display.Javascript object>"
      ]
     },
     "metadata": {},
     "output_type": "display_data"
    }
   ],
   "source": [
    "username = w.Text(value='erik.mulligen',placeholder='Knowledge Hub account', description='username:', disabled=False)\n",
    "password = w.Password(value='', placeholder='Knowledge Hub password', description='password:', disabled=False)\n",
    "loginBtn = w.Button(description='Login')\n",
    "status = w.Output()\n",
    "\n",
    "def on_button_clicked(_):\n",
    "    if api.login(username.value, password.value) == False:\n",
    "        print(\"Failed to login\")\n",
    "    else:\n",
    "        print(\"successfully logged in\")\n",
    "        display(Javascript('IPython.notebook.execute_cell_range(IPython.notebook.get_selected_index()+1, IPython.notebook.get_selected_index()+2)'))\n",
    "\n",
    "loginBtn.on_click(on_button_clicked)\n",
    "w.VBox([username, password, loginBtn])"
   ]
  },
  {
   "cell_type": "markdown",
   "metadata": {},
   "source": [
    "## 2. Translate compound to SMILES using semantic services\n",
    "For the entered compound name, retrieve the associated SMILES using the semantic services"
   ]
  },
  {
   "cell_type": "code",
   "execution_count": 4,
   "metadata": {},
   "outputs": [
    {
     "data": {
      "application/vnd.jupyter.widget-view+json": {
       "model_id": "da2fddefa942472595f1e8757a622e9c",
       "version_major": 2,
       "version_minor": 0
      },
      "text/plain": [
       "VBox(children=(Text(value='omeprazole', description='compound:', placeholder='compound name'), Button(descript…"
      ]
     },
     "metadata": {},
     "output_type": "display_data"
    },
    {
     "name": "stdout",
     "output_type": "stream",
     "text": [
      "retrieving smiles for omeprazole\n",
      "Found SMILES ['COc1ccc2[nH]c([S+]([O-])Cc3ncc(C)c(OC)c3C)nc2c1'] for omeprazole\n"
     ]
    },
    {
     "data": {
      "application/javascript": [
       "IPython.notebook.execute_cell_range(IPython.notebook.get_selected_index()+1, IPython.notebook.get_selected_index()+2)"
      ],
      "text/plain": [
       "<IPython.core.display.Javascript object>"
      ]
     },
     "metadata": {},
     "output_type": "display_data"
    }
   ],
   "source": [
    "compoundName = w.Text(value='omeprazole',placeholder='compound name', description='compound:', disabled=False)\n",
    "compoundBtn = w.Button(description='Retrieve')\n",
    "compoundSmile = None\n",
    "\n",
    "def on_compound_entered(_):\n",
    "    global compoundSmile\n",
    "    print(f'retrieving smiles for {compoundName.value}')\n",
    "    compoundSmile = api.ChemistryService().getSMILESByName(compoundName.value)\n",
    "    print(f'Found SMILES {compoundSmile} for {compoundName.value}')\n",
    "    display(Javascript('IPython.notebook.execute_cell_range(IPython.notebook.get_selected_index()+1, IPython.notebook.get_selected_index()+2)'))\n",
    "\n",
    "compoundBtn.on_click(on_compound_entered) \n",
    "w.VBox([compoundName, compoundBtn])"
   ]
  },
  {
   "cell_type": "markdown",
   "metadata": {},
   "source": [
    "## 3. Retrieve similar compounds"
   ]
  },
  {
   "cell_type": "code",
   "execution_count": 5,
   "metadata": {},
   "outputs": [
    {
     "data": {
      "text/html": [
       "<div>\n",
       "<style scoped>\n",
       "    .dataframe tbody tr th:only-of-type {\n",
       "        vertical-align: middle;\n",
       "    }\n",
       "\n",
       "    .dataframe tbody tr th {\n",
       "        vertical-align: top;\n",
       "    }\n",
       "\n",
       "    .dataframe thead th {\n",
       "        text-align: right;\n",
       "    }\n",
       "</style>\n",
       "<table border=\"1\" class=\"dataframe\">\n",
       "  <thead>\n",
       "    <tr style=\"text-align: right;\">\n",
       "      <th></th>\n",
       "      <th>NAME</th>\n",
       "      <th>SMILES</th>\n",
       "      <th>SIMILARITY</th>\n",
       "    </tr>\n",
       "  </thead>\n",
       "  <tbody>\n",
       "    <tr>\n",
       "      <th>0</th>\n",
       "      <td>esomeprazole</td>\n",
       "      <td>COc1ccc2[nH]c([S@@+]([O-])Cc3ncc(C)c(OC)c3C)nc2c1</td>\n",
       "      <td>1.0000</td>\n",
       "    </tr>\n",
       "    <tr>\n",
       "      <th>1</th>\n",
       "      <td>omeprazole</td>\n",
       "      <td>COc1ccc2[nH]c([S+]([O-])Cc3ncc(C)c(OC)c3C)nc2c1</td>\n",
       "      <td>1.0000</td>\n",
       "    </tr>\n",
       "    <tr>\n",
       "      <th>2</th>\n",
       "      <td>pantoprazole</td>\n",
       "      <td>COc1ccnc(C[S+]([O-])c2nc3cc(OC(F)F)ccc3[nH]2)c1OC</td>\n",
       "      <td>0.6531</td>\n",
       "    </tr>\n",
       "    <tr>\n",
       "      <th>3</th>\n",
       "      <td>rabeprazole</td>\n",
       "      <td>COCCCOc1ccnc(C[S+]([O-])c2nc3ccccc3[nH]2)c1C</td>\n",
       "      <td>0.6275</td>\n",
       "    </tr>\n",
       "    <tr>\n",
       "      <th>4</th>\n",
       "      <td>dexlansoprazole</td>\n",
       "      <td>Cc1c(OCC(F)(F)F)ccnc1C[S@@+]([O-])c1nc2ccccc2[...</td>\n",
       "      <td>0.6078</td>\n",
       "    </tr>\n",
       "    <tr>\n",
       "      <th>5</th>\n",
       "      <td>lansoprazole</td>\n",
       "      <td>Cc1c(OCC(F)(F)F)ccnc1C[S+]([O-])c1nc2ccccc2[nH]1</td>\n",
       "      <td>0.6078</td>\n",
       "    </tr>\n",
       "  </tbody>\n",
       "</table>\n",
       "</div>"
      ],
      "text/latex": [
       "\\begin{tabular}{llll}\n",
       "\\toprule\n",
       "{} &             NAME &                                             SMILES & SIMILARITY \\\\\n",
       "\\midrule\n",
       "0 &     esomeprazole &  COc1ccc2[nH]c([S@@+]([O-])Cc3ncc(C)c(OC)c3C)nc2c1 &     1.0000 \\\\\n",
       "1 &       omeprazole &    COc1ccc2[nH]c([S+]([O-])Cc3ncc(C)c(OC)c3C)nc2c1 &     1.0000 \\\\\n",
       "2 &     pantoprazole &  COc1ccnc(C[S+]([O-])c2nc3cc(OC(F)F)ccc3[nH]2)c1OC &     0.6531 \\\\\n",
       "3 &      rabeprazole &       COCCCOc1ccnc(C[S+]([O-])c2nc3ccccc3[nH]2)c1C &     0.6275 \\\\\n",
       "4 &  dexlansoprazole &  Cc1c(OCC(F)(F)F)ccnc1C[S@@+]([O-])c1nc2ccccc2[... &     0.6078 \\\\\n",
       "5 &     lansoprazole &   Cc1c(OCC(F)(F)F)ccnc1C[S+]([O-])c1nc2ccccc2[nH]1 &     0.6078 \\\\\n",
       "\\bottomrule\n",
       "\\end{tabular}\n"
      ],
      "text/plain": [
       "              NAME                                             SMILES  \\\n",
       "0     esomeprazole  COc1ccc2[nH]c([S@@+]([O-])Cc3ncc(C)c(OC)c3C)nc2c1   \n",
       "1       omeprazole    COc1ccc2[nH]c([S+]([O-])Cc3ncc(C)c(OC)c3C)nc2c1   \n",
       "2     pantoprazole  COc1ccnc(C[S+]([O-])c2nc3cc(OC(F)F)ccc3[nH]2)c1OC   \n",
       "3      rabeprazole       COCCCOc1ccnc(C[S+]([O-])c2nc3ccccc3[nH]2)c1C   \n",
       "4  dexlansoprazole  Cc1c(OCC(F)(F)F)ccnc1C[S@@+]([O-])c1nc2ccccc2[...   \n",
       "5     lansoprazole   Cc1c(OCC(F)(F)F)ccnc1C[S+]([O-])c1nc2ccccc2[nH]1   \n",
       "\n",
       "  SIMILARITY  \n",
       "0     1.0000  \n",
       "1     1.0000  \n",
       "2     0.6531  \n",
       "3     0.6275  \n",
       "4     0.6078  \n",
       "5     0.6078  "
      ]
     },
     "execution_count": 5,
     "metadata": {},
     "output_type": "execute_result"
    }
   ],
   "source": [
    "similar_compounds = api.SimilarityService().get(compoundSmile[0])\n",
    "\n",
    "compoundNames = []\n",
    "names = []\n",
    "smiles = []\n",
    "similarities = []\n",
    "\n",
    "if similar_compounds != None:\n",
    "    for similar_compound in similar_compounds:\n",
    "        names.append(similar_compound['name'])\n",
    "        smiles.append(similar_compound['smiles'])\n",
    "        similarities.append(similar_compound['distance'])\n",
    "\n",
    "pd = nb_setup.setup_pandas(escape_latex=False)\n",
    "df = pd.DataFrame(np.random.rand(len(names),3),columns=['NAME','SMILES','SIMILARITY'])\n",
    "df.NAME = names\n",
    "df.SMILES = smiles\n",
    "df.SIMILARITY = similarities\n",
    "df.round(3)"
   ]
  },
  {
   "cell_type": "markdown",
   "metadata": {},
   "source": [
    "# 4. Retrieve data from the preclinical and clinical databases"
   ]
  },
  {
   "cell_type": "code",
   "execution_count": 41,
   "metadata": {},
   "outputs": [
    {
     "name": "stdout",
     "output_type": "stream",
     "text": [
      "Found 8983 studies.\n"
     ]
    }
   ],
   "source": [
    "# studies = api.Medline().getStudiesBySMILES(smiles) + \\\n",
    "#           api.Faers().getStudiesBySMILES(smiles) + \\\n",
    "#           api.ClinicalTrials().getStudiesBySMILES(smiles) + \\\n",
    "studies = api.eToxSys().getStudiesByCompoundNames(names)\n",
    "print(f'Found {len(studies)} studies.')"
   ]
  },
  {
   "cell_type": "markdown",
   "metadata": {},
   "source": [
    "# 5. Aggregate the data per system organ class\n",
    "\n",
    "Since the eTox data reports events with an organ. We use our own method to map it to MedDRA's system organ class to make it comparable"
   ]
  },
  {
   "cell_type": "code",
   "execution_count": 42,
   "metadata": {},
   "outputs": [],
   "source": [
    "system = {}\n",
    "all_compounds = [c.lower() for c in names]\n",
    "socs = {}\n",
    "\n",
    "api.SemanticService().getSocs(studies)\n",
    "for study in studies:\n",
    "    soc = study['FINDING']['__soc']\n",
    "    if soc not in socs:\n",
    "        socs[soc] = study['FINDING']['count']\n",
    "    else:\n",
    "        socs[soc] += study['FINDING']['count']\n",
    "\n",
    "\n",
    "# sort the socs per count\n",
    "all_socs = {k: v for k, v in sorted(socs.items(), key=lambda item: item[1], reverse=True)}\n",
    "\n",
    "\n",
    "# traverse all studies and create a matrix per source\n",
    "for study in studies:\n",
    "    source = study['source']\n",
    "    if not source in system.keys():\n",
    "        system[source] = {'data':np.zeros((len(all_socs),len(all_compounds)), dtype=int).tolist(), \n",
    "                          'rows':list(all_socs.keys()), \n",
    "                          'cols':all_compounds}\n",
    "    \n",
    "    if object is not None:\n",
    "        soc = study['FINDING']['__soc']\n",
    "        row = system[source]['rows'].index(soc)\n",
    "        col = system[source]['cols'].index(study['COMPOUND']['name'].lower())\n",
    "        system[source]['data'][row][col] += study['FINDING']['count']\n",
    "                "
   ]
  },
  {
   "cell_type": "markdown",
   "metadata": {},
   "source": [
    "# 6. Visualize the data using a heatmap\n",
    "\n",
    "Using seaborn to visualize the content of the various databases. Note that we have to think about ways to easier compare the various results."
   ]
  },
  {
   "cell_type": "code",
   "execution_count": 69,
   "metadata": {},
   "outputs": [
    {
     "data": {
      "application/vnd.plotly.v1+json": {
       "config": {
        "plotlyServerURL": "https://plot.ly"
       },
       "data": [
        {
         "branchvalues": "total",
         "domain": {
          "x": [
           0,
           1
          ],
          "y": [
           0,
           1
          ]
         },
         "hovertemplate": "labels=%{label}<br>value=%{value}<br>parent=%{parent}<br>id=%{id}<extra></extra>",
         "ids": [
          "Endocrine disorders/Accessory, adrenal cortical tissue/Esomeprazole",
          "Respiratory, thoracic and mediastinal disorders/Aggregation, alveolar macrophages: terminal bronchioles/alveoli/Esomeprazole",
          "Reproductive system and breast disorders/Atrophy, tubule/Esomeprazole",
          "Endocrine disorders/Cyst/Esomeprazole",
          "General disorders and administration site conditions/Cyst/Esomeprazole",
          "Neoplasms benign, malignant and unspecified (incl cysts and polyps)/Cyst/Esomeprazole",
          "Hepatobiliary disorders/Granuloma/Esomeprazole",
          "Renal and urinary disorders/Granuloma/Esomeprazole",
          "Respiratory, thoracic and mediastinal disorders/Granuloma/Esomeprazole",
          "Respiratory, thoracic and mediastinal disorders/Granuloma, parasitic/Esomeprazole",
          "Renal and urinary disorders/Infiltrate, inflammatory cell/Esomeprazole",
          "Respiratory, thoracic and mediastinal disorders/Infiltrate, inflammatory cell/Esomeprazole",
          "General disorders and administration site conditions/Inflammation/Esomeprazole",
          "Hepatobiliary disorders/Inflammation/Esomeprazole",
          "Renal and urinary disorders/Inflammation/Esomeprazole",
          "Eye disorders/Inflammation, lymphohistioplasmacytic/Esomeprazole",
          "Hepatobiliary disorders/Inflammation, mixed-cell/Esomeprazole",
          "Endocrine disorders/Lymphohistioplasmacytic inflammatory cell infiltration/Esomeprazole",
          "Gastrointestinal disorders/Lymphohistioplasmacytic inflammatory cell infiltration/Esomeprazole",
          "Hepatobiliary disorders/Lymphohistioplasmacytic inflammatory cell infiltration/Esomeprazole",
          "Skin and subcutaneous tissue disorders/Lymphohistioplasmacytic inflammatory cell infiltration/Esomeprazole",
          "Renal and urinary disorders/Mineralization/Esomeprazole",
          "Respiratory, thoracic and mediastinal disorders/Mineralization/Esomeprazole",
          "Other/No abnormalities detected/Esomeprazole",
          "Infections and infestations/Reduced sperm, luminal/Esomeprazole",
          "Endocrine disorders/Accessory, adrenal cortical tissue",
          "Respiratory, thoracic and mediastinal disorders/Aggregation, alveolar macrophages: terminal bronchioles/alveoli",
          "Reproductive system and breast disorders/Atrophy, tubule",
          "Endocrine disorders/Cyst",
          "General disorders and administration site conditions/Cyst",
          "Neoplasms benign, malignant and unspecified (incl cysts and polyps)/Cyst",
          "Hepatobiliary disorders/Granuloma",
          "Renal and urinary disorders/Granuloma",
          "Respiratory, thoracic and mediastinal disorders/Granuloma",
          "Respiratory, thoracic and mediastinal disorders/Granuloma, parasitic",
          "Renal and urinary disorders/Infiltrate, inflammatory cell",
          "Respiratory, thoracic and mediastinal disorders/Infiltrate, inflammatory cell",
          "General disorders and administration site conditions/Inflammation",
          "Hepatobiliary disorders/Inflammation",
          "Renal and urinary disorders/Inflammation",
          "Eye disorders/Inflammation, lymphohistioplasmacytic",
          "Hepatobiliary disorders/Inflammation, mixed-cell",
          "Endocrine disorders/Lymphohistioplasmacytic inflammatory cell infiltration",
          "Gastrointestinal disorders/Lymphohistioplasmacytic inflammatory cell infiltration",
          "Hepatobiliary disorders/Lymphohistioplasmacytic inflammatory cell infiltration",
          "Skin and subcutaneous tissue disorders/Lymphohistioplasmacytic inflammatory cell infiltration",
          "Renal and urinary disorders/Mineralization",
          "Respiratory, thoracic and mediastinal disorders/Mineralization",
          "Other/No abnormalities detected",
          "Infections and infestations/Reduced sperm, luminal",
          "Endocrine disorders",
          "Eye disorders",
          "Gastrointestinal disorders",
          "General disorders and administration site conditions",
          "Hepatobiliary disorders",
          "Infections and infestations",
          "Neoplasms benign, malignant and unspecified (incl cysts and polyps)",
          "Other",
          "Renal and urinary disorders",
          "Reproductive system and breast disorders",
          "Respiratory, thoracic and mediastinal disorders",
          "Skin and subcutaneous tissue disorders"
         ],
         "labels": [
          "Esomeprazole",
          "Esomeprazole",
          "Esomeprazole",
          "Esomeprazole",
          "Esomeprazole",
          "Esomeprazole",
          "Esomeprazole",
          "Esomeprazole",
          "Esomeprazole",
          "Esomeprazole",
          "Esomeprazole",
          "Esomeprazole",
          "Esomeprazole",
          "Esomeprazole",
          "Esomeprazole",
          "Esomeprazole",
          "Esomeprazole",
          "Esomeprazole",
          "Esomeprazole",
          "Esomeprazole",
          "Esomeprazole",
          "Esomeprazole",
          "Esomeprazole",
          "Esomeprazole",
          "Esomeprazole",
          "Accessory, adrenal cortical tissue",
          "Aggregation, alveolar macrophages: terminal bronchioles/alveoli",
          "Atrophy, tubule",
          "Cyst",
          "Cyst",
          "Cyst",
          "Granuloma",
          "Granuloma",
          "Granuloma",
          "Granuloma, parasitic",
          "Infiltrate, inflammatory cell",
          "Infiltrate, inflammatory cell",
          "Inflammation",
          "Inflammation",
          "Inflammation",
          "Inflammation, lymphohistioplasmacytic",
          "Inflammation, mixed-cell",
          "Lymphohistioplasmacytic inflammatory cell infiltration",
          "Lymphohistioplasmacytic inflammatory cell infiltration",
          "Lymphohistioplasmacytic inflammatory cell infiltration",
          "Lymphohistioplasmacytic inflammatory cell infiltration",
          "Mineralization",
          "Mineralization",
          "No abnormalities detected",
          "Reduced sperm, luminal",
          "Endocrine disorders",
          "Eye disorders",
          "Gastrointestinal disorders",
          "General disorders and administration site conditions",
          "Hepatobiliary disorders",
          "Infections and infestations",
          "Neoplasms benign, malignant and unspecified (incl cysts and polyps)",
          "Other",
          "Renal and urinary disorders",
          "Reproductive system and breast disorders",
          "Respiratory, thoracic and mediastinal disorders",
          "Skin and subcutaneous tissue disorders"
         ],
         "name": "",
         "parents": [
          "Endocrine disorders/Accessory, adrenal cortical tissue",
          "Respiratory, thoracic and mediastinal disorders/Aggregation, alveolar macrophages: terminal bronchioles/alveoli",
          "Reproductive system and breast disorders/Atrophy, tubule",
          "Endocrine disorders/Cyst",
          "General disorders and administration site conditions/Cyst",
          "Neoplasms benign, malignant and unspecified (incl cysts and polyps)/Cyst",
          "Hepatobiliary disorders/Granuloma",
          "Renal and urinary disorders/Granuloma",
          "Respiratory, thoracic and mediastinal disorders/Granuloma",
          "Respiratory, thoracic and mediastinal disorders/Granuloma, parasitic",
          "Renal and urinary disorders/Infiltrate, inflammatory cell",
          "Respiratory, thoracic and mediastinal disorders/Infiltrate, inflammatory cell",
          "General disorders and administration site conditions/Inflammation",
          "Hepatobiliary disorders/Inflammation",
          "Renal and urinary disorders/Inflammation",
          "Eye disorders/Inflammation, lymphohistioplasmacytic",
          "Hepatobiliary disorders/Inflammation, mixed-cell",
          "Endocrine disorders/Lymphohistioplasmacytic inflammatory cell infiltration",
          "Gastrointestinal disorders/Lymphohistioplasmacytic inflammatory cell infiltration",
          "Hepatobiliary disorders/Lymphohistioplasmacytic inflammatory cell infiltration",
          "Skin and subcutaneous tissue disorders/Lymphohistioplasmacytic inflammatory cell infiltration",
          "Renal and urinary disorders/Mineralization",
          "Respiratory, thoracic and mediastinal disorders/Mineralization",
          "Other/No abnormalities detected",
          "Infections and infestations/Reduced sperm, luminal",
          "Endocrine disorders",
          "Respiratory, thoracic and mediastinal disorders",
          "Reproductive system and breast disorders",
          "Endocrine disorders",
          "General disorders and administration site conditions",
          "Neoplasms benign, malignant and unspecified (incl cysts and polyps)",
          "Hepatobiliary disorders",
          "Renal and urinary disorders",
          "Respiratory, thoracic and mediastinal disorders",
          "Respiratory, thoracic and mediastinal disorders",
          "Renal and urinary disorders",
          "Respiratory, thoracic and mediastinal disorders",
          "General disorders and administration site conditions",
          "Hepatobiliary disorders",
          "Renal and urinary disorders",
          "Eye disorders",
          "Hepatobiliary disorders",
          "Endocrine disorders",
          "Gastrointestinal disorders",
          "Hepatobiliary disorders",
          "Skin and subcutaneous tissue disorders",
          "Renal and urinary disorders",
          "Respiratory, thoracic and mediastinal disorders",
          "Other",
          "Infections and infestations",
          "",
          "",
          "",
          "",
          "",
          "",
          "",
          "",
          "",
          "",
          "",
          ""
         ],
         "type": "sunburst",
         "values": [
          4,
          4,
          2,
          2,
          2,
          2,
          2,
          12,
          2,
          2,
          2,
          8,
          2,
          4,
          4,
          2,
          4,
          2,
          4,
          4,
          2,
          2,
          2,
          133,
          2,
          4,
          4,
          2,
          2,
          2,
          2,
          2,
          12,
          2,
          2,
          2,
          8,
          2,
          4,
          4,
          2,
          4,
          2,
          4,
          4,
          2,
          2,
          2,
          133,
          2,
          8,
          2,
          4,
          4,
          14,
          2,
          2,
          133,
          20,
          2,
          18,
          2
         ]
        }
       ],
       "layout": {
        "legend": {
         "tracegroupgap": 0
        },
        "template": {
         "data": {
          "bar": [
           {
            "error_x": {
             "color": "#2a3f5f"
            },
            "error_y": {
             "color": "#2a3f5f"
            },
            "marker": {
             "line": {
              "color": "#E5ECF6",
              "width": 0.5
             }
            },
            "type": "bar"
           }
          ],
          "barpolar": [
           {
            "marker": {
             "line": {
              "color": "#E5ECF6",
              "width": 0.5
             }
            },
            "type": "barpolar"
           }
          ],
          "carpet": [
           {
            "aaxis": {
             "endlinecolor": "#2a3f5f",
             "gridcolor": "white",
             "linecolor": "white",
             "minorgridcolor": "white",
             "startlinecolor": "#2a3f5f"
            },
            "baxis": {
             "endlinecolor": "#2a3f5f",
             "gridcolor": "white",
             "linecolor": "white",
             "minorgridcolor": "white",
             "startlinecolor": "#2a3f5f"
            },
            "type": "carpet"
           }
          ],
          "choropleth": [
           {
            "colorbar": {
             "outlinewidth": 0,
             "ticks": ""
            },
            "type": "choropleth"
           }
          ],
          "contour": [
           {
            "colorbar": {
             "outlinewidth": 0,
             "ticks": ""
            },
            "colorscale": [
             [
              0,
              "#0d0887"
             ],
             [
              0.1111111111111111,
              "#46039f"
             ],
             [
              0.2222222222222222,
              "#7201a8"
             ],
             [
              0.3333333333333333,
              "#9c179e"
             ],
             [
              0.4444444444444444,
              "#bd3786"
             ],
             [
              0.5555555555555556,
              "#d8576b"
             ],
             [
              0.6666666666666666,
              "#ed7953"
             ],
             [
              0.7777777777777778,
              "#fb9f3a"
             ],
             [
              0.8888888888888888,
              "#fdca26"
             ],
             [
              1,
              "#f0f921"
             ]
            ],
            "type": "contour"
           }
          ],
          "contourcarpet": [
           {
            "colorbar": {
             "outlinewidth": 0,
             "ticks": ""
            },
            "type": "contourcarpet"
           }
          ],
          "heatmap": [
           {
            "colorbar": {
             "outlinewidth": 0,
             "ticks": ""
            },
            "colorscale": [
             [
              0,
              "#0d0887"
             ],
             [
              0.1111111111111111,
              "#46039f"
             ],
             [
              0.2222222222222222,
              "#7201a8"
             ],
             [
              0.3333333333333333,
              "#9c179e"
             ],
             [
              0.4444444444444444,
              "#bd3786"
             ],
             [
              0.5555555555555556,
              "#d8576b"
             ],
             [
              0.6666666666666666,
              "#ed7953"
             ],
             [
              0.7777777777777778,
              "#fb9f3a"
             ],
             [
              0.8888888888888888,
              "#fdca26"
             ],
             [
              1,
              "#f0f921"
             ]
            ],
            "type": "heatmap"
           }
          ],
          "heatmapgl": [
           {
            "colorbar": {
             "outlinewidth": 0,
             "ticks": ""
            },
            "colorscale": [
             [
              0,
              "#0d0887"
             ],
             [
              0.1111111111111111,
              "#46039f"
             ],
             [
              0.2222222222222222,
              "#7201a8"
             ],
             [
              0.3333333333333333,
              "#9c179e"
             ],
             [
              0.4444444444444444,
              "#bd3786"
             ],
             [
              0.5555555555555556,
              "#d8576b"
             ],
             [
              0.6666666666666666,
              "#ed7953"
             ],
             [
              0.7777777777777778,
              "#fb9f3a"
             ],
             [
              0.8888888888888888,
              "#fdca26"
             ],
             [
              1,
              "#f0f921"
             ]
            ],
            "type": "heatmapgl"
           }
          ],
          "histogram": [
           {
            "marker": {
             "colorbar": {
              "outlinewidth": 0,
              "ticks": ""
             }
            },
            "type": "histogram"
           }
          ],
          "histogram2d": [
           {
            "colorbar": {
             "outlinewidth": 0,
             "ticks": ""
            },
            "colorscale": [
             [
              0,
              "#0d0887"
             ],
             [
              0.1111111111111111,
              "#46039f"
             ],
             [
              0.2222222222222222,
              "#7201a8"
             ],
             [
              0.3333333333333333,
              "#9c179e"
             ],
             [
              0.4444444444444444,
              "#bd3786"
             ],
             [
              0.5555555555555556,
              "#d8576b"
             ],
             [
              0.6666666666666666,
              "#ed7953"
             ],
             [
              0.7777777777777778,
              "#fb9f3a"
             ],
             [
              0.8888888888888888,
              "#fdca26"
             ],
             [
              1,
              "#f0f921"
             ]
            ],
            "type": "histogram2d"
           }
          ],
          "histogram2dcontour": [
           {
            "colorbar": {
             "outlinewidth": 0,
             "ticks": ""
            },
            "colorscale": [
             [
              0,
              "#0d0887"
             ],
             [
              0.1111111111111111,
              "#46039f"
             ],
             [
              0.2222222222222222,
              "#7201a8"
             ],
             [
              0.3333333333333333,
              "#9c179e"
             ],
             [
              0.4444444444444444,
              "#bd3786"
             ],
             [
              0.5555555555555556,
              "#d8576b"
             ],
             [
              0.6666666666666666,
              "#ed7953"
             ],
             [
              0.7777777777777778,
              "#fb9f3a"
             ],
             [
              0.8888888888888888,
              "#fdca26"
             ],
             [
              1,
              "#f0f921"
             ]
            ],
            "type": "histogram2dcontour"
           }
          ],
          "mesh3d": [
           {
            "colorbar": {
             "outlinewidth": 0,
             "ticks": ""
            },
            "type": "mesh3d"
           }
          ],
          "parcoords": [
           {
            "line": {
             "colorbar": {
              "outlinewidth": 0,
              "ticks": ""
             }
            },
            "type": "parcoords"
           }
          ],
          "pie": [
           {
            "automargin": true,
            "type": "pie"
           }
          ],
          "scatter": [
           {
            "marker": {
             "colorbar": {
              "outlinewidth": 0,
              "ticks": ""
             }
            },
            "type": "scatter"
           }
          ],
          "scatter3d": [
           {
            "line": {
             "colorbar": {
              "outlinewidth": 0,
              "ticks": ""
             }
            },
            "marker": {
             "colorbar": {
              "outlinewidth": 0,
              "ticks": ""
             }
            },
            "type": "scatter3d"
           }
          ],
          "scattercarpet": [
           {
            "marker": {
             "colorbar": {
              "outlinewidth": 0,
              "ticks": ""
             }
            },
            "type": "scattercarpet"
           }
          ],
          "scattergeo": [
           {
            "marker": {
             "colorbar": {
              "outlinewidth": 0,
              "ticks": ""
             }
            },
            "type": "scattergeo"
           }
          ],
          "scattergl": [
           {
            "marker": {
             "colorbar": {
              "outlinewidth": 0,
              "ticks": ""
             }
            },
            "type": "scattergl"
           }
          ],
          "scattermapbox": [
           {
            "marker": {
             "colorbar": {
              "outlinewidth": 0,
              "ticks": ""
             }
            },
            "type": "scattermapbox"
           }
          ],
          "scatterpolar": [
           {
            "marker": {
             "colorbar": {
              "outlinewidth": 0,
              "ticks": ""
             }
            },
            "type": "scatterpolar"
           }
          ],
          "scatterpolargl": [
           {
            "marker": {
             "colorbar": {
              "outlinewidth": 0,
              "ticks": ""
             }
            },
            "type": "scatterpolargl"
           }
          ],
          "scatterternary": [
           {
            "marker": {
             "colorbar": {
              "outlinewidth": 0,
              "ticks": ""
             }
            },
            "type": "scatterternary"
           }
          ],
          "surface": [
           {
            "colorbar": {
             "outlinewidth": 0,
             "ticks": ""
            },
            "colorscale": [
             [
              0,
              "#0d0887"
             ],
             [
              0.1111111111111111,
              "#46039f"
             ],
             [
              0.2222222222222222,
              "#7201a8"
             ],
             [
              0.3333333333333333,
              "#9c179e"
             ],
             [
              0.4444444444444444,
              "#bd3786"
             ],
             [
              0.5555555555555556,
              "#d8576b"
             ],
             [
              0.6666666666666666,
              "#ed7953"
             ],
             [
              0.7777777777777778,
              "#fb9f3a"
             ],
             [
              0.8888888888888888,
              "#fdca26"
             ],
             [
              1,
              "#f0f921"
             ]
            ],
            "type": "surface"
           }
          ],
          "table": [
           {
            "cells": {
             "fill": {
              "color": "#EBF0F8"
             },
             "line": {
              "color": "white"
             }
            },
            "header": {
             "fill": {
              "color": "#C8D4E3"
             },
             "line": {
              "color": "white"
             }
            },
            "type": "table"
           }
          ]
         },
         "layout": {
          "annotationdefaults": {
           "arrowcolor": "#2a3f5f",
           "arrowhead": 0,
           "arrowwidth": 1
          },
          "autotypenumbers": "strict",
          "coloraxis": {
           "colorbar": {
            "outlinewidth": 0,
            "ticks": ""
           }
          },
          "colorscale": {
           "diverging": [
            [
             0,
             "#8e0152"
            ],
            [
             0.1,
             "#c51b7d"
            ],
            [
             0.2,
             "#de77ae"
            ],
            [
             0.3,
             "#f1b6da"
            ],
            [
             0.4,
             "#fde0ef"
            ],
            [
             0.5,
             "#f7f7f7"
            ],
            [
             0.6,
             "#e6f5d0"
            ],
            [
             0.7,
             "#b8e186"
            ],
            [
             0.8,
             "#7fbc41"
            ],
            [
             0.9,
             "#4d9221"
            ],
            [
             1,
             "#276419"
            ]
           ],
           "sequential": [
            [
             0,
             "#0d0887"
            ],
            [
             0.1111111111111111,
             "#46039f"
            ],
            [
             0.2222222222222222,
             "#7201a8"
            ],
            [
             0.3333333333333333,
             "#9c179e"
            ],
            [
             0.4444444444444444,
             "#bd3786"
            ],
            [
             0.5555555555555556,
             "#d8576b"
            ],
            [
             0.6666666666666666,
             "#ed7953"
            ],
            [
             0.7777777777777778,
             "#fb9f3a"
            ],
            [
             0.8888888888888888,
             "#fdca26"
            ],
            [
             1,
             "#f0f921"
            ]
           ],
           "sequentialminus": [
            [
             0,
             "#0d0887"
            ],
            [
             0.1111111111111111,
             "#46039f"
            ],
            [
             0.2222222222222222,
             "#7201a8"
            ],
            [
             0.3333333333333333,
             "#9c179e"
            ],
            [
             0.4444444444444444,
             "#bd3786"
            ],
            [
             0.5555555555555556,
             "#d8576b"
            ],
            [
             0.6666666666666666,
             "#ed7953"
            ],
            [
             0.7777777777777778,
             "#fb9f3a"
            ],
            [
             0.8888888888888888,
             "#fdca26"
            ],
            [
             1,
             "#f0f921"
            ]
           ]
          },
          "colorway": [
           "#636efa",
           "#EF553B",
           "#00cc96",
           "#ab63fa",
           "#FFA15A",
           "#19d3f3",
           "#FF6692",
           "#B6E880",
           "#FF97FF",
           "#FECB52"
          ],
          "font": {
           "color": "#2a3f5f"
          },
          "geo": {
           "bgcolor": "white",
           "lakecolor": "white",
           "landcolor": "#E5ECF6",
           "showlakes": true,
           "showland": true,
           "subunitcolor": "white"
          },
          "hoverlabel": {
           "align": "left"
          },
          "hovermode": "closest",
          "mapbox": {
           "style": "light"
          },
          "paper_bgcolor": "white",
          "plot_bgcolor": "#E5ECF6",
          "polar": {
           "angularaxis": {
            "gridcolor": "white",
            "linecolor": "white",
            "ticks": ""
           },
           "bgcolor": "#E5ECF6",
           "radialaxis": {
            "gridcolor": "white",
            "linecolor": "white",
            "ticks": ""
           }
          },
          "scene": {
           "xaxis": {
            "backgroundcolor": "#E5ECF6",
            "gridcolor": "white",
            "gridwidth": 2,
            "linecolor": "white",
            "showbackground": true,
            "ticks": "",
            "zerolinecolor": "white"
           },
           "yaxis": {
            "backgroundcolor": "#E5ECF6",
            "gridcolor": "white",
            "gridwidth": 2,
            "linecolor": "white",
            "showbackground": true,
            "ticks": "",
            "zerolinecolor": "white"
           },
           "zaxis": {
            "backgroundcolor": "#E5ECF6",
            "gridcolor": "white",
            "gridwidth": 2,
            "linecolor": "white",
            "showbackground": true,
            "ticks": "",
            "zerolinecolor": "white"
           }
          },
          "shapedefaults": {
           "line": {
            "color": "#2a3f5f"
           }
          },
          "ternary": {
           "aaxis": {
            "gridcolor": "white",
            "linecolor": "white",
            "ticks": ""
           },
           "baxis": {
            "gridcolor": "white",
            "linecolor": "white",
            "ticks": ""
           },
           "bgcolor": "#E5ECF6",
           "caxis": {
            "gridcolor": "white",
            "linecolor": "white",
            "ticks": ""
           }
          },
          "title": {
           "x": 0.05
          },
          "xaxis": {
           "automargin": true,
           "gridcolor": "white",
           "linecolor": "white",
           "ticks": "",
           "title": {
            "standoff": 15
           },
           "zerolinecolor": "white",
           "zerolinewidth": 2
          },
          "yaxis": {
           "automargin": true,
           "gridcolor": "white",
           "linecolor": "white",
           "ticks": "",
           "title": {
            "standoff": 15
           },
           "zerolinecolor": "white",
           "zerolinewidth": 2
          }
         }
        },
        "title": {
         "text": "Content of the eTOXsys database"
        }
       }
      },
      "text/html": [
       "<div>                            <div id=\"d630d594-b3ae-44d0-905b-07f2285f7a4b\" class=\"plotly-graph-div\" style=\"height:525px; width:100%;\"></div>            <script type=\"text/javascript\">                require([\"plotly\"], function(Plotly) {                    window.PLOTLYENV=window.PLOTLYENV || {};                                    if (document.getElementById(\"d630d594-b3ae-44d0-905b-07f2285f7a4b\")) {                    Plotly.newPlot(                        \"d630d594-b3ae-44d0-905b-07f2285f7a4b\",                        [{\"branchvalues\": \"total\", \"domain\": {\"x\": [0.0, 1.0], \"y\": [0.0, 1.0]}, \"hovertemplate\": \"labels=%{label}<br>value=%{value}<br>parent=%{parent}<br>id=%{id}<extra></extra>\", \"ids\": [\"Endocrine disorders/Accessory, adrenal cortical tissue/Esomeprazole\", \"Respiratory, thoracic and mediastinal disorders/Aggregation, alveolar macrophages: terminal bronchioles/alveoli/Esomeprazole\", \"Reproductive system and breast disorders/Atrophy, tubule/Esomeprazole\", \"Endocrine disorders/Cyst/Esomeprazole\", \"General disorders and administration site conditions/Cyst/Esomeprazole\", \"Neoplasms benign, malignant and unspecified (incl cysts and polyps)/Cyst/Esomeprazole\", \"Hepatobiliary disorders/Granuloma/Esomeprazole\", \"Renal and urinary disorders/Granuloma/Esomeprazole\", \"Respiratory, thoracic and mediastinal disorders/Granuloma/Esomeprazole\", \"Respiratory, thoracic and mediastinal disorders/Granuloma, parasitic/Esomeprazole\", \"Renal and urinary disorders/Infiltrate, inflammatory cell/Esomeprazole\", \"Respiratory, thoracic and mediastinal disorders/Infiltrate, inflammatory cell/Esomeprazole\", \"General disorders and administration site conditions/Inflammation/Esomeprazole\", \"Hepatobiliary disorders/Inflammation/Esomeprazole\", \"Renal and urinary disorders/Inflammation/Esomeprazole\", \"Eye disorders/Inflammation, lymphohistioplasmacytic/Esomeprazole\", \"Hepatobiliary disorders/Inflammation, mixed-cell/Esomeprazole\", \"Endocrine disorders/Lymphohistioplasmacytic inflammatory cell infiltration/Esomeprazole\", \"Gastrointestinal disorders/Lymphohistioplasmacytic inflammatory cell infiltration/Esomeprazole\", \"Hepatobiliary disorders/Lymphohistioplasmacytic inflammatory cell infiltration/Esomeprazole\", \"Skin and subcutaneous tissue disorders/Lymphohistioplasmacytic inflammatory cell infiltration/Esomeprazole\", \"Renal and urinary disorders/Mineralization/Esomeprazole\", \"Respiratory, thoracic and mediastinal disorders/Mineralization/Esomeprazole\", \"Other/No abnormalities detected/Esomeprazole\", \"Infections and infestations/Reduced sperm, luminal/Esomeprazole\", \"Endocrine disorders/Accessory, adrenal cortical tissue\", \"Respiratory, thoracic and mediastinal disorders/Aggregation, alveolar macrophages: terminal bronchioles/alveoli\", \"Reproductive system and breast disorders/Atrophy, tubule\", \"Endocrine disorders/Cyst\", \"General disorders and administration site conditions/Cyst\", \"Neoplasms benign, malignant and unspecified (incl cysts and polyps)/Cyst\", \"Hepatobiliary disorders/Granuloma\", \"Renal and urinary disorders/Granuloma\", \"Respiratory, thoracic and mediastinal disorders/Granuloma\", \"Respiratory, thoracic and mediastinal disorders/Granuloma, parasitic\", \"Renal and urinary disorders/Infiltrate, inflammatory cell\", \"Respiratory, thoracic and mediastinal disorders/Infiltrate, inflammatory cell\", \"General disorders and administration site conditions/Inflammation\", \"Hepatobiliary disorders/Inflammation\", \"Renal and urinary disorders/Inflammation\", \"Eye disorders/Inflammation, lymphohistioplasmacytic\", \"Hepatobiliary disorders/Inflammation, mixed-cell\", \"Endocrine disorders/Lymphohistioplasmacytic inflammatory cell infiltration\", \"Gastrointestinal disorders/Lymphohistioplasmacytic inflammatory cell infiltration\", \"Hepatobiliary disorders/Lymphohistioplasmacytic inflammatory cell infiltration\", \"Skin and subcutaneous tissue disorders/Lymphohistioplasmacytic inflammatory cell infiltration\", \"Renal and urinary disorders/Mineralization\", \"Respiratory, thoracic and mediastinal disorders/Mineralization\", \"Other/No abnormalities detected\", \"Infections and infestations/Reduced sperm, luminal\", \"Endocrine disorders\", \"Eye disorders\", \"Gastrointestinal disorders\", \"General disorders and administration site conditions\", \"Hepatobiliary disorders\", \"Infections and infestations\", \"Neoplasms benign, malignant and unspecified (incl cysts and polyps)\", \"Other\", \"Renal and urinary disorders\", \"Reproductive system and breast disorders\", \"Respiratory, thoracic and mediastinal disorders\", \"Skin and subcutaneous tissue disorders\"], \"labels\": [\"Esomeprazole\", \"Esomeprazole\", \"Esomeprazole\", \"Esomeprazole\", \"Esomeprazole\", \"Esomeprazole\", \"Esomeprazole\", \"Esomeprazole\", \"Esomeprazole\", \"Esomeprazole\", \"Esomeprazole\", \"Esomeprazole\", \"Esomeprazole\", \"Esomeprazole\", \"Esomeprazole\", \"Esomeprazole\", \"Esomeprazole\", \"Esomeprazole\", \"Esomeprazole\", \"Esomeprazole\", \"Esomeprazole\", \"Esomeprazole\", \"Esomeprazole\", \"Esomeprazole\", \"Esomeprazole\", \"Accessory, adrenal cortical tissue\", \"Aggregation, alveolar macrophages: terminal bronchioles/alveoli\", \"Atrophy, tubule\", \"Cyst\", \"Cyst\", \"Cyst\", \"Granuloma\", \"Granuloma\", \"Granuloma\", \"Granuloma, parasitic\", \"Infiltrate, inflammatory cell\", \"Infiltrate, inflammatory cell\", \"Inflammation\", \"Inflammation\", \"Inflammation\", \"Inflammation, lymphohistioplasmacytic\", \"Inflammation, mixed-cell\", \"Lymphohistioplasmacytic inflammatory cell infiltration\", \"Lymphohistioplasmacytic inflammatory cell infiltration\", \"Lymphohistioplasmacytic inflammatory cell infiltration\", \"Lymphohistioplasmacytic inflammatory cell infiltration\", \"Mineralization\", \"Mineralization\", \"No abnormalities detected\", \"Reduced sperm, luminal\", \"Endocrine disorders\", \"Eye disorders\", \"Gastrointestinal disorders\", \"General disorders and administration site conditions\", \"Hepatobiliary disorders\", \"Infections and infestations\", \"Neoplasms benign, malignant and unspecified (incl cysts and polyps)\", \"Other\", \"Renal and urinary disorders\", \"Reproductive system and breast disorders\", \"Respiratory, thoracic and mediastinal disorders\", \"Skin and subcutaneous tissue disorders\"], \"name\": \"\", \"parents\": [\"Endocrine disorders/Accessory, adrenal cortical tissue\", \"Respiratory, thoracic and mediastinal disorders/Aggregation, alveolar macrophages: terminal bronchioles/alveoli\", \"Reproductive system and breast disorders/Atrophy, tubule\", \"Endocrine disorders/Cyst\", \"General disorders and administration site conditions/Cyst\", \"Neoplasms benign, malignant and unspecified (incl cysts and polyps)/Cyst\", \"Hepatobiliary disorders/Granuloma\", \"Renal and urinary disorders/Granuloma\", \"Respiratory, thoracic and mediastinal disorders/Granuloma\", \"Respiratory, thoracic and mediastinal disorders/Granuloma, parasitic\", \"Renal and urinary disorders/Infiltrate, inflammatory cell\", \"Respiratory, thoracic and mediastinal disorders/Infiltrate, inflammatory cell\", \"General disorders and administration site conditions/Inflammation\", \"Hepatobiliary disorders/Inflammation\", \"Renal and urinary disorders/Inflammation\", \"Eye disorders/Inflammation, lymphohistioplasmacytic\", \"Hepatobiliary disorders/Inflammation, mixed-cell\", \"Endocrine disorders/Lymphohistioplasmacytic inflammatory cell infiltration\", \"Gastrointestinal disorders/Lymphohistioplasmacytic inflammatory cell infiltration\", \"Hepatobiliary disorders/Lymphohistioplasmacytic inflammatory cell infiltration\", \"Skin and subcutaneous tissue disorders/Lymphohistioplasmacytic inflammatory cell infiltration\", \"Renal and urinary disorders/Mineralization\", \"Respiratory, thoracic and mediastinal disorders/Mineralization\", \"Other/No abnormalities detected\", \"Infections and infestations/Reduced sperm, luminal\", \"Endocrine disorders\", \"Respiratory, thoracic and mediastinal disorders\", \"Reproductive system and breast disorders\", \"Endocrine disorders\", \"General disorders and administration site conditions\", \"Neoplasms benign, malignant and unspecified (incl cysts and polyps)\", \"Hepatobiliary disorders\", \"Renal and urinary disorders\", \"Respiratory, thoracic and mediastinal disorders\", \"Respiratory, thoracic and mediastinal disorders\", \"Renal and urinary disorders\", \"Respiratory, thoracic and mediastinal disorders\", \"General disorders and administration site conditions\", \"Hepatobiliary disorders\", \"Renal and urinary disorders\", \"Eye disorders\", \"Hepatobiliary disorders\", \"Endocrine disorders\", \"Gastrointestinal disorders\", \"Hepatobiliary disorders\", \"Skin and subcutaneous tissue disorders\", \"Renal and urinary disorders\", \"Respiratory, thoracic and mediastinal disorders\", \"Other\", \"Infections and infestations\", \"\", \"\", \"\", \"\", \"\", \"\", \"\", \"\", \"\", \"\", \"\", \"\"], \"type\": \"sunburst\", \"values\": [4, 4, 2, 2, 2, 2, 2, 12, 2, 2, 2, 8, 2, 4, 4, 2, 4, 2, 4, 4, 2, 2, 2, 133, 2, 4, 4, 2, 2, 2, 2, 2, 12, 2, 2, 2, 8, 2, 4, 4, 2, 4, 2, 4, 4, 2, 2, 2, 133, 2, 8, 2, 4, 4, 14, 2, 2, 133, 20, 2, 18, 2]}],                        {\"legend\": {\"tracegroupgap\": 0}, \"template\": {\"data\": {\"bar\": [{\"error_x\": {\"color\": \"#2a3f5f\"}, \"error_y\": {\"color\": \"#2a3f5f\"}, \"marker\": {\"line\": {\"color\": \"#E5ECF6\", \"width\": 0.5}}, \"type\": \"bar\"}], \"barpolar\": [{\"marker\": {\"line\": {\"color\": \"#E5ECF6\", \"width\": 0.5}}, \"type\": \"barpolar\"}], \"carpet\": [{\"aaxis\": {\"endlinecolor\": \"#2a3f5f\", \"gridcolor\": \"white\", \"linecolor\": \"white\", \"minorgridcolor\": \"white\", \"startlinecolor\": \"#2a3f5f\"}, \"baxis\": {\"endlinecolor\": \"#2a3f5f\", \"gridcolor\": \"white\", \"linecolor\": \"white\", \"minorgridcolor\": \"white\", \"startlinecolor\": \"#2a3f5f\"}, \"type\": \"carpet\"}], \"choropleth\": [{\"colorbar\": {\"outlinewidth\": 0, \"ticks\": \"\"}, \"type\": \"choropleth\"}], \"contour\": [{\"colorbar\": {\"outlinewidth\": 0, \"ticks\": \"\"}, \"colorscale\": [[0.0, \"#0d0887\"], [0.1111111111111111, \"#46039f\"], [0.2222222222222222, \"#7201a8\"], [0.3333333333333333, \"#9c179e\"], [0.4444444444444444, \"#bd3786\"], [0.5555555555555556, \"#d8576b\"], [0.6666666666666666, \"#ed7953\"], [0.7777777777777778, \"#fb9f3a\"], [0.8888888888888888, \"#fdca26\"], [1.0, \"#f0f921\"]], \"type\": \"contour\"}], \"contourcarpet\": [{\"colorbar\": {\"outlinewidth\": 0, \"ticks\": \"\"}, \"type\": \"contourcarpet\"}], \"heatmap\": [{\"colorbar\": {\"outlinewidth\": 0, \"ticks\": \"\"}, \"colorscale\": [[0.0, \"#0d0887\"], [0.1111111111111111, \"#46039f\"], [0.2222222222222222, \"#7201a8\"], [0.3333333333333333, \"#9c179e\"], [0.4444444444444444, \"#bd3786\"], [0.5555555555555556, \"#d8576b\"], [0.6666666666666666, \"#ed7953\"], [0.7777777777777778, \"#fb9f3a\"], [0.8888888888888888, \"#fdca26\"], [1.0, \"#f0f921\"]], \"type\": \"heatmap\"}], \"heatmapgl\": [{\"colorbar\": {\"outlinewidth\": 0, \"ticks\": \"\"}, \"colorscale\": [[0.0, \"#0d0887\"], [0.1111111111111111, \"#46039f\"], [0.2222222222222222, \"#7201a8\"], [0.3333333333333333, \"#9c179e\"], [0.4444444444444444, \"#bd3786\"], [0.5555555555555556, \"#d8576b\"], [0.6666666666666666, \"#ed7953\"], [0.7777777777777778, \"#fb9f3a\"], [0.8888888888888888, \"#fdca26\"], [1.0, \"#f0f921\"]], \"type\": \"heatmapgl\"}], \"histogram\": [{\"marker\": {\"colorbar\": {\"outlinewidth\": 0, \"ticks\": \"\"}}, \"type\": \"histogram\"}], \"histogram2d\": [{\"colorbar\": {\"outlinewidth\": 0, \"ticks\": \"\"}, \"colorscale\": [[0.0, \"#0d0887\"], [0.1111111111111111, \"#46039f\"], [0.2222222222222222, \"#7201a8\"], [0.3333333333333333, \"#9c179e\"], [0.4444444444444444, \"#bd3786\"], [0.5555555555555556, \"#d8576b\"], [0.6666666666666666, \"#ed7953\"], [0.7777777777777778, \"#fb9f3a\"], [0.8888888888888888, \"#fdca26\"], [1.0, \"#f0f921\"]], \"type\": \"histogram2d\"}], \"histogram2dcontour\": [{\"colorbar\": {\"outlinewidth\": 0, \"ticks\": \"\"}, \"colorscale\": [[0.0, \"#0d0887\"], [0.1111111111111111, \"#46039f\"], [0.2222222222222222, \"#7201a8\"], [0.3333333333333333, \"#9c179e\"], [0.4444444444444444, \"#bd3786\"], [0.5555555555555556, \"#d8576b\"], [0.6666666666666666, \"#ed7953\"], [0.7777777777777778, \"#fb9f3a\"], [0.8888888888888888, \"#fdca26\"], [1.0, \"#f0f921\"]], \"type\": \"histogram2dcontour\"}], \"mesh3d\": [{\"colorbar\": {\"outlinewidth\": 0, \"ticks\": \"\"}, \"type\": \"mesh3d\"}], \"parcoords\": [{\"line\": {\"colorbar\": {\"outlinewidth\": 0, \"ticks\": \"\"}}, \"type\": \"parcoords\"}], \"pie\": [{\"automargin\": true, \"type\": \"pie\"}], \"scatter\": [{\"marker\": {\"colorbar\": {\"outlinewidth\": 0, \"ticks\": \"\"}}, \"type\": \"scatter\"}], \"scatter3d\": [{\"line\": {\"colorbar\": {\"outlinewidth\": 0, \"ticks\": \"\"}}, \"marker\": {\"colorbar\": {\"outlinewidth\": 0, \"ticks\": \"\"}}, \"type\": \"scatter3d\"}], \"scattercarpet\": [{\"marker\": {\"colorbar\": {\"outlinewidth\": 0, \"ticks\": \"\"}}, \"type\": \"scattercarpet\"}], \"scattergeo\": [{\"marker\": {\"colorbar\": {\"outlinewidth\": 0, \"ticks\": \"\"}}, \"type\": \"scattergeo\"}], \"scattergl\": [{\"marker\": {\"colorbar\": {\"outlinewidth\": 0, \"ticks\": \"\"}}, \"type\": \"scattergl\"}], \"scattermapbox\": [{\"marker\": {\"colorbar\": {\"outlinewidth\": 0, \"ticks\": \"\"}}, \"type\": \"scattermapbox\"}], \"scatterpolar\": [{\"marker\": {\"colorbar\": {\"outlinewidth\": 0, \"ticks\": \"\"}}, \"type\": \"scatterpolar\"}], \"scatterpolargl\": [{\"marker\": {\"colorbar\": {\"outlinewidth\": 0, \"ticks\": \"\"}}, \"type\": \"scatterpolargl\"}], \"scatterternary\": [{\"marker\": {\"colorbar\": {\"outlinewidth\": 0, \"ticks\": \"\"}}, \"type\": \"scatterternary\"}], \"surface\": [{\"colorbar\": {\"outlinewidth\": 0, \"ticks\": \"\"}, \"colorscale\": [[0.0, \"#0d0887\"], [0.1111111111111111, \"#46039f\"], [0.2222222222222222, \"#7201a8\"], [0.3333333333333333, \"#9c179e\"], [0.4444444444444444, \"#bd3786\"], [0.5555555555555556, \"#d8576b\"], [0.6666666666666666, \"#ed7953\"], [0.7777777777777778, \"#fb9f3a\"], [0.8888888888888888, \"#fdca26\"], [1.0, \"#f0f921\"]], \"type\": \"surface\"}], \"table\": [{\"cells\": {\"fill\": {\"color\": \"#EBF0F8\"}, \"line\": {\"color\": \"white\"}}, \"header\": {\"fill\": {\"color\": \"#C8D4E3\"}, \"line\": {\"color\": \"white\"}}, \"type\": \"table\"}]}, \"layout\": {\"annotationdefaults\": {\"arrowcolor\": \"#2a3f5f\", \"arrowhead\": 0, \"arrowwidth\": 1}, \"autotypenumbers\": \"strict\", \"coloraxis\": {\"colorbar\": {\"outlinewidth\": 0, \"ticks\": \"\"}}, \"colorscale\": {\"diverging\": [[0, \"#8e0152\"], [0.1, \"#c51b7d\"], [0.2, \"#de77ae\"], [0.3, \"#f1b6da\"], [0.4, \"#fde0ef\"], [0.5, \"#f7f7f7\"], [0.6, \"#e6f5d0\"], [0.7, \"#b8e186\"], [0.8, \"#7fbc41\"], [0.9, \"#4d9221\"], [1, \"#276419\"]], \"sequential\": [[0.0, \"#0d0887\"], [0.1111111111111111, \"#46039f\"], [0.2222222222222222, \"#7201a8\"], [0.3333333333333333, \"#9c179e\"], [0.4444444444444444, \"#bd3786\"], [0.5555555555555556, \"#d8576b\"], [0.6666666666666666, \"#ed7953\"], [0.7777777777777778, \"#fb9f3a\"], [0.8888888888888888, \"#fdca26\"], [1.0, \"#f0f921\"]], \"sequentialminus\": [[0.0, \"#0d0887\"], [0.1111111111111111, \"#46039f\"], [0.2222222222222222, \"#7201a8\"], [0.3333333333333333, \"#9c179e\"], [0.4444444444444444, \"#bd3786\"], [0.5555555555555556, \"#d8576b\"], [0.6666666666666666, \"#ed7953\"], [0.7777777777777778, \"#fb9f3a\"], [0.8888888888888888, \"#fdca26\"], [1.0, \"#f0f921\"]]}, \"colorway\": [\"#636efa\", \"#EF553B\", \"#00cc96\", \"#ab63fa\", \"#FFA15A\", \"#19d3f3\", \"#FF6692\", \"#B6E880\", \"#FF97FF\", \"#FECB52\"], \"font\": {\"color\": \"#2a3f5f\"}, \"geo\": {\"bgcolor\": \"white\", \"lakecolor\": \"white\", \"landcolor\": \"#E5ECF6\", \"showlakes\": true, \"showland\": true, \"subunitcolor\": \"white\"}, \"hoverlabel\": {\"align\": \"left\"}, \"hovermode\": \"closest\", \"mapbox\": {\"style\": \"light\"}, \"paper_bgcolor\": \"white\", \"plot_bgcolor\": \"#E5ECF6\", \"polar\": {\"angularaxis\": {\"gridcolor\": \"white\", \"linecolor\": \"white\", \"ticks\": \"\"}, \"bgcolor\": \"#E5ECF6\", \"radialaxis\": {\"gridcolor\": \"white\", \"linecolor\": \"white\", \"ticks\": \"\"}}, \"scene\": {\"xaxis\": {\"backgroundcolor\": \"#E5ECF6\", \"gridcolor\": \"white\", \"gridwidth\": 2, \"linecolor\": \"white\", \"showbackground\": true, \"ticks\": \"\", \"zerolinecolor\": \"white\"}, \"yaxis\": {\"backgroundcolor\": \"#E5ECF6\", \"gridcolor\": \"white\", \"gridwidth\": 2, \"linecolor\": \"white\", \"showbackground\": true, \"ticks\": \"\", \"zerolinecolor\": \"white\"}, \"zaxis\": {\"backgroundcolor\": \"#E5ECF6\", \"gridcolor\": \"white\", \"gridwidth\": 2, \"linecolor\": \"white\", \"showbackground\": true, \"ticks\": \"\", \"zerolinecolor\": \"white\"}}, \"shapedefaults\": {\"line\": {\"color\": \"#2a3f5f\"}}, \"ternary\": {\"aaxis\": {\"gridcolor\": \"white\", \"linecolor\": \"white\", \"ticks\": \"\"}, \"baxis\": {\"gridcolor\": \"white\", \"linecolor\": \"white\", \"ticks\": \"\"}, \"bgcolor\": \"#E5ECF6\", \"caxis\": {\"gridcolor\": \"white\", \"linecolor\": \"white\", \"ticks\": \"\"}}, \"title\": {\"x\": 0.05}, \"xaxis\": {\"automargin\": true, \"gridcolor\": \"white\", \"linecolor\": \"white\", \"ticks\": \"\", \"title\": {\"standoff\": 15}, \"zerolinecolor\": \"white\", \"zerolinewidth\": 2}, \"yaxis\": {\"automargin\": true, \"gridcolor\": \"white\", \"linecolor\": \"white\", \"ticks\": \"\", \"title\": {\"standoff\": 15}, \"zerolinecolor\": \"white\", \"zerolinewidth\": 2}}}, \"title\": {\"text\": \"Content of the eTOXsys database\"}},                        {\"responsive\": true}                    ).then(function(){\n",
       "                            \n",
       "var gd = document.getElementById('d630d594-b3ae-44d0-905b-07f2285f7a4b');\n",
       "var x = new MutationObserver(function (mutations, observer) {{\n",
       "        var display = window.getComputedStyle(gd).display;\n",
       "        if (!display || display === 'none') {{\n",
       "            console.log([gd, 'removed!']);\n",
       "            Plotly.purge(gd);\n",
       "            observer.disconnect();\n",
       "        }}\n",
       "}});\n",
       "\n",
       "// Listen for the removal of the full notebook cells\n",
       "var notebookContainer = gd.closest('#notebook-container');\n",
       "if (notebookContainer) {{\n",
       "    x.observe(notebookContainer, {childList: true});\n",
       "}}\n",
       "\n",
       "// Listen for the clearing of the current output cell\n",
       "var outputEl = gd.closest('.output');\n",
       "if (outputEl) {{\n",
       "    x.observe(outputEl, {childList: true});\n",
       "}}\n",
       "\n",
       "                        })                };                });            </script>        </div>"
      ]
     },
     "metadata": {},
     "output_type": "display_data"
    }
   ],
   "source": [
    "services = api.Services().get()\n",
    "\n",
    "def get_service_name(id):\n",
    "    for service in services:\n",
    "        if service['address'].lower().startswith('/' + id.lower()):\n",
    "            return service['description']\n",
    "\n",
    "    \n",
    "i = 1\n",
    "#for source in system.keys():\n",
    "if True:\n",
    "    source = 'etoxsyspa'\n",
    "    title = get_service_name(source)\n",
    "    data = dict(socs=[], findings=[], compounds=[], values=[])\n",
    "    for study in studies:\n",
    "        if source.startswith(study['source'].lower()):\n",
    "            if study['FINDING']['finding'] is not None:                 \n",
    "                data['socs'].append(study['FINDING']['__soc'])\n",
    "                data['findings'].append(study['FINDING']['finding'])\n",
    "                data['compounds'].append(study['COMPOUND']['name'])\n",
    "                data['values'].append(study['FINDING']['count'])\n",
    "    print(len(data['values']))\n",
    "    fig=px.sunburst(data, path=['socs', 'findings', 'compounds'], values='values', title=title)\n",
    "    fig.show()"
   ]
  },
  {
   "cell_type": "code",
   "execution_count": null,
   "metadata": {
    "slideshow": {
     "slide_type": "slide"
    }
   },
   "outputs": [],
   "source": []
  }
 ],
 "metadata": {
  "celltoolbar": "Slideshow",
  "kernelspec": {
   "display_name": "Python 3",
   "language": "python",
   "name": "python3"
  },
  "language_info": {
   "codemirror_mode": {
    "name": "ipython",
    "version": 3
   },
   "file_extension": ".py",
   "mimetype": "text/x-python",
   "name": "python",
   "nbconvert_exporter": "python",
   "pygments_lexer": "ipython3",
   "version": "3.7.10"
  }
 },
 "nbformat": 4,
 "nbformat_minor": 4
}
