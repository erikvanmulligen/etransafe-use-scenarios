{
 "cells": [
  {
   "cell_type": "markdown",
   "metadata": {},
   "source": [
    " # eTransafe Omeprazole Heatmap\n",
    "\n",
    "This is the use scenario that has been described in the eTox project for exploring the differences with respect to adverse events between omeprazole preclinical and clinical. In order to compute these results the following scenario is executed:\n",
    "1. authenticate with the eTransafe keycloak\n",
    "2. Translate the provided compound (e.g., omeprazole) to a SMILES\n",
    "3. Retrieve similar compounds based on structural similarity\n",
    "4. Retrieve data from the preclinical and clinical databases\n",
    "5. Aggregate the data per system organ class\n",
    "6. Visualize the data using a heatmap\n",
    "\n",
    "(C) 2021 Erasmus University Medical Center, Rotterdam, The Netherlands\n",
    "Author: Erik M. van Mulligen, e.vanmulligen@erasmusmc.nl"
   ]
  },
  {
   "cell_type": "code",
   "execution_count": null,
   "metadata": {
    "pycharm": {
     "name": "#%%\n"
    }
   },
   "outputs": [],
   "source": [
    "from knowledgehub.api import KnowledgeHubAPI\n",
    "import ipywidgets as w\n",
    "from IPython.display import display, Javascript\n",
    "from ipypublish import nb_setup\n",
    "import numpy as np\n",
    "import numpy.ma as ma\n",
    "import seaborn as sns\n",
    "import pandas\n",
    "from matplotlib.colors import LogNorm, Normalize\n",
    "import matplotlib.pyplot as plt"
   ]
  },
  {
   "cell_type": "code",
   "execution_count": null,
   "metadata": {},
   "outputs": [],
   "source": [
    "#api = KnowledgeHubAPI(server='TEST', client_secret='39c644b3-1f23-4d94-a71f-e0fb43ebd760')\n",
    "api = KnowledgeHubAPI(server='DEV', client_secret='3db5a6d7-4694-48a4-8a2e-e9c30d78f9ab')"
   ]
  },
  {
   "cell_type": "markdown",
   "metadata": {},
   "source": [
    "# 1. Authentication\n",
    "Use eTransafe's authentication service to get access to available services"
   ]
  },
  {
   "cell_type": "code",
   "execution_count": null,
   "metadata": {},
   "outputs": [],
   "source": [
    "username = w.Text(value='erik.mulligen',placeholder='Knowledge Hub account', description='username:', disabled=False)\n",
    "password = w.Password(value='', placeholder='Knowledge Hub password', description='password:', disabled=False)\n",
    "loginBtn = w.Button(description='Login')\n",
    "status = w.Output()\n",
    "\n",
    "def on_button_clicked(_):\n",
    "    if api.login(username.value, password.value) == False:\n",
    "        print(\"Failed to login\")\n",
    "    else:\n",
    "        print(\"successfully logged in\")\n",
    "        display(Javascript('IPython.notebook.execute_cell_range(IPython.notebook.get_selected_index()+1, IPython.notebook.get_selected_index()+2)'))\n",
    "\n",
    "loginBtn.on_click(on_button_clicked)\n",
    "w.VBox([username, password, loginBtn])"
   ]
  },
  {
   "cell_type": "markdown",
   "metadata": {},
   "source": [
    "## 2. Translate compound to SMILES using semantic services\n",
    "For the entered compound name, retrieve the associated SMILES using the semantic services"
   ]
  },
  {
   "cell_type": "code",
   "execution_count": null,
   "metadata": {},
   "outputs": [],
   "source": [
    "compoundName = w.Text(value='omeprazole',placeholder='compound name', description='compound:', disabled=False)\n",
    "compoundBtn = w.Button(description='Retrieve')\n",
    "compoundSmile = None\n",
    "\n",
    "def on_compound_entered(_):\n",
    "    global compoundSmile\n",
    "    print(f'retrieving smiles for {compoundName.value}')\n",
    "    compoundSmile = api.ChemistryService().getSMILESByName(compoundName.value)\n",
    "    print(f'Found SMILES {compoundSmile} for {compoundName.value}')\n",
    "    display(Javascript('IPython.notebook.execute_cell_range(IPython.notebook.get_selected_index()+1, IPython.notebook.get_selected_index()+2)'))\n",
    "\n",
    "compoundBtn.on_click(on_compound_entered) \n",
    "w.VBox([compoundName, compoundBtn])"
   ]
  },
  {
   "cell_type": "markdown",
   "metadata": {},
   "source": [
    "## 3. Retrieve similar compounds"
   ]
  },
  {
   "cell_type": "code",
   "execution_count": null,
   "metadata": {},
   "outputs": [],
   "source": [
    "similar_compounds = api.SimilarityService().get(compoundSmile[0])\n",
    "\n",
    "compoundNames = []\n",
    "names = []\n",
    "smiles = []\n",
    "similarities = []\n",
    "\n",
    "if similar_compounds != None:\n",
    "    for similar_compound in similar_compounds:\n",
    "        names.append(similar_compound['name'])\n",
    "        smiles.append(similar_compound['smiles'])\n",
    "        similarities.append(similar_compound['distance'])\n",
    "\n",
    "pd = nb_setup.setup_pandas(escape_latex=False)\n",
    "df = pd.DataFrame(np.random.rand(len(names),3),columns=['NAME','SMILES','SIMILARITY'])\n",
    "df.NAME = names\n",
    "df.SMILES = smiles\n",
    "df.SIMILARITY = similarities\n",
    "df.round(3)"
   ]
  },
  {
   "cell_type": "markdown",
   "metadata": {},
   "source": [
    "# 4. Retrieve data from the preclinical and clinical databases"
   ]
  },
  {
   "cell_type": "code",
   "execution_count": null,
   "metadata": {},
   "outputs": [],
   "source": [
    "studies = api.Medline().getStudiesBySMILES(smiles) + \\\n",
    "          api.Faers().getStudiesBySMILES(smiles) + \\\n",
    "          api.ClinicalTrials().getStudiesBySMILES(smiles) + \\\n",
    "          api.eToxSys().getStudiesByCompoundNames(names)\n",
    "print(f'Found {len(studies)} studies.')"
   ]
  },
  {
   "cell_type": "markdown",
   "metadata": {},
   "source": [
    "# 5. Aggregate the data per system organ class\n",
    "\n",
    "Since the eTox data reports events with an organ. We use our own method to map it to MedDRA's system organ class to make it comparable"
   ]
  },
  {
   "cell_type": "code",
   "execution_count": null,
   "metadata": {},
   "outputs": [],
   "source": [
    "system = {}\n",
    "all_compounds = [c.lower() for c in names]\n",
    "socs = {}\n",
    "\n",
    "api.SemanticService().getSocs(studies)\n",
    "for study in studies:\n",
    "    soc = study['FINDING']['__soc']\n",
    "    if soc not in socs:\n",
    "        socs[soc] = study['FINDING']['count']\n",
    "    else:\n",
    "        socs[soc] += study['FINDING']['count']\n",
    "\n",
    "\n",
    "# sort the socs per count\n",
    "all_socs = {k: v for k, v in sorted(socs.items(), key=lambda item: item[1], reverse=True)}\n",
    "\n",
    "\n",
    "# traverse all studies and create a matrix per source\n",
    "for study in studies:\n",
    "    source = study['source']\n",
    "    if not source in system.keys():\n",
    "        system[source] = {'data':np.zeros((len(all_socs),len(all_compounds)), dtype=int).tolist(), \n",
    "                          'rows':list(all_socs.keys()), \n",
    "                          'cols':all_compounds}\n",
    "    \n",
    "    if object is not None:\n",
    "        soc = study['FINDING']['__soc']\n",
    "        row = system[source]['rows'].index(soc)\n",
    "        col = system[source]['cols'].index(study['COMPOUND']['name'].lower())\n",
    "        system[source]['data'][row][col] += study['FINDING']['count']\n",
    "                "
   ]
  },
  {
   "cell_type": "markdown",
   "metadata": {},
   "source": [
    "# 6. Visualize the data using a heatmap\n",
    "\n",
    "Using seaborn to visualize the content of the various databases. Note that we have to think about ways to easier compare the various results."
   ]
  },
  {
   "cell_type": "code",
   "execution_count": null,
   "metadata": {},
   "outputs": [],
   "source": [
    "i = 1\n",
    "for source,value in system.items():\n",
    "    plt.figure(figsize=(12,9))\n",
    "    data = system[source]['data']\n",
    "    \n",
    "    # create mask\n",
    "    data_mask = ma.array(np.zeros((len(all_socs.keys()), len(all_compounds))))\n",
    "    for r in range(0, len(all_socs.keys())):\n",
    "        for c in range(0, len(all_compounds)):\n",
    "            data_mask[r][c] = 1 if data[r][c] == 0 else 0\n",
    "\n",
    "    colormap = sns.cubehelix_palette(as_cmap=True, light=.9)\n",
    "    ax = sns.heatmap(data, mask=data_mask, xticklabels=all_compounds, yticklabels=list(all_socs.keys()), annot=True, fmt=\".0f\", cmap=colormap) \n",
    "    ax.set_xticklabels(ax.get_xmajorticklabels(), rotation=45)\n",
    "    plt.title(source, fontsize = 14)\n",
    "    plt.ylabel(\"Findings per organ class\", fontsize = 12)\n",
    "    plt.xlabel(\"Similar compounds\", fontsize = 12)\n",
    "    plt.show()\n",
    "\n",
    "    i += 1\n",
    "    print('')\n",
    "    print('')\n"
   ]
  },
  {
   "cell_type": "code",
   "execution_count": null,
   "metadata": {},
   "outputs": [],
   "source": []
  },
  {
   "cell_type": "code",
   "execution_count": null,
   "metadata": {},
   "outputs": [],
   "source": []
  }
 ],
 "metadata": {
  "celltoolbar": "Slideshow",
  "kernelspec": {
   "display_name": "Python 3",
   "language": "python",
   "name": "python3"
  },
  "language_info": {
   "codemirror_mode": {
    "name": "ipython",
    "version": 3
   },
   "file_extension": ".py",
   "mimetype": "text/x-python",
   "name": "python",
   "nbconvert_exporter": "python",
   "pygments_lexer": "ipython3",
   "version": "3.7.10"
  }
 },
 "nbformat": 4,
 "nbformat_minor": 4
}
