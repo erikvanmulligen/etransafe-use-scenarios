{
 "cells": [
  {
   "cell_type": "markdown",
   "metadata": {},
   "source": [
    "# eTransafe valsartan Heatmap\n",
    "\n",
    "This is the use scenario that has been described in the eTox project for exploring the differences with respect to adverse events between omeprazole preclinical and clinical. In order to compute these results the following scenario is executed:\n",
    "1. Translate the provided compound (e.g., omeprazole) to a SMILES\n",
    "2. Retrieve data from the preclinical and clinical databases\n",
    "3. Aggregate the data per system organ class\n",
    "4. Visualize the data using a heatmap\n",
    "\n",
    "(C) 2021 Erasmus University Medical Center, Rotterdam, The Netherlands\n",
    "Author: Erik M. van Mulligen, e.vanmulligen@erasmusmc.nl"
   ]
  },
  {
   "cell_type": "code",
   "execution_count": 37,
   "metadata": {
    "pycharm": {
     "name": "#%%\n"
    }
   },
   "outputs": [],
   "source": [
    "from kh.api import KnowledgeHubAPI\n",
    "import ipywidgets as w\n",
    "from IPython.display import display, Javascript, clear_output\n",
    "from ipypublish import nb_setup\n",
    "import numpy as np\n",
    "import numpy.ma as ma\n",
    "import seaborn as sns\n",
    "import pandas\n",
    "import matplotlib.pyplot as plt"
   ]
  },
  {
   "cell_type": "code",
   "execution_count": 38,
   "metadata": {},
   "outputs": [],
   "source": [
    "api = KnowledgeHubAPI()"
   ]
  },
  {
   "cell_type": "markdown",
   "metadata": {},
   "source": [
    "## 1. Authenticate with the KnowledgeHub\n",
    "Get authenticated to get access to the KnowledgeHub"
   ]
  },
  {
   "cell_type": "code",
   "execution_count": 39,
   "metadata": {},
   "outputs": [
    {
     "data": {
      "application/vnd.jupyter.widget-view+json": {
       "model_id": "bddfb5811dc440eba1ff9c133d0edda4",
       "version_major": 2,
       "version_minor": 0
      },
      "text/plain": [
       "Text(value='erik.mulligen', description='username:', placeholder='Knowledge Hub account')"
      ]
     },
     "metadata": {},
     "output_type": "display_data"
    },
    {
     "data": {
      "application/vnd.jupyter.widget-view+json": {
       "model_id": "e1e1ce3a214c4519aced20aee44f9f4f",
       "version_major": 2,
       "version_minor": 0
      },
      "text/plain": [
       "Password(description='password:', placeholder='Knowledge Hub password')"
      ]
     },
     "metadata": {},
     "output_type": "display_data"
    }
   ],
   "source": [
    "username = w.Text(\n",
    "    value='erik.mulligen',\n",
    "    placeholder='Knowledge Hub account',\n",
    "    description='username:',\n",
    "    disabled=False\n",
    ")\n",
    "\n",
    "password = w.Password(\n",
    "    value='',\n",
    "    placeholder='Knowledge Hub password',\n",
    "    description='password:',\n",
    "    disabled=False\n",
    ")\n",
    "\n",
    "display(username)\n",
    "display(password)"
   ]
  },
  {
   "cell_type": "code",
   "execution_count": 40,
   "metadata": {},
   "outputs": [
    {
     "name": "stdout",
     "output_type": "stream",
     "text": [
      "successfully logged in\n"
     ]
    }
   ],
   "source": [
    "print((\"not \" if not api.login(username.value, password.value) else \"\") + \"successfully logged in\")"
   ]
  },
  {
   "cell_type": "markdown",
   "metadata": {},
   "source": [
    "## 2. Translate compound to SMILES using semantic services\n",
    "For the entered compound name, retrieve the associated SMILES using the semantic services"
   ]
  },
  {
   "cell_type": "code",
   "execution_count": 41,
   "metadata": {},
   "outputs": [
    {
     "name": "stdout",
     "output_type": "stream",
     "text": [
      "Found SMILES CCCCC(=O)N(Cc1ccc(cc1)c2ccccc2c3nnn[nH]3)[C@@H](C(C)C)C(=O)O for valsartan\n"
     ]
    },
    {
     "data": {
      "application/javascript": [
       "IPython.notebook.execute_cell_range(IPython.notebook.get_selected_index()+1, IPython.notebook.get_selected_index()+2)"
      ],
      "text/plain": [
       "<IPython.core.display.Javascript object>"
      ]
     },
     "metadata": {},
     "output_type": "display_data"
    }
   ],
   "source": [
    "compoundName = w.Text(value='valsartan',placeholder='compound name', description='compound:', disabled=False)\n",
    "compoundBtn = w.Button(description='Retrieve')\n",
    "compoundSmile = None\n",
    "\n",
    "def on_compound_entered(_):\n",
    "        compound = api.SemanticService().normalize(compoundName.value, ['RxNorm','smiles'])\n",
    "        if 'concepts' in compound:\n",
    "            for concept in compound['concepts']:\n",
    "                if 'vocabularyId' in concept:\n",
    "                    if concept['vocabularyId'] == 'smiles':\n",
    "                        global compoundSmile\n",
    "                        compoundSmile = concept['conceptCode']\n",
    "                        clear_output(wait=True)\n",
    "                        print(f'Found SMILES {compoundSmile} for {compoundName.value}')\n",
    "                        display(Javascript('IPython.notebook.execute_cell_range(IPython.notebook.get_selected_index()+1, IPython.notebook.get_selected_index()+2)'))\n",
    "\n",
    "compoundBtn.on_click(on_compound_entered) \n",
    "w.VBox([compoundName, compoundBtn])"
   ]
  },
  {
   "cell_type": "code",
   "execution_count": 57,
   "metadata": {},
   "outputs": [
    {
     "name": "stdout",
     "output_type": "stream",
     "text": [
      "Text(value='valsartan', description='compound:', placeholder='compound name')\n",
      "CCCCC(=O)N(Cc1ccc(cc1)c2ccccc2c3nnn[nH]3)[C@@H](C(C)C)C(=O)O\n"
     ]
    }
   ],
   "source": [
    "compoundIds = []\n",
    "compoundNames = []\n",
    "concept = api.SemanticService().normalize(compoundName.value, ['RxNorm'])\n",
    "if 'concepts' in concept and len(concept['concepts']) == 1:\n",
    "    compoundIds.append(concept['concepts'][0]['conceptCode'])\n",
    "    compoundNames.append(concept['concepts'][0]['conceptName'])\n"
   ]
  },
  {
   "cell_type": "markdown",
   "metadata": {},
   "source": [
    "## 3. Retrieve data from the preclinical and clinical databases"
   ]
  },
  {
   "cell_type": "code",
   "execution_count": 58,
   "metadata": {},
   "outputs": [
    {
     "name": "stdout",
     "output_type": "stream",
     "text": [
      "[1275]\n",
      "Found 0 studies.\n",
      "Found 0 studies.\n",
      "Found 0 studies.\n",
      "Found 18925 studies.\n"
     ]
    }
   ],
   "source": [
    "\n",
    "studies = {\n",
    "    'Medline': api.Medline().getStudiesByCompoundIds(compoundIds),\n",
    "    'FAERS': api.Faers().getStudiesByCompoundIds(compoundIds),\n",
    "    'ClinicalTrials': api.ClinicalTrials().getStudiesByCompoundIds(compoundIds),\n",
    "    'eTOXSys': api.eToxSys().getStudiesByCompoundNames(compoundNames)\n",
    "}\n",
    "\n",
    "count = 0\n",
    "for source in studies:\n",
    "    count += len(studies[source])\n",
    "    print(f'Found {len(studies[source])} studies.')"
   ]
  },
  {
   "cell_type": "markdown",
   "metadata": {},
   "source": [
    "## 4. Aggregate the data per system organ class\n",
    "\n",
    "Since the eTox data reports events with an organ. We use our own method to map it to MedDRA's system organ class to make it comparable"
   ]
  },
  {
   "cell_type": "code",
   "execution_count": 54,
   "metadata": {},
   "outputs": [],
   "source": [
    "system = {}\n",
    "socs = {}\n",
    "socs_labels = []\n",
    "\n",
    "# retrieve all system organ classes used\n",
    "for source in studies:\n",
    "    for study in studies[source]:\n",
    "        if study['FINDING']['finding'] != None and study['FINDING']['finding'] != 'No abnormalities detected' and len(study['FINDING']['finding']) > 0:\n",
    "            specimenOrgans = api.SemanticService().getSocs(study['FINDING']['specimenOrgan'])\n",
    "            for specimenOrgan in specimenOrgans:\n",
    "                if len(specimenOrgan) > 0:\n",
    "                    if specimenOrgan not in socs:\n",
    "                        socs[specimenOrgan] = 0\n",
    "                        socs_labels.append(specimenOrgan)\n",
    "\n",
    "# travers the studies and count distinct findings per system organ class\n",
    "\n",
    "findings_rows_cols = [[[] for study in studies] for soc in socs_labels]\n",
    "\n",
    "for source in studies:\n",
    "    # initialize for each source again a data structure to capture per combination of a system organ class \n",
    "    # and a compound what findings have been found\n",
    "    \n",
    "    col = list(studies.keys()).index(source)\n",
    "\n",
    "    for study in studies[source]:\n",
    "        if study['FINDING']['finding'] != None and study['FINDING']['finding'] != 'No abnormalities detected' and len(study['FINDING']['finding']) > 0:\n",
    "            specimenOrgans = api.SemanticService().getSocs(study['FINDING']['specimenOrgan'])\n",
    "            for specimenOrgan in specimenOrgans:\n",
    "                if len(specimenOrgan) > 0:\n",
    "                    compound = study['COMPOUND']['name'].lower()\n",
    "                    row = socs_labels.index(specimenOrgan)\n",
    "                    finding = study['FINDING']['finding']\n",
    "                    if finding not in findings_rows_cols[row][col]:\n",
    "                        socs[specimenOrgan] += 1\n",
    "                        findings_rows_cols[row][col].append(finding)\n",
    "          \n",
    "# sort the socs per count\n",
    "all_socs = {k: v for k, v in sorted(socs.items(), key=lambda item: item[1], reverse=True)}\n",
    "\n",
    "# traverse all studies and create a matrix per source\n",
    "findings_rows_cols = [[[] for study in studies] for soc in socs_labels]\n",
    "\n",
    "matrix = {\n",
    "    'data':np.zeros((len(all_socs),len(studies)), dtype=int).tolist(), \n",
    "    'rows':list(all_socs.keys()), \n",
    "    'cols':list(studies.keys())\n",
    "}\n",
    "\n",
    "# initialize for each source again a data structure to capture per combination of a system organ class \n",
    "# and a compound what findings have been found\n",
    "        \n",
    "for source in studies:\n",
    "    for study in studies[source]:\n",
    "        if study['FINDING']['finding'] != None and study['FINDING']['finding'] != 'No abnormalities detected' and len(study['FINDING']['finding']) > 0:\n",
    "            specimenOrgans = api.SemanticService().getSocs(study['FINDING']['specimenOrgan'])\n",
    "            for specimenOrgan in specimenOrgans:\n",
    "                if len(specimenOrgan) > 0:\n",
    "                    row = matrix['rows'].index(specimenOrgan)\n",
    "                    col = matrix['cols'].index(source)\n",
    "                    finding = study['FINDING']['finding']\n",
    "                    if finding not in findings_rows_cols[row][col]:\n",
    "                        matrix['data'][row][col] += 1\n",
    "                        findings_rows_cols[row][col].append(finding)             "
   ]
  },
  {
   "cell_type": "markdown",
   "metadata": {},
   "source": [
    "## 5. Visualize the data using a heatmap\n",
    "\n",
    "Using seaborn to visualize the content of the various databases. Note that we have to think about ways to easier compare the various results."
   ]
  },
  {
   "cell_type": "code",
   "execution_count": 55,
   "metadata": {
    "pycharm": {
     "name": "#%%\n"
    }
   },
   "outputs": [
    {
     "data": {
      "image/png": "[encoded data removed]",
      "text/plain": [
       "<Figure size 864x648 with 2 Axes>"
      ]
     },
     "metadata": {
      "needs_background": "light"
     },
     "output_type": "display_data"
    }
   ],
   "source": [
    "plt.figure(figsize=(12,9))\n",
    "    \n",
    "# create mask\n",
    "data_mask = ma.array(np.zeros((len(matrix['rows']), len(matrix['cols']))))\n",
    "for r in range(0, len(matrix['rows'])):\n",
    "    for c in range(0, len(matrix['cols'])):\n",
    "        data_mask[r][c] = 1 if matrix['data'][r][c] == 0 else 0\n",
    "\n",
    "colormap = sns.cubehelix_palette(as_cmap=True, light=.9)\n",
    "ax = sns.heatmap(matrix['data'], mask=data_mask, xticklabels=matrix['cols'], yticklabels=matrix['rows'], annot=True, fmt=\".0f\", cmap=colormap) \n",
    "ax.set_xticklabels(ax.get_xmajorticklabels(), rotation=45)\n",
    "plt.title(compoundName.value, fontsize = 14)\n",
    "plt.ylabel(\"Findings per organ class\", fontsize = 12)\n",
    "plt.xlabel(\"Source system\", fontsize = 12)\n",
    "plt.show()"
   ]
  },
  {
   "cell_type": "code",
   "execution_count": null,
   "metadata": {
    "slideshow": {
     "slide_type": "slide"
    }
   },
   "outputs": [],
   "source": []
  }
 ],
 "metadata": {
  "kernelspec": {
   "display_name": "Python 3",
   "language": "python",
   "name": "python3"
  },
  "language_info": {
   "codemirror_mode": {
    "name": "ipython",
    "version": 3
   },
   "file_extension": ".py",
   "mimetype": "text/x-python",
   "name": "python",
   "nbconvert_exporter": "python",
   "pygments_lexer": "ipython3",
   "version": "3.7.10"
  }
 },
 "nbformat": 4,
 "nbformat_minor": 4
}
