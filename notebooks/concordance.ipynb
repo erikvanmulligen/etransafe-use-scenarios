{
 "cells": [
  {
   "cell_type": "markdown",
   "id": "czech-pressure",
   "metadata": {
    "pycharm": {
     "name": "#%% md\n"
    }
   },
   "source": [
    "# eTransafe Concordance analysis\n",
    "\n",
    "This is the use scenario that has been described by Thomas Steger-Hartmann in a publication with Matthew Clark.\n",
    "The idea is to compare animal observations with clinical observations for the various drugs\n",
    "1. determine the drugs that have been used in the preclinical and the clinical domain\n",
    "2. compare the individual PTs for preclinical and clinical\n",
    "3. compute the concordance matrix\n",
    "    1. aggregate the PT terms per PT, HLT, or SOC level\n",
    "    2. for each drug, count how many terms are in the TP, FP, TN, FN bins\n",
    "4. Visualize the matrix\n",
    "\n",
    "(C) 2022 Erasmus University Medical Center, Rotterdam, The Netherlands\n",
    "Author: Erik M. van Mulligen, e.vanmulligen@erasmusmc.nl"
   ]
  },
  {
   "cell_type": "code",
   "execution_count": null,
   "id": "accredited-demographic",
   "metadata": {
    "pycharm": {
     "name": "#%%\n"
    }
   },
   "outputs": [],
   "source": [
    "import os\n",
    "import sys\n",
    "module_path = os.path.abspath(os.path.join('..'))\n",
    "if module_path not in sys.path:\n",
    "    sys.path.append(module_path)\n",
    "from knowledgehub.api import KnowledgeHubAPI\n",
    "from Concordance.condordance_utils import getClinicalDatabases, getPreclinicalDatabases\n",
    "from Concordance.mapper import Mapper\n",
    "\n",
    "import ipywidgets as w\n",
    "from IPython.display import display, Javascript\n",
    "from ipypublish import nb_setup\n",
    "import numpy as np\n",
    "import mysql.connector\n",
    "\n",
    "import warnings\n",
    "warnings.filterwarnings('ignore')"
   ]
  },
  {
   "cell_type": "code",
   "execution_count": null,
   "id": "brilliant-commercial",
   "metadata": {
    "pycharm": {
     "name": "#%%\n"
    },
    "scrolled": true
   },
   "outputs": [],
   "source": [
    "api = KnowledgeHubAPI(server='DEV', client_secret='3db5a6d7-4694-48a4-8a2e-e9c30d78f9ab')\n",
    "mapper = Mapper(api)"
   ]
  },
  {
   "cell_type": "markdown",
   "id": "comparative-perth",
   "metadata": {
    "pycharm": {
     "name": "#%% md\n"
    }
   },
   "source": [
    "## Authenticate for KnowledgeHub"
   ]
  },
  {
   "cell_type": "code",
   "execution_count": null,
   "id": "square-devices",
   "metadata": {
    "pycharm": {
     "name": "#%%\n"
    }
   },
   "outputs": [],
   "source": [
    "username = w.Text(value='tester',placeholder='Knowledge Hub account', description='username:', disabled=False)\n",
    "password = w.Password(value='', placeholder='Knowledge Hub password', description='password:', disabled=False)\n",
    "loginBtn = w.Button(description='Login')\n",
    "status = w.Output()\n",
    "\n",
    "def on_button_clicked(_):\n",
    "    if not api.login(username.value, password.value):\n",
    "        print(\"Failed to login\")\n",
    "    else:\n",
    "        print(\"successfully logged in\")\n",
    "\n",
    "\n",
    "loginBtn.on_click(on_button_clicked)\n",
    "w.VBox([username, password, loginBtn])"
   ]
  },
  {
   "cell_type": "markdown",
   "id": "trying-detective",
   "metadata": {
    "pycharm": {
     "name": "#%% md\n"
    }
   },
   "source": [
    "## Authenticate for the data stored in the database"
   ]
  },
  {
   "cell_type": "code",
   "execution_count": null,
   "id": "regulated-heart",
   "metadata": {
    "pycharm": {
     "name": "#%%\n"
    }
   },
   "outputs": [],
   "source": [
    "global db\n",
    "\n",
    "dbhost = w.Text(value='localhost',placeholder='database host', description='host:', disabled=False)\n",
    "dbdatabase = w.Text(value='concordance-20220524',placeholder='database name', description='database:', disabled=False)\n",
    "dbusername = w.Text(value='root',placeholder='database username', description='username:', disabled=False)\n",
    "dbpassword = w.Password(value='', placeholder='database password', description='password:', disabled=False)\n",
    "dbLoginBtn = w.Button(description='Login')\n",
    "status = w.Output()\n",
    "\n",
    "def dbLoginBtn_click(_):\n",
    "    global db\n",
    "    try:\n",
    "        db = mysql.connector.connect(host=dbhost.value, database=dbdatabase.value, user=dbusername.value, password=dbpassword.value)\n",
    "        print(\"successfully logged in database\")\n",
    "    except Exception as e:\n",
    "        print(\"failed to log in database\")\n",
    "        sys.exit(0)\n",
    "    \n",
    "dbLoginBtn.on_click(dbLoginBtn_click)\n",
    "w.VBox([dbhost, dbdatabase, dbusername, dbpassword, dbLoginBtn])"
   ]
  },
  {
   "cell_type": "markdown",
   "id": "right-drill",
   "metadata": {
    "jp-MarkdownHeadingCollapsed": true,
    "pycharm": {
     "name": "#%% md\n"
    },
    "tags": []
   },
   "source": [
    "## The database\n",
    "In order to be able to compute the concordance tables we have constructed a database with all preclinical and clinical findings found for drugs (i.e. inchikeys) that are both found in the preclinical and clinical data. For the preclinical data we restricted to findings that are treatment related and not in the control group. For each of the preclinical findings we checked with the semantic service whether the equivalent clinical finding was found in the clinical findings and vice versa. This is stored in the database as 'mapped' per finding. For each of the preclinical and clinical findings we derived the MedDRA PT it is related to. For preclinical terms this is done through the semantic service. For clinical terms the findings are already expressed as MedDRA PT terms. These mappings are stored in the database as 'PT' per finding.\n",
    "\n"
   ]
  },
  {
   "cell_type": "markdown",
   "id": "overhead-arabic",
   "metadata": {
    "pycharm": {
     "name": "#%% md\n"
    }
   },
   "source": [
    "## Drug mapping\n",
    "We maintain a list of drugs that can be found in the preclinical and clinical data with its inchi-group (inchi-group being the first 14 characters of an inchi-key). Per drug we have stored the finding ids that are associated per database."
   ]
  },
  {
   "cell_type": "code",
   "execution_count": null,
   "id": "tested-captain",
   "metadata": {
    "pycharm": {
     "name": "#%%\n"
    }
   },
   "outputs": [],
   "source": [
    "cursor = db.cursor()\n",
    "cursor.execute('SELECT inchi_group, inchi_keys, names FROM drugs')\n",
    "drugs = [{'inchi_group': r[0], 'inchi_keys': [i for i in r[1].split(',')], 'names':[i for i in r[2].split(',')]} for r in cursor.fetchall()]\n",
    "print(f'{len(drugs)} drugs found')"
   ]
  },
  {
   "cell_type": "markdown",
   "id": "insured-brand",
   "metadata": {
    "pycharm": {
     "name": "#%% md\n"
    }
   },
   "source": [
    "## Overview of the drugs"
   ]
  },
  {
   "cell_type": "code",
   "execution_count": null,
   "id": "endangered-seeker",
   "metadata": {
    "pycharm": {
     "name": "#%%\n"
    },
    "scrolled": true
   },
   "outputs": [],
   "source": [
    "pd = nb_setup.setup_pandas(escape_latex=False)\n",
    "df = pd.DataFrame(np.random.rand(len(drugs),3),columns=['inchi_group','inchi_key','name'])\n",
    "df.inchi_group = [drug['inchi_group'] for drug in drugs]\n",
    "df.inchi_key = [drug['inchi_keys'][0] for drug in drugs]\n",
    "df.name = [drug['names'][0] for drug in drugs]\n",
    "df.round(3)"
   ]
  },
  {
   "cell_type": "markdown",
   "id": "ultimate-calgary",
   "metadata": {
    "pycharm": {
     "name": "#%% md\n"
    }
   },
   "source": [
    "## Concordance table\n",
    "Per drug retrieve the preclinical and clinical PT terms. \n",
    "- true positives are the PT terms that can be found present in the preclinical and clinical data per drug. \n",
    "- false positives are the PT terms that can be found in the preclinical data but not in the clinical data per drug\n",
    "- false negatives are the PT terms that can not be found in the preclinical data but in the clinical data per drug\n",
    "- true negatives are all PT terms that can not be found in the preclinical data and in the clinical data per drug"
   ]
  },
  {
   "cell_type": "code",
   "execution_count": null,
   "id": "pointed-advertising",
   "metadata": {
    "pycharm": {
     "name": "#%%\n"
    }
   },
   "outputs": [],
   "source": [
    "from Concordance.meddra import MedDRA\n",
    "\n",
    "level = 'soc'\n",
    "pt_to_group = {}\n",
    "\n",
    "def getPTDrugFindings(db, drug, clinical):\n",
    "    cursor = db.cursor()\n",
    "    cursor.execute(f'SELECT DISTINCT finding_code FROM findings WHERE inchi_group = \"{drug}\" AND clinical = {clinical} AND distance IS NOT NULL')\n",
    "    return [r[0] for r in cursor.fetchall()]\n",
    "\n",
    "def getAllPreclinicalClinicalDistances(db):\n",
    "    cursor = db.cursor()\n",
    "    cursor.execute('SELECT finding_code, min(distance) FROM findings WHERE distance is not NULL GROUP BY finding_code')\n",
    "    return {finding[0]: finding[1] for finding in cursor.fetchall()}\n",
    "\n",
    "def getAllPreClinicalClinicalPTs(db):\n",
    "    cursor = db.cursor()\n",
    "    cursor.execute(f'SELECT distinct finding_code FROM findings WHERE distance is not NULL')\n",
    "    return [finding[0] for finding in cursor.fetchall()]\n",
    "\n",
    "def getGroup(meddra, pt, level):\n",
    "    if not pt in pt_to_group:\n",
    "        if level == 'pt':\n",
    "            group = meddra.getPt(pt)\n",
    "        elif level == 'hlt':\n",
    "            group = meddra.getHLT(pt)\n",
    "        elif level == 'soc':\n",
    "            group = meddra.getSoc(pt)\n",
    "        pt_to_group[pt] = list(group.keys())[0] if len(group) > 0 else None\n",
    "    return pt_to_group[pt]\n",
    "\n",
    "print(f'username={dbusername.value}, password={dbpassword.value}')\n",
    "meddra = MedDRA(username=dbusername.value, password=dbpassword.value)\n",
    "ClinicalDatabases = getClinicalDatabases(api);\n",
    "PreclinicalDatabases = getPreclinicalDatabases(api);\n",
    "\n",
    "groups = {}\n",
    "preclinical_pts = {}\n",
    "clinical_pts = {}\n",
    "for drug in drugs:\n",
    "    inchi_group = drug['inchi_group']\n",
    "    preclinical_pts[inchi_group] = set([getGroup(meddra, pt, level) for pt in getPTDrugFindings(db=db, drug=inchi_group, clinical=0)])\n",
    "    clinical_pts[inchi_group] = set([getGroup(meddra, pt, level) for pt in getPTDrugFindings(db=db, drug=inchi_group, clinical=1)])\n",
    "\n",
    "all_preclinical_clinical_pts = set([getGroup(meddra, pt, level) for pt in getAllPreClinicalClinicalPTs(db=db)])\n",
    "all_preclinical_clinical_distances = {getGroup(meddra, pt, level): distance for (pt, distance) in getAllPreclinicalClinicalDistances(db=db).items()}\n",
    "\n",
    "for code in all_preclinical_clinical_pts:\n",
    "    #group = getGroup(meddra, code, level)\n",
    "    group = code\n",
    "\n",
    "    if group is not None:\n",
    "        if not group in groups:\n",
    "            groups[group] = {'tp': 0, 'fp': 0, 'fn': 0, 'tn': 0, 'drugs': [], 'distance': all_preclinical_clinical_distances[code]}\n",
    "        elif abs(groups[group]['distance']) > abs(all_preclinical_clinical_distances[code]):\n",
    "            groups[group]['distance'] = all_preclinical_clinical_distances[code]\n",
    "\n",
    "        for drug in drugs:\n",
    "            inchi_group = drug['inchi_group']\n",
    "            if inchi_group not in groups[group]['drugs']:\n",
    "                groups[group]['drugs'].append(inchi_group)\n",
    "                if code in preclinical_pts[inchi_group]:\n",
    "                    if code in clinical_pts[inchi_group]:\n",
    "                        groups[group]['tp'] += 1\n",
    "                    else:\n",
    "                        groups[group]['fp'] += 1\n",
    "                else:\n",
    "                    if code in clinical_pts[inchi_group]:\n",
    "                        groups[group]['fn'] += 1\n",
    "                    else:\n",
    "                        groups[group]['tn'] += 1"
   ]
  },
  {
   "cell_type": "markdown",
   "id": "miniature-aquarium",
   "metadata": {
    "pycharm": {
     "name": "#%% md\n"
    }
   },
   "source": [
    "## Concordance tables"
   ]
  },
  {
   "cell_type": "code",
   "execution_count": null,
   "id": "stunning-blocking",
   "metadata": {
    "pycharm": {
     "name": "#%%\n"
    },
    "scrolled": true
   },
   "outputs": [],
   "source": [
    "from Concordance.condordance_utils import getName\n",
    "\n",
    "def compute_lrp(group):\n",
    "    sensitivity = compute_sensitivity(group)\n",
    "    specificity = compute_specificity(group)\n",
    "    if specificity is not None and sensitivity is not None:\n",
    "        return sensitivity / (1 - specificity) if specificity != 1 else None\n",
    "    else:\n",
    "        return None\n",
    "\n",
    "def compute_lrn(group):\n",
    "    sensitivity = compute_sensitivity(group)\n",
    "    specificity = compute_specificity(group)\n",
    "    if specificity is not None and sensitivity is not None:\n",
    "        return (1 - sensitivity) / specificity if specificity != 0 else None\n",
    "    else:\n",
    "        return None\n",
    "    \n",
    "def compute_chisquare(group):\n",
    "    tp = group['tp']\n",
    "    fp = group['fp']\n",
    "    fn = group['fn']\n",
    "    tn = group['tn']\n",
    "    total = tp + fp + fn + tn\n",
    "    e11 = ((tp + fp) * (tp + fn)) / total\n",
    "    e12 = ((tp + fp) * (fp + tn)) / total\n",
    "    e21 = ((fn + tn) * (tp + fn)) / total\n",
    "    e22 = ((fn + tn) * (fp + tn)) / total\n",
    "    try:\n",
    "        return (((tp - e11)**2)/e11) + (((fp - e12)**2)/e12) + (((fn - e21)**2)/e21) + (((tn - e22)**2)/e22)\n",
    "    except Exception as e:\n",
    "        return None\n",
    "\n",
    "def compute_sensitivity(group):\n",
    "    tp = group['tp']\n",
    "    fn = group['fn']\n",
    "    return tp / (tp + fn) if (tp + fn) > 0 else None\n",
    "\n",
    "def compute_specificity(group):\n",
    "    fp = group['fp']\n",
    "    tn = group['tn']\n",
    "    return tn / (fp + tn) if (fp + tn) > 0 else None\n",
    "\n",
    "group_title = 'MedDRA ' + level.upper()\n",
    "pd.set_option('display.max_rows', None)\n",
    "pd.set_option('display.colheader_justify', 'left')\n",
    "pd.options.display.float_format = '{:.2f}'.format\n",
    "df = pd.DataFrame(np.random.rand(len(groups),11),columns=[group_title,'min.distance', 'TP','FP', 'FN', 'TN', 'Sensitivity', 'Specificity', 'LR+', 'LR-', 'chi-square'])\n",
    "df[group_title] = [getName(meddra, code, level) for code in groups]\n",
    "df['min.distance'] = [groups[code]['distance'] for code in groups]\n",
    "df.TP = [groups[code]['tp'] for code in groups]\n",
    "df.FP = [groups[code]['fp'] for code in groups]\n",
    "df.FN = [groups[code]['fn'] for code in groups]\n",
    "df.TN = [groups[code]['tn'] for code in groups]\n",
    "df['Sensitivity'] = [compute_sensitivity(groups[code]) for code in groups]\n",
    "df['Specificity'] = [compute_specificity(groups[code]) for code in groups]\n",
    "df['LR+'] = [compute_lrp(groups[code]) for code in groups]\n",
    "df['LR-'] = [compute_lrn(groups[code]) for code in groups]\n",
    "df['chi-square'] = [compute_chisquare(groups[code]) for code in groups]\n",
    "df.round(3)\n",
    "df = df.sort_values(by=['LR+'], ascending=False)\n",
    "dfStyler = df.style.set_properties(**{'text-align': 'right'})\n",
    "dfStyler.set_table_styles([dict(selector='th', props=[('text-align', 'left')])])\n",
    "dfStyler.set_properties(subset=[group_title], **{'text-align': 'left'}).hide_index()"
   ]
  },
  {
   "cell_type": "code",
   "execution_count": null,
   "id": "military-potential",
   "metadata": {
    "pycharm": {
     "name": "#%%\n"
    },
    "scrolled": true
   },
   "outputs": [],
   "source": [
    "html = df.to_html(index=False, justify='right', border=1)\n",
    "\n",
    "#write html to file\n",
    "text_file = open(\"../data/concordance_\" + level.upper() + \".html\", \"w\")\n",
    "text_file.write(html)\n",
    "text_file.close()"
   ]
  },
  {
   "cell_type": "code",
   "execution_count": null,
   "id": "b9520585",
   "metadata": {
    "pycharm": {
     "name": "#%%\n"
    }
   },
   "outputs": [],
   "source": []
  }
 ],
 "metadata": {
  "kernelspec": {
   "display_name": "Python 3 (ipykernel)",
   "language": "python",
   "name": "python3"
  },
  "language_info": {
   "codemirror_mode": {
    "name": "ipython",
    "version": 3
   },
   "file_extension": ".py",
   "mimetype": "text/x-python",
   "name": "python",
   "nbconvert_exporter": "python",
   "pygments_lexer": "ipython3",
   "version": "3.9.0"
  }
 },
 "nbformat": 4,
 "nbformat_minor": 5
}
