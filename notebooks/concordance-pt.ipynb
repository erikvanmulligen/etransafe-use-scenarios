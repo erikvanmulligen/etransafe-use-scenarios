{
 "cells": [
  {
   "cell_type": "markdown",
   "id": "czech-pressure",
   "metadata": {
    "pycharm": {
     "name": "#%% md\n"
    }
   },
   "source": [
    "# eTransafe Concordance analysis\n",
    "\n",
    "This is the use scenario that has been described by Thomas Steger-Hartmann in a publication with Matthew Clark.\n",
    "The idea is to compare animal observations with clinical observations for the various drugs\n",
    "1. determine the drugs that have been used in the preclinical and the clinical domain\n",
    "2. compare the individual PTs for preclinical and clinical\n",
    "3. compute the concordance matrix\n",
    "6. Visualize the matrix\n",
    "\n",
    "(C) 2022 Erasmus University Medical Center, Rotterdam, The Netherlands\n",
    "Author: Erik M. van Mulligen, e.vanmulligen@erasmusmc.nl"
   ]
  },
  {
   "cell_type": "code",
   "execution_count": 1,
   "id": "accredited-demographic",
   "metadata": {
    "pycharm": {
     "name": "#%%\n"
    },
    "scrolled": false
   },
   "outputs": [],
   "source": [
    "import os\n",
    "import sys\n",
    "module_path = os.path.abspath(os.path.join('..'))\n",
    "if module_path not in sys.path:\n",
    "    sys.path.append(module_path)\n",
    "from knowledgehub.api import KnowledgeHubAPI\n",
    "from Concordance.condordance_utils import getClinicalDatabases, getPreclinicalDatabases\n",
    "from Concordance.mapper import Mapper\n",
    "\n",
    "import ipywidgets as w\n",
    "from IPython.display import display, Javascript\n",
    "from ipypublish import nb_setup\n",
    "import numpy as np\n",
    "import json\n",
    "import mysql.connector\n",
    "\n",
    "import warnings\n",
    "warnings.filterwarnings('ignore')"
   ]
  },
  {
   "cell_type": "code",
   "execution_count": 2,
   "id": "brilliant-commercial",
   "metadata": {
    "pycharm": {
     "name": "#%%\n"
    },
    "scrolled": true
   },
   "outputs": [],
   "source": [
    "api = KnowledgeHubAPI(server='DEV', client_secret='3db5a6d7-4694-48a4-8a2e-e9c30d78f9ab')\n",
    "mapper = Mapper(api)"
   ]
  },
  {
   "cell_type": "markdown",
   "id": "comparative-perth",
   "metadata": {
    "pycharm": {
     "name": "#%% md\n"
    }
   },
   "source": [
    "## Authenticate for KnowledgeHub"
   ]
  },
  {
   "cell_type": "code",
   "execution_count": 3,
   "id": "square-devices",
   "metadata": {
    "pycharm": {
     "name": "#%%\n"
    },
    "scrolled": false
   },
   "outputs": [
    {
     "data": {
      "application/vnd.jupyter.widget-view+json": {
       "model_id": "de7506414bc141aebae3385142ae089b",
       "version_major": 2,
       "version_minor": 0
      },
      "text/plain": [
       "VBox(children=(Text(value='tester', description='username:', placeholder='Knowledge Hub account'), Password(de…"
      ]
     },
     "metadata": {},
     "output_type": "display_data"
    },
    {
     "name": "stdout",
     "output_type": "stream",
     "text": [
      "successfully logged in\n"
     ]
    },
    {
     "data": {
      "application/javascript": [
       "IPython.notebook.execute_cell_range(IPython.notebook.get_selected_index()+1, IPython.notebook.get_selected_index()+2)"
      ],
      "text/plain": [
       "<IPython.core.display.Javascript object>"
      ]
     },
     "metadata": {},
     "output_type": "display_data"
    }
   ],
   "source": [
    "username = w.Text(value='tester',placeholder='Knowledge Hub account', description='username:', disabled=False)\n",
    "password = w.Password(value='', placeholder='Knowledge Hub password', description='password:', disabled=False)\n",
    "loginBtn = w.Button(description='Login')\n",
    "status = w.Output()\n",
    "\n",
    "def on_button_clicked(_):\n",
    "    if not api.login(username.value, password.value):\n",
    "        print(\"Failed to login\")\n",
    "    else:\n",
    "        print(\"successfully logged in\")\n",
    "        display(Javascript('IPython.notebook.execute_cell_range(IPython.notebook.get_selected_index()+1, IPython.notebook.get_selected_index()+2)'))\n",
    "\n",
    "\n",
    "loginBtn.on_click(on_button_clicked)\n",
    "w.VBox([username, password, loginBtn])"
   ]
  },
  {
   "cell_type": "markdown",
   "id": "trying-detective",
   "metadata": {
    "pycharm": {
     "name": "#%% md\n"
    }
   },
   "source": [
    "## Authenticate for the data stored in the database"
   ]
  },
  {
   "cell_type": "code",
   "execution_count": 4,
   "id": "regulated-heart",
   "metadata": {
    "pycharm": {
     "name": "#%%\n"
    },
    "scrolled": false
   },
   "outputs": [
    {
     "data": {
      "application/vnd.jupyter.widget-view+json": {
       "model_id": "e626e1d670104066920b823b6754de04",
       "version_major": 2,
       "version_minor": 0
      },
      "text/plain": [
       "VBox(children=(Text(value='localhost', description='host:', placeholder='database host'), Text(value='concorda…"
      ]
     },
     "metadata": {},
     "output_type": "display_data"
    },
    {
     "name": "stdout",
     "output_type": "stream",
     "text": [
      "successfully logged in database\n"
     ]
    },
    {
     "data": {
      "application/javascript": [
       "IPython.notebook.execute_cell_range(IPython.notebook.get_selected_index()+1, IPython.notebook.get_selected_index()+2)"
      ],
      "text/plain": [
       "<IPython.core.display.Javascript object>"
      ]
     },
     "metadata": {},
     "output_type": "display_data"
    }
   ],
   "source": [
    "global db\n",
    "\n",
    "dbhost = w.Text(value='localhost',placeholder='database host', description='host:', disabled=False)\n",
    "dbdatabase = w.Text(value='concordance',placeholder='database name', description='database:', disabled=False)\n",
    "dbusername = w.Text(value='root',placeholder='database username', description='username:', disabled=False)\n",
    "dbpassword = w.Password(value='', placeholder='database password', description='password:', disabled=False)\n",
    "dbLoginBtn = w.Button(description='Login')\n",
    "status = w.Output()\n",
    "\n",
    "def dbLoginBtn_click(_):\n",
    "    global db\n",
    "    try:\n",
    "        db = mysql.connector.connect(host=dbhost.value, database=dbdatabase.value, user=dbusername.value, password=dbpassword.value)\n",
    "        print(\"successfully logged in database\")\n",
    "        display(Javascript('IPython.notebook.execute_cell_range(IPython.notebook.get_selected_index()+1, IPython.notebook.get_selected_index()+2)'))\n",
    "    except Exception as e:\n",
    "        print(\"failed to log in database\")\n",
    "        sys.exit(0)\n",
    "    \n",
    "dbLoginBtn.on_click(dbLoginBtn_click)\n",
    "w.VBox([dbhost, dbdatabase, dbusername, dbpassword, dbLoginBtn])"
   ]
  },
  {
   "cell_type": "markdown",
   "id": "right-drill",
   "metadata": {
    "pycharm": {
     "name": "#%% md\n"
    }
   },
   "source": [
    "## The database\n",
    "In order to be able to compute the concordance tables we have constructed a database with all preclinical and clinical findings found for drugs (i.e. inchikeys) that are both found in the preclinical and clinical data. For the preclinical data we restricted to findings that are treatment related and not in the control group. For each of the preclinical findings we checked with the semantic service whether the equivalent clinical finding was found in the clinical findings and vice versa. This is stored in the database as 'mapped' per finding. For each of the preclinical and clinical findings we derived the MedDRA PT it is related to. For preclinical terms this is done through the semantic service. For clinical terms the findings are already expressed as MedDRA PT terms. These mappings are stored in the database as 'PT' per finding.\n",
    "\n"
   ]
  },
  {
   "cell_type": "markdown",
   "id": "overhead-arabic",
   "metadata": {
    "pycharm": {
     "name": "#%% md\n"
    }
   },
   "source": [
    "## Drug mapping\n",
    "We maintain a list of drugs that can be found in the preclinical and clinical data with its inchikey. Per drug we have stored the finding ids that are associated per database."
   ]
  },
  {
   "cell_type": "code",
   "execution_count": 5,
   "id": "tested-captain",
   "metadata": {
    "pycharm": {
     "name": "#%%\n"
    },
    "scrolled": false
   },
   "outputs": [
    {
     "name": "stdout",
     "output_type": "stream",
     "text": [
      "304 drugs found\n"
     ]
    }
   ],
   "source": [
    "with open('../data/drugs_mapping.20220305.json', 'r') as drug_file:\n",
    "    drugs = json.loads(drug_file.read())\n",
    "    print(f'{len(drugs)} drugs found')"
   ]
  },
  {
   "cell_type": "markdown",
   "id": "insured-brand",
   "metadata": {
    "pycharm": {
     "name": "#%% md\n"
    }
   },
   "source": [
    "## Overview of the drugs"
   ]
  },
  {
   "cell_type": "code",
   "execution_count": 6,
   "id": "endangered-seeker",
   "metadata": {
    "pycharm": {
     "name": "#%%\n"
    },
    "scrolled": true
   },
   "outputs": [
    {
     "data": {
      "text/html": [
       "<div>\n",
       "<style scoped>\n",
       "    .dataframe tbody tr th:only-of-type {\n",
       "        vertical-align: middle;\n",
       "    }\n",
       "\n",
       "    .dataframe tbody tr th {\n",
       "        vertical-align: top;\n",
       "    }\n",
       "\n",
       "    .dataframe thead th {\n",
       "        text-align: right;\n",
       "    }\n",
       "</style>\n",
       "<table border=\"1\" class=\"dataframe\">\n",
       "  <thead>\n",
       "    <tr style=\"text-align: right;\">\n",
       "      <th></th>\n",
       "      <th>inchiKey</th>\n",
       "      <th>clinicalName</th>\n",
       "      <th>preclinicalName</th>\n",
       "    </tr>\n",
       "  </thead>\n",
       "  <tbody>\n",
       "    <tr>\n",
       "      <th>0</th>\n",
       "      <td>GDLIGKIOYRNHDA</td>\n",
       "      <td>clomipramine</td>\n",
       "      <td>Clomipramine HCl</td>\n",
       "    </tr>\n",
       "    <tr>\n",
       "      <th>1</th>\n",
       "      <td>OZVBMTJYIDMWIL</td>\n",
       "      <td>bromocriptine</td>\n",
       "      <td>Bromocriptine</td>\n",
       "    </tr>\n",
       "    <tr>\n",
       "      <th>2</th>\n",
       "      <td>KPYSYYIEGFHWSV</td>\n",
       "      <td>baclofen</td>\n",
       "      <td>Baclofen</td>\n",
       "    </tr>\n",
       "    <tr>\n",
       "      <th>3</th>\n",
       "      <td>QZUDBNBUXVUHMW</td>\n",
       "      <td>clozapine</td>\n",
       "      <td>Clozapin</td>\n",
       "    </tr>\n",
       "    <tr>\n",
       "      <th>4</th>\n",
       "      <td>ZNRGQMMCGHDTEI</td>\n",
       "      <td>tropisetron</td>\n",
       "      <td>Tropisetron</td>\n",
       "    </tr>\n",
       "    <tr>\n",
       "      <th>...</th>\n",
       "      <td>...</td>\n",
       "      <td>...</td>\n",
       "      <td>...</td>\n",
       "    </tr>\n",
       "    <tr>\n",
       "      <th>299</th>\n",
       "      <td>VMZMNAABQBOLAK</td>\n",
       "      <td>pasireotide</td>\n",
       "      <td>Pasireotide</td>\n",
       "    </tr>\n",
       "    <tr>\n",
       "      <th>300</th>\n",
       "      <td>HTIQEAQVCYTUBX</td>\n",
       "      <td>amlodipine</td>\n",
       "      <td>Amlodipine</td>\n",
       "    </tr>\n",
       "    <tr>\n",
       "      <th>301</th>\n",
       "      <td>FAKRSMQSSFJEIM</td>\n",
       "      <td>captopril</td>\n",
       "      <td>Captopril</td>\n",
       "    </tr>\n",
       "    <tr>\n",
       "      <th>302</th>\n",
       "      <td>YMTINGFKWWXKFG</td>\n",
       "      <td>fenofibrate</td>\n",
       "      <td>Fenofibrate</td>\n",
       "    </tr>\n",
       "    <tr>\n",
       "      <th>303</th>\n",
       "      <td>DDBREPKUVSBGFI</td>\n",
       "      <td>phenobarbital</td>\n",
       "      <td>Phenobarbital</td>\n",
       "    </tr>\n",
       "  </tbody>\n",
       "</table>\n",
       "<p>304 rows × 3 columns</p>\n",
       "</div>"
      ],
      "text/latex": [
       "\\begin{tabular}{llll}\n",
       "\\toprule\n",
       "{} &        inchiKey &            clinicalName &                            preclinicalName \\\\\n",
       "\\midrule\n",
       "0   &  GDLIGKIOYRNHDA &            clomipramine &                           Clomipramine HCl \\\\\n",
       "1   &  OZVBMTJYIDMWIL &           bromocriptine &                              Bromocriptine \\\\\n",
       "2   &  KPYSYYIEGFHWSV &                baclofen &                                   Baclofen \\\\\n",
       "3   &  QZUDBNBUXVUHMW &               clozapine &                                   Clozapin \\\\\n",
       "4   &  ZNRGQMMCGHDTEI &             tropisetron &                                Tropisetron \\\\\n",
       "5   &  XPCFTKFZXHTYIP &              benazepril &                                 Benazepril \\\\\n",
       "6   &  WRUUGTRCQOWXEG &             pamidronate &                       Pamidronate disodium \\\\\n",
       "7   &  WDQPAMHFFCXSNU &             clofazimine &                                Clofazimine \\\\\n",
       "8   &  YNZFUWZUGRBMHL &               opipramol &                                  Opipramol \\\\\n",
       "9   &  LBXHRAWDUMTPSE &               clopamide &                                  Clopamide \\\\\n",
       "10  &  JIVPVXMEBJLZRO &          chlorthalidone &                             Chlorthalidone \\\\\n",
       "11  &  HCYAFALTSJYZDH &             desipramine &                  Desipramine Hydrochloride \\\\\n",
       "12  &  GGXMRPUKBWXVHE &            halometasone &                               Halometasone \\\\\n",
       "13  &  FIADGNVRKBPQEU &              pizotyline &                                  Pizotifen \\\\\n",
       "14  &  BCGWQEUPMDMJNV &              imipramine &                   Imipramine hydrochloride \\\\\n",
       "15  &  MBGGBVCUIVRRBF &          sulfinpyrazone &                             Sulfinpyrazone \\\\\n",
       "16  &  XCTYLCDETUVOIP &        thiethylperazine &                           Thiethylperazine \\\\\n",
       "17  &  JZQKKSLKJUAGIC &                pindolol &                                   Pindolol \\\\\n",
       "18  &  VYMDGNCVAMGZFE &          phenylbutazone &                             Phenylbutazone \\\\\n",
       "19  &  DKNWSYNQZKUICI &              amantadine &                                 Amantadine \\\\\n",
       "20  &  INJOMKTZOLKMBF &              guanfacine &                                 Guanfacine \\\\\n",
       "21  &  ACGDKVXYNVEAGU &            guanethidine &                               Guanethidine \\\\\n",
       "22  &  DCMJBKFKXGPPMT &             cizolirtine &                                     E-4018 \\\\\n",
       "23  &  VQKLRVZQQYVIJW &           dihydralazine &                               Dihydralazin \\\\\n",
       "24  &  KLBQZWRITKRQQV &            thioridazine &                               Thioridazine \\\\\n",
       "25  &  QSLMDECMDJKHMQ &             maprotiline &                                Maprotiline \\\\\n",
       "26  &  OSVMTWJCGUFAOD &              formestane &                                 Formestane \\\\\n",
       "27  &  NQPDXQQQCQDHHW &         triclabendazole &                            Triclabendazole \\\\\n",
       "28  &  OVCDSSHSILBFBN &             amodiaquine &                                Amodiaquine \\\\\n",
       "29  &  AGOYDEPGAOXOCK &          clarithromycin &                             Clarithromycin \\\\\n",
       "30  &  UWKQSNNFCGGAFS &              irinotecan &                               GGA-SAD-0043 \\\\\n",
       "31  &  YGCFIWIQZPHFLU &              acesulfame &                               GGA-SAD-0044 \\\\\n",
       "32  &  XUKUURHRXDUEBC &            atorvastatin &                               GGA-SAD-0048 \\\\\n",
       "33  &  RBQOQRRFDPXAGN &         propentofylline &                               GGA-SAD-0051 \\\\\n",
       "34  &  DKOQGJHPHLTOJR &               cefpirome &                          Cefpirome sulfate \\\\\n",
       "35  &  WNMJYKCGWZFFKR &               alfuzosin &                                  Alfuzosin \\\\\n",
       "36  &  WIGIZIANZCJQQY &             glimepiride &                                 Glimepirid \\\\\n",
       "37  &  UNRHXEPDKXPRTM &              sultopride &                                Amisulpride \\\\\n",
       "38  &  QURWXBZNHXJZBE &               icatibant &                                  Icatibant \\\\\n",
       "39  &  ORYDPOVDJJZGHQ &            Tirapazamine &                               GGA-SAD-0057 \\\\\n",
       "40  &  LJVAJPDWBABPEJ &           telithromycin &                              Telithromycin \\\\\n",
       "41  &  NGGMYCMLYOUNGM &              fumagillin &                                 Fumagillin \\\\\n",
       "42  &  IMZMKUWMOSJXDT &                cromolyn &                               GGA-SAD-0268 \\\\\n",
       "43  &  IYIKLHRQXLHMJQ &              amiodarone &                                 Amiodarone \\\\\n",
       "44  &  AAOVKJBEBIDNHE &                diazepam &                                   Diazepam \\\\\n",
       "45  &  AHLBNYSZXLDEJQ &                orlistat &                                   Orlistat \\\\\n",
       "46  &  SHGAZHPCJJPHSC &            isotretinoin &                                  Tretinoin \\\\\n",
       "47  &  ZNNLBTZKUZBEKO &               glyburide &                              Glibenclamide \\\\\n",
       "48  &  SCKYRAXSEDYPSA &              ciclopirox &                                 Ciclopirox \\\\\n",
       "49  &  ZZUFCTLCJUWOSV &              furosemide &                                 Furosemide \\\\\n",
       "50  &  GSDSWSVVBLHKDQ &               ofloxacin &                               Levofloxacin \\\\\n",
       "51  &  PZRHRDRVRGEVNW &               milrinone &                                  Milrinone \\\\\n",
       "52  &  RQTOOFIXOKYGAN &              nedocromil &                               GGA-SAD-0069 \\\\\n",
       "53  &  HDACQVRGBOVJII &                ramipril &                                   Ramipril \\\\\n",
       "54  &  FTALBRSUTCGOEG &                riluzole &                                   Riluzole \\\\\n",
       "55  &  GMZVRMREEHBGGF &               piracetam &                                  Piracetam \\\\\n",
       "56  &  QSXXLDDWVCEBFP &            torbafylline &                               GGA-SAD-0243 \\\\\n",
       "57  &  CUWODFFVMXJOKD &               buserelin &                               GGA-SAD-0270 \\\\\n",
       "58  &  VHOGYURTWQBHIL &             leflunomide &                                Leflunomide \\\\\n",
       "59  &  BYPFEZZEUUWMEJ &          pentoxifylline &                             Pentoxifylline \\\\\n",
       "60  &  FZNCGRZWXLXZSZ &               voglibose &                                  Voglibose \\\\\n",
       "61  &  XLFWDASMENKTKL &             molsidomine &                                 Molsidomin \\\\\n",
       "62  &  GPRBEKHLDVQUJE &              cefotaxime &                     Cefotaxime sodium salt \\\\\n",
       "63  &  VXFJYXUZANRPDJ &            trandolapril &                               Trandolapril \\\\\n",
       "64  &  OHCQJHSOBUTRHG &               Colforsin &                                  Forskolin \\\\\n",
       "65  &  QVSXOXCYXPQXMF &               alniditan &                                PLS_JJ_0004 \\\\\n",
       "66  &  OZFSWVOEXHGDES &              lubeluzole &                                 Lubeluzole \\\\\n",
       "67  &  GXPHKUHSUJUWKP &            troglitazone &                               Troglitazone \\\\\n",
       "68  &  PVLJETXTTWAYEW &             mizolastine &                                Mizolastine \\\\\n",
       "69  &  YOSHYTLCDANDAN &              irbesartan &                                 Irbesartan \\\\\n",
       "70  &  RPTUSVTUFVMDQK &             hydralazine &                                Hydralazine \\\\\n",
       "71  &  UBQYURCVBFRUQT &            deferoxamine &                               Deferoxamine \\\\\n",
       "72  &  QPGGEKPRGVJKQB &              dibenzepin &                                 Dibenzepin \\\\\n",
       "73  &  ROBVIMPUHSLWNV &       aminoglutethimide &                          Aminoglutethimide \\\\\n",
       "74  &  PXWLVJLKJGVOKE &          propyphenazone &                             Propyphenazone \\\\\n",
       "75  &  MRBDMNSDAVCSSF &            phentolamine &                               Phentolamine \\\\\n",
       "76  &  ZQDWXGKKHFNSQK &             hydroxyzine &                                GGA_UCB_w16 \\\\\n",
       "77  &  PTOJVMZPWPAXER &               Enprostil &                         Roche_PC_RO1084135 \\\\\n",
       "78  &  PUXBGTOOZJQSKH &               carprofen &                                  Carprofen \\\\\n",
       "79  &  JDUBGYFRJFOXQC &            capivasertib &                           AZ_GGA_203705648 \\\\\n",
       "80  &  WAXQNWCZJDTGBU &              netupitant &                                 Netupitant \\\\\n",
       "81  &  HHHKFGXWKKUNCY &              cilazapril &                                 Cilazapril \\\\\n",
       "82  &  OZGNYLLQHRPOBR &               naftifine &                    Naftifine Hydrochloride \\\\\n",
       "83  &  ZIXNZOBDFKSQTC &              cloxazolam &                                 Cloxazolam \\\\\n",
       "84  &  DKWNMCUOEDMMIN &              melagatran &                           AZ_GGA_200002123 \\\\\n",
       "85  &  OUKYUETWWIPKQR &             saracatinib &                           AZ_GGA_200010909 \\\\\n",
       "86  &  PDOQBOJDRPLBQU &                AZD 1480 &                           AZ_GGA_203287608 \\\\\n",
       "87  &  JUSFANSTBFGBAF &             vistusertib &                           AZ_GGA_203287559 \\\\\n",
       "88  &  XXJWYDDUDKYVKI &               cediranib &                           AZ_GGA_200010232 \\\\\n",
       "89  &  FDLYAMZZIXQODN &                olaparib &                                   Olaparib \\\\\n",
       "90  &  LJNUIEQATDYXJH &             lesogaberan &                           AZ_GGA_203287640 \\\\\n",
       "91  &  JMEYDSHPKCSIJC &                 AZD3514 &                           AZ_GGA_204560569 \\\\\n",
       "92  &  OEKWJQXRCDYSHL &              ticagrelor &                                 Ticagrelor \\\\\n",
       "93  &  XFLQIRAKKLNXRQ &              elobixibat &                           AZ_GGA_203287633 \\\\\n",
       "94  &  XULSCZPZVQIMFM &              odevixibat &                           AZ_GGA_203287597 \\\\\n",
       "95  &  FNYFFCOCVNTJCD &                 AZD9164 &                           AZ_GGA_203287758 \\\\\n",
       "96  &  XGALLCVXEZPNRQ &               gefitinib &                                  Gefitinib \\\\\n",
       "97  &  FJHHZXWJVIEFGJ &                  ZD4054 &                           AZ_GGA_200003818 \\\\\n",
       "98  &  SEERZIQQUAZTOL &            cerivastatin &                               Cerivastatin \\\\\n",
       "99  &  HBUJYEUPIIJJOS &               posizolid &                           AZ_GGA_203287635 \\\\\n",
       "100 &  AAKJLRGGTJKAMG &               erlotinib &                                  Erlotinib \\\\\n",
       "101 &  INVTYAOGFAGBOE &              entinostat &                           AZ_GGA_200007856 \\\\\n",
       "102 &  CXGTZJYQWSUFET &            tesaglitazar &                           AZ_GGA_200004465 \\\\\n",
       "103 &  RYMZZMVNJRMUDD &             simvastatin &                           AZ_GGA_200006510 \\\\\n",
       "104 &  JZCPYUJPEARBJL &              Rimonabant &                                 Rimonabant \\\\\n",
       "105 &  CGIGDMFJXJATDK &            indomethacin &                           AZ_GGA_200002962 \\\\\n",
       "106 &  GJSURZIOUXUGAL &               clonidine &                           AZ_GGA_200001874 \\\\\n",
       "107 &  ANTSCNMPPGJYLG &        chlordiazepoxide &                           AZ_GGA_200003642 \\\\\n",
       "108 &  ZCCUWMICIWSJIX &     ceftaroline fosamil &                           AZ_GGA_200012432 \\\\\n",
       "109 &  CMSMOCZEIVJLDB &        cyclophosphamide &                           AZ_GGA_200000828 \\\\\n",
       "110 &  IMYZQPCYWPFTAG &            mecamylamine &                           AZ_GGA_203464217 \\\\\n",
       "111 &  SNICXCGAKADSCV &                nicotine &                                   Nicotine \\\\\n",
       "112 &  LKJPYSCBVHEWIU &            bicalutamide &                               Bicalutamide \\\\\n",
       "113 &  YBBLVLTVTVSKRW &             anastrozole &                                Anastrozole \\\\\n",
       "114 &  ZFMITUMMTDLWHR &               minoxidil &                           AZ_GGA_200000048 \\\\\n",
       "115 &  HLFSDGLLUJUHTE &              levamisole &                           AZ_GGA_200000537 \\\\\n",
       "116 &  LMEKQMALGUDUQG &            azathioprine &                           AZ_GGA_200000517 \\\\\n",
       "117 &  YASAKCUCGLMORW &           rosiglitazone &                              Rosiglitazone \\\\\n",
       "118 &  ZKMNUMMKYBVTFN &             ropivacaine &                                Ropivacaine \\\\\n",
       "119 &  VREFGVBLTWBCJP &              alprazolam &                           AZ_GGA_200000614 \\\\\n",
       "120 &  ULSDMUVEXKOYBU &            zolmitriptan &                               Zolmitriptan \\\\\n",
       "121 &  KWTSXDURSIMDCE &             amphetamine &                                Amphetamine \\\\\n",
       "122 &  RZTAMFZIAATZDJ &              felodipine &                                 Felodipine \\\\\n",
       "123 &  OIRDTQYFTABQOQ &               adenosine &                                  Adenosine \\\\\n",
       "124 &  BPZSYCZIITTYBL &              formoterol &                           AZ_GGA_200003180 \\\\\n",
       "125 &  VOVIALXJUBGFJZ &              budesonide &                           AZ_GGA_200001430 \\\\\n",
       "126 &  YEEZWCHGZNKEEK &             zafirlukast &                                Zafirlukast \\\\\n",
       "127 &  IVTVGDXNLFLDRM &             raltitrexed &                                Raltitrexed \\\\\n",
       "128 &  ZJAOAACCNHFJAH &               foscarnet &                                  Foscarnet \\\\\n",
       "129 &  GUJRSXAPGDDABA &             remoxipride &                                Remoxipride \\\\\n",
       "130 &  JLKIGFTWXXRPMT &        sulfamethoxazole &                           Sulfamethoxazole \\\\\n",
       "131 &  ANZXOIAKUNOVQU &              bambuterol &                                 Bambuterol \\\\\n",
       "132 &  CEUORZQYGODEFX &            aripiprazole &                               Aripiprazole \\\\\n",
       "133 &  KVWDHTXUZHCGIO &              olanzapine &                                 Olanzapine \\\\\n",
       "134 &  SUBDBMMJDZJVOS &              omeprazole &                               Esomeprazole \\\\\n",
       "135 &  NNJVILVZKWQKPM &               lidocaine &  Lidocaine HCl monohydrate; Prilocaine HCl \\\\\n",
       "136 &  SZRPDCCEHVWOJX &          pirinixic acid &                           AZ_GGA_200010384 \\\\\n",
       "137 &  ZXIBCJHYVWYIKI &            ximelagatran &                               Ximelagatran \\\\\n",
       "138 &  XSNMGLZVFNDDPW &                AZD 0837 &                           AZ_GGA_200008168 \\\\\n",
       "139 &  GUBGYTABKSRVRQ &                 lactose &                           AZ_GGA_201299465 \\\\\n",
       "140 &  DCOPUUMXTXDBNB &              diclofenac &                           AZ_GGA_200003370 \\\\\n",
       "141 &  SIQPXVQCUCHWDI &            enprofylline &                               Enprofylline \\\\\n",
       "142 &  VOXZDWNPVJITMN &               estradiol &                           AZ_GGA_200000247 \\\\\n",
       "143 &  VWUXBMIQPBEWFH &             fulvestrant &                           AZ_GGA_200001688 \\\\\n",
       "144 &  VMXUWOKSQNHOCA &              ranitidine &                           AZ_GGA_203287149 \\\\\n",
       "145 &  ZMHOBBKJBYLXFR &              almokalant &                           AZ_GGA_200006272 \\\\\n",
       "146 &  RDOIQAHITMMDAJ &              loperamide &                                 Loperamide \\\\\n",
       "147 &  UGFHIPBXIWJXNA &               liarozole &                                PLS_JJ_0003 \\\\\n",
       "148 &  XZWYZXLIPXDOLR &               metformin &         Metformin Hydrochloride.Glucophage \\\\\n",
       "149 &  JQXXHWHPUNPDRT &                rifampin &                                Rifampicine \\\\\n",
       "150 &  ZPXSCAKFGYXMGA &                mazindol &                                   Mazindol \\\\\n",
       "151 &  NJMYODHXAKYRHW &            flupenthixol &                                Flupentixol \\\\\n",
       "152 &  YSGASDXSLKIKOD &              remacemide &                           AZ_GGA_200010557 \\\\\n",
       "153 &  GTPHQORJKFJIRB &             frakefamide &                           AZ_GGA_200009446 \\\\\n",
       "154 &  UHTHHESEBZOYNR &              vandetanib &                                 Vandetanib \\\\\n",
       "155 &  BPRHUIZQVSMCRT &            rosuvastatin &                           AZ_GGA_229587807 \\\\\n",
       "156 &  OLBCVFGFOZPWHH &                propofol &                                   Propofol \\\\\n",
       "157 &  TUZYXOIXSAXUGO &             pravastatin &                           AZ_GGA_229575594 \\\\\n",
       "158 &  XWTYSIMOBUGWOL &             terbutaline &                           AZ_GGA_200002534 \\\\\n",
       "159 &  HPJKCIUCZWXJDR &               letrozole &                                  Letrozole \\\\\n",
       "160 &  MWTBKTRZPHJQLH &             alcaftadine &                                Alcaftadine \\\\\n",
       "161 &  GLLPUTYLZIKEGF &                ridogrel &                                   Ridogrel \\\\\n",
       "162 &  VHVPQPYKVGDNFY &            itraconazole &                               Itraconozole \\\\\n",
       "163 &  XMGQYMWWDOXHJM &                limonene &                                 d-limonene \\\\\n",
       "164 &  UURAUHCOJAIIRQ &       tiamulin fumarate &                                   Tiamulin \\\\\n",
       "165 &  DCSUBABJRXZOMT &               cisapride &                                  Cisapride \\\\\n",
       "166 &  XLMPPFTZALNBFS &                vorozole &                                PLS_JJ_0052 \\\\\n",
       "167 &  YXFNPRHZMOGREC &                 AZD7687 &                           AZ_GGA_203287598 \\\\\n",
       "168 &  RPCVIAXDAUMJJP &            ispronicline &                           AZ_GGA_200004584 \\\\\n",
       "169 &  BYBLEWFAAKGYCD &              miconazole &                                 Miconazole \\\\\n",
       "170 &  GGCSSNBKKAUURC &              sufentanil &                                    Citrate \\\\\n",
       "171 &  IDBPHNDTYPBSNI &              alfentanil &                                 Alfentanil \\\\\n",
       "172 &  RKLNONIVDFXQRX &             bromperidol &                                Bromperidol \\\\\n",
       "173 &  MDLAAYDRRZXJIF &             penfluridol &                                Penfluridol \\\\\n",
       "174 &  QPUVKSKJCNGSGT &                AZD-3043 &                           AZ_GGA_200003726 \\\\\n",
       "175 &  ACRHBAYQBXXRTO &              ivabradine &                   Ivabradine hydrochloride \\\\\n",
       "176 &  IRLWJILLXJGJTD &            muraglitazar &                            GGA_IRIS_SER007 \\\\\n",
       "177 &  PMRYVIKBURPHAH &             methimazole &                                Methimazole \\\\\n",
       "178 &  MVWVFYHBGMAFLY &             ziprasidone &                           AZ_GGA_200000818 \\\\\n",
       "179 &  PJMPHNIQZUBGLI &                fentanyl &                           AZ_GGA_200002196 \\\\\n",
       "180 &  IHEHEFLXQFOQJO &           pirinitramide &                                Piritramide \\\\\n",
       "181 &  ZCGOMHNNNFPNMX &           levocabastine &                Levocabastine hydrochloride \\\\\n",
       "182 &  FPCCSQOGAWCVBH &              ketanserin &                        Ketanserin tartrate \\\\\n",
       "183 &  SMANXXCATUTDDT &             flunarizine &                                Flunarizine \\\\\n",
       "184 &  MUMGGOZAMZWBJJ &            testosterone &                           AZ_GGA_200002665 \\\\\n",
       "185 &  XJGVXQDUIWGIRW &                loxapine &                                   Loxapine \\\\\n",
       "186 &  QWGDMFLQWFTERH &               amoxapine &                                  Amoxapine \\\\\n",
       "187 &  OVTCHWSLKGENKP &       disufenton sodium &                           AZ_GGA_200007423 \\\\\n",
       "188 &  LBOJYSIDWZQNJS &     Dizocilpine Maleate &                           AZ_GGA_200003722 \\\\\n",
       "189 &  NAUWTFJOPJWYOT &              vanoxerine &                           AZ_GGA_200005931 \\\\\n",
       "190 &  UREBDLICKHMUKA &           betamethasone &                           AZ_GGA_203287217 \\\\\n",
       "191 &  XNKCCCKFOQNXKV &               naloxegol &                                  Naloxegol \\\\\n",
       "192 &  YMBXTVYHTMGZDW &              loxoprofen &                                 Loxoprofen \\\\\n",
       "193 &  ZSKVGTPCRGIANV &                imipenem &                           AZ_GGA_201384247 \\\\\n",
       "194 &  RZVAJINKPMORJF &           acetaminophen &                           AZ_GGA_200000519 \\\\\n",
       "195 &  DUYJMQONPNNFPI &             osimertinib &                                Osimertinib \\\\\n",
       "196 &  MVFGUOIZUNYYSO &              prilocaine &                                 Prilocaine \\\\\n",
       "197 &  KPBZROQVTHLCDU &             clevidipine &                           AZ_GGA_200004244 \\\\\n",
       "198 &  PAEBIVWUMLRPSK &               cangrelor &                                  Cangrelor \\\\\n",
       "199 &  VAOCPAMSLUNLGC &           metronidazole &                           AZ_GGA_200003324 \\\\\n",
       "200 &  WDOGQTQEKVLZIJ &           fosbretabulin &                           AZ_GGA_203340244 \\\\\n",
       "201 &  ZWJINEZUASEZBH &            fenamic acid &                           AZ_GGA_200948603 \\\\\n",
       "202 &  APKFDSVGJQXUKY &          amphotericin B &                           AZ_GGA_203352003 \\\\\n",
       "203 &  YPHMISFOHDHNIV &           Cycloheximide &                           AZ_GGA_202445285 \\\\\n",
       "204 &  URKOMYMAXPYINW &              quetiapine &                                 Quetiapine \\\\\n",
       "205 &  DZGWFCGJZKJUFP &                tyramine &                                   Tyramine \\\\\n",
       "206 &  WSEQXVZVJXJVFP &              citalopram &                           AZ_GGA_200001716 \\\\\n",
       "207 &  IIRWNGPLJQXWFJ &                 AT13148 &                           AZ_GGA_203314983 \\\\\n",
       "208 &  CYOHGALHFOKKQC &             selumetinib &                           AZ_GGA_200006224 \\\\\n",
       "209 &  TVURRHSHRRELCG &              fenoldopam &                           AZ_GGA_200002307 \\\\\n",
       "210 &  JOLJIIDDOBNFHW &              xanomeline &                           AZ_GGA_200010081 \\\\\n",
       "211 &  MPIPASJGOJYODL &             isoconazole &                        Isoconazole Nitrate \\\\\n",
       "212 &  KOHIRBRYDXPAMZ &               nebivolol &                                  Nebivolol \\\\\n",
       "213 &  XAIPTRIXGHTTNT &             triflumuron &                         GGA_BCS_64628-44-0 \\\\\n",
       "214 &  IAJOBQBIJHVGMQ &        phosphinothricin &                         GGA_BCS_77182-82-2 \\\\\n",
       "215 &  PXMNMQRDXWABCY &            tebuconazole &                        GGA_BCS_107534-96-3 \\\\\n",
       "216 &  HOKKPVIRMVDYPB &             thiacloprid &                        GGA_BCS_111988-49-9 \\\\\n",
       "217 &  MLDQJTXFUGDVEO &               sorafenib &                                  Sorafenib \\\\\n",
       "218 &  FABPRXSRWADJSP &            moxifloxacin &                 Moxifloxacin hydrochloride \\\\\n",
       "219 &  TYZROVQLWOKYKF &               linezolid &                                  Linezolid \\\\\n",
       "220 &  SECKRCOLJRRGGV &              vardenafil &                                    Levitra \\\\\n",
       "221 &  BNRNXUUZRGQAQC &              sildenafil &                                     Viagra \\\\\n",
       "222 &  DGAIEPBNLOQYER &               iopromide &                                  Ultravist \\\\\n",
       "223 &  DKYWVDODHFEZIM &              ketoprofen &                                 Ketoprofen \\\\\n",
       "224 &  BSYNRYMUTXBXSQ &                 aspirin &                                    Aspirin \\\\\n",
       "225 &  UIAGMCDKSXEBJQ &              nimodipine &                                 NIMODIPINE \\\\\n",
       "226 &  OCAPBUJLXMYKEJ &              bifonazole &                                 Bifonazole \\\\\n",
       "227 &  VKQFCGNPDRICFG &             nisoldipine &                                Nisoldipine \\\\\n",
       "228 &  XILVEPYQJIOVNB &             etofenamate &                                 Etofenamat \\\\\n",
       "229 &  ODUOJXZPIYUATO &            racecadotril &                               Racecadotril \\\\\n",
       "230 &  TZJUVVIWVWFLCD &              ipsapirone &                                 Ipsapirone \\\\\n",
       "231 &  OIGNJSKKLXVSLS &            prednisolone &                               Prednisolone \\\\\n",
       "232 &  METQSPRSQINEEU &            drospirenone &                               Drospirenone \\\\\n",
       "233 &  XUHXFSYUBXNTHU &                iotrolan &                                   Iotrolan \\\\\n",
       "234 &  NDAUXUAQIAJITI &               albuterol &                                 Salbutamol \\\\\n",
       "235 &  HIFJCPQKFCZDDL &                iloprost &                          Iloprost ventavis \\\\\n",
       "236 &  IEXUMDBQLIVNHZ &             onapristone &                                Onapristone \\\\\n",
       "237 &  RLFKILXOLJVUNF &               abecarnil &                                  Abecarnil \\\\\n",
       "238 &  JJJFUHOGVZWXNQ &             Enbucrilate &                                Enbucrilate \\\\\n",
       "239 &  AOJJSUZBOXZQNB &             doxorubicin &                                 Adriamycin \\\\\n",
       "240 &  BFZKMNSQCNVFGM &              sagopilone &                                 Sagopilone \\\\\n",
       "241 &  ZDZOTLJHXYCWBA &               docetaxel &                                   Taxotere \\\\\n",
       "242 &  YAKWPXVTIGTRJH &             fotemustine &                                   Muphoran \\\\\n",
       "243 &  DJSXNILVACEBLP &      strontium ranelate &                            GGA_IRIS_SER026 \\\\\n",
       "244 &  DRLFMBDRBRZALE &               melatonin &                                  Melatonin \\\\\n",
       "245 &  IPVQLZZIHOAWMC &             perindopril &                                Perindopril \\\\\n",
       "246 &  DDUHZTYCFQRHIY &            griseofulvin &                               Griseofulvin \\\\\n",
       "247 &  WPVFJKSGQUFQAP &          valganciclovir &                                    Valcyte \\\\\n",
       "248 &  RTGDFNSFWBGLEC &   mycophenolate mofetil &                                   CellCept \\\\\n",
       "249 &  OGHNVEJMJSYVRP &              carvedilol &                                 Carvedilol \\\\\n",
       "250 &  QWAXKHKRTORLEM &              saquinavir &                                 Saquinavir \\\\\n",
       "251 &  XMXHEBAFVSFQEX &             iloperidone &                                Iloperidone \\\\\n",
       "252 &  FJLGEFLZQAZZCD &             fluvastatin &                                Fluvastatin \\\\\n",
       "253 &  ACWBQPMHZXGDFX &               valsartan &                                  Valsartan \\\\\n",
       "254 &  CEMAWMOMDPGJMB &              oxprenolol &                   Oxprenolol Hydrochloride \\\\\n",
       "255 &  CTRLABGOLIVAIY &           oxcarbazepine &                              Oxcarbazepine \\\\\n",
       "256 &  NLVFBUXFDBBNBW &              tobramycin &                                 Tobramycin \\\\\n",
       "257 &  HHZIURLSWUIHRB &               nilotinib &                                  Nilotinib \\\\\n",
       "258 &  JRURYQJSLYLRLN &              entacapone &                                 Entacapone \\\\\n",
       "259 &  KHPKQFYUPIUARC &             lumiracoxib &                                Lumiracoxib \\\\\n",
       "260 &  XSVMFMHYUFZWBK &            rivastigmine &                               Rivastigmine \\\\\n",
       "261 &  HPNSFSBZBAHARI &       mycophenolic acid &                       Mycophenolate Sodium \\\\\n",
       "262 &  JZUFKLXOESDKRF &     hydrochlorothiazide &                        Hydrochlorothiazide \\\\\n",
       "263 &  GGXKWVWZWMLJEH &             famciclovir &                                Famciclovir \\\\\n",
       "264 &  KKGQTZUTZRNORY &              fingolimod &                                 Fingolimod \\\\\n",
       "265 &  BOFQWVMAQOTZIW &             deferasirox &                                Deferasirox \\\\\n",
       "266 &  SYOKIDBDQMKNDQ &            vildagliptin &                               Vildagliptin \\\\\n",
       "267 &  FPOHNWQLNRZRFC &            panobinostat &                               Panobinostat \\\\\n",
       "268 &  IQFYYKKMVGJFEH &             telbivudine &                                Telbivudine \\\\\n",
       "269 &  HMJIYCCIJYRONP &              isradipine &                                 Isradipine \\\\\n",
       "270 &  KTUFNOKKBVMGRW &                imatinib &                          Imatinib Mesylate \\\\\n",
       "271 &  UXOWGYHJODZGMF &               aliskiren &                                  Aliskiren \\\\\n",
       "272 &  DOMXUEMWDBAQBQ &             terbinafine &                                Terbinafine \\\\\n",
       "273 &  HRWCVUIFMSZDJS &               spirapril &                    Spirapril Hydrochloride \\\\\n",
       "274 &  HKVAMNSJSFKALM &              everolimus &                                 Everolimus \\\\\n",
       "275 &  PMATZTZNYRCHOR &            cyclosporine &                                Ciclosporin \\\\\n",
       "276 &  GDFGTRDCCWFXTG &             quinagolide &                                Quinagolide \\\\\n",
       "277 &  IUBSYMUCCVWXPE &              metoprolol &                        Metoprolol Tartrate \\\\\n",
       "278 &  XRASPMIURGNCCH &         zoledronic acid &                            Zoledronic acid \\\\\n",
       "279 &  XFYDIVBRZNQMJC &              tizanidine &                   Tizanidine Hydrochloride \\\\\n",
       "280 &  UPMXNNIRAGDFEH &              bromoxynil &                                 Bromoxynil \\\\\n",
       "281 &  OWZREIFADZCYQD &             decamethrin &                               Deltamethrin \\\\\n",
       "282 &  QQODLKZGRKWIFG &              cyfluthrin &                               B-Cyfluthrin \\\\\n",
       "283 &  RWTNPBWLLIMQHL &            fexofenadine &                           Fexofenadine HCl \\\\\n",
       "284 &  KPQZUUQMTUIKBP &             secnidazole &                                Secnidazole \\\\\n",
       "285 &  PHWBOXQYWZNQIN &             ticlopidine &                                Ticlopidine \\\\\n",
       "286 &  DDLIGBOFAVUZHB &               midazolam &                                  Midazolam \\\\\n",
       "287 &  VAAUVRVFOQPIGI &             ceftriaxone &                                 Ceftriaxon \\\\\n",
       "288 &  ZROUQTNYPCANTN &  Tiapamil Hydrochloride &                                   Tiapamil \\\\\n",
       "289 &  OZWKMVRBQXNZKK &               ketorolac &                     Ketorolac Tromethamine \\\\\n",
       "290 &  SAADBVWGJQAEFS &              flurazepam &                             Flurazepam HCI \\\\\n",
       "291 &  QEVHRUUCFGRFIF &               reserpine &                                  Reserpine \\\\\n",
       "292 &  KASDHRXLYQOAKZ &            pimecrolimus &                               Pimecrolimus \\\\\n",
       "293 &  LUZRJRNZXALNLM &       dihydroergotamine &                          Dihydroergotamine \\\\\n",
       "294 &  IKBKZGMPCYNSLU &               tegaserod &                                  Tegaserod \\\\\n",
       "295 &  UUOJIACWOAYWEZ &              bopindolol &                                 Bopindolol \\\\\n",
       "296 &  DEQANNDTNATYII &              octreotide &                                 Octreodide \\\\\n",
       "297 &  BMPDWHIDQYTSHX &         eslicarbazepine &                              Licarbazepine \\\\\n",
       "298 &  KPJZHOPZRAFDTN &            methysergide &                               Methysergide \\\\\n",
       "299 &  VMZMNAABQBOLAK &             pasireotide &                                Pasireotide \\\\\n",
       "300 &  HTIQEAQVCYTUBX &              amlodipine &                                 Amlodipine \\\\\n",
       "301 &  FAKRSMQSSFJEIM &               captopril &                                  Captopril \\\\\n",
       "302 &  YMTINGFKWWXKFG &             fenofibrate &                                Fenofibrate \\\\\n",
       "303 &  DDBREPKUVSBGFI &           phenobarbital &                              Phenobarbital \\\\\n",
       "\\bottomrule\n",
       "\\end{tabular}\n"
      ],
      "text/plain": [
       "           inchiKey   clinicalName   preclinicalName\n",
       "0    GDLIGKIOYRNHDA   clomipramine  Clomipramine HCl\n",
       "1    OZVBMTJYIDMWIL  bromocriptine     Bromocriptine\n",
       "2    KPYSYYIEGFHWSV       baclofen          Baclofen\n",
       "3    QZUDBNBUXVUHMW      clozapine          Clozapin\n",
       "4    ZNRGQMMCGHDTEI    tropisetron       Tropisetron\n",
       "..              ...            ...               ...\n",
       "299  VMZMNAABQBOLAK    pasireotide       Pasireotide\n",
       "300  HTIQEAQVCYTUBX     amlodipine        Amlodipine\n",
       "301  FAKRSMQSSFJEIM      captopril         Captopril\n",
       "302  YMTINGFKWWXKFG    fenofibrate       Fenofibrate\n",
       "303  DDBREPKUVSBGFI  phenobarbital     Phenobarbital\n",
       "\n",
       "[304 rows x 3 columns]"
      ]
     },
     "execution_count": 6,
     "metadata": {},
     "output_type": "execute_result"
    }
   ],
   "source": [
    "pd = nb_setup.setup_pandas(escape_latex=False)\n",
    "df = pd.DataFrame(np.random.rand(len(drugs),3),columns=['inchiKey','clinicalName','preclinicalName'])\n",
    "df.inchiKey = [drugs[d]['inchiKey'] for d in drugs]\n",
    "df.clinicalName = [drugs[d]['clinicalName'] for d in drugs]\n",
    "df.preclinicalName = [drugs[d]['preclinicalName'] for d in drugs]\n",
    "df.round(3)"
   ]
  },
  {
   "cell_type": "markdown",
   "id": "ultimate-calgary",
   "metadata": {
    "pycharm": {
     "name": "#%% md\n"
    }
   },
   "source": [
    "## Concordance table\n",
    "Per drug retrieve the preclinical and clinical PT terms. \n",
    "- true positives are the PT terms that can be found present in the preclinical and clinical data per drug. \n",
    "- false positives are the PT terms that can be found in the preclinical data but not in the clinical data per drug\n",
    "- false negatives are the PT terms that can not be found in the preclinical data but in the clinical data per drug\n",
    "- true negatives are all PT terms that can not be found in the preclinical data and in the clinical data per drug"
   ]
  },
  {
   "cell_type": "code",
   "execution_count": 10,
   "id": "pointed-advertising",
   "metadata": {
    "pycharm": {
     "name": "#%%\n"
    },
    "scrolled": false
   },
   "outputs": [
    {
     "name": "stdout",
     "output_type": "stream",
     "text": [
      "{}\n"
     ]
    }
   ],
   "source": [
    "from Concordance.condordance_utils import getAllPreClinicalClinicalPTs, getPTDrugFindings, getAllPreclinicalClinicalDistances\n",
    "from Concordance.meddra import MedDRA\n",
    "\n",
    "level = 'soc'\n",
    "pt_to_group = {}\n",
    "\n",
    "def getGroup(meddra, pt, level):\n",
    "    if not pt in pt_to_group:\n",
    "        if level == 'pt':\n",
    "            group = meddra.getPt(pt)\n",
    "        elif level == 'hlt':\n",
    "            group = meddra.getHLT(pt)\n",
    "        elif level == 'soc':\n",
    "            group = meddra.getSoc(pt)\n",
    "        pt_to_group[pt] = list(group.keys())[0] if len(group) > 0 else None\n",
    "    return pt_to_group[pt]\n",
    "\n",
    "meddra = MedDRA(username=dbusername.value, password=dbpassword.value)\n",
    "ClinicalDatabases = getClinicalDatabases(api);\n",
    "PreclinicalDatabases = getPreclinicalDatabases(api);\n",
    "\n",
    "groups = {}\n",
    "preclinical_pts = {}\n",
    "clinical_pts = {}\n",
    "for drug in drugs:\n",
    "    preclinical_pts[drug] = getPTDrugFindings(db=db, drugInfo=drugs[drug], databases=PreclinicalDatabases.keys(), table='preclinical_meddra')\n",
    "    clinical_pts[drug] = getPTDrugFindings(db=db, drugInfo=drugs[drug], databases=ClinicalDatabases.keys(), table='clinical_meddra')\n",
    "\n",
    "all_preclinical_clinical_pts = getAllPreClinicalClinicalPTs(db=db, tables=['preclinical_meddra','clinical_meddra'])\n",
    "all_preclinical_clinical_distances = getAllPreclinicalClinicalDistances(db=db, tables=['preclinical_meddra','clinical_meddra'])\n",
    "\n",
    "for pt in all_preclinical_clinical_pts:\n",
    "    group = getGroup(meddra, pt, level)\n",
    "    \n",
    "    if group is not None:\n",
    "        if not group in groups:\n",
    "            groups[group] = {'tp': 0, 'fp': 0, 'fn': 0, 'tn': 0, 'drugs': [], 'distance': all_preclinical_clinical_distances[pt]}\n",
    "        elif abs(groups[group]['distance']) > abs(all_preclinical_clinical_distances[pt]):\n",
    "            groups[group]['distance'] = all_preclinical_clinical_distances[pt]\n",
    "\n",
    "        for drug in drugs:\n",
    "            if not drug in groups[group]['drugs']:\n",
    "                groups[group]['drugs'].append(drug)\n",
    "                if pt in preclinical_pts[drug]:\n",
    "                    if pt in clinical_pts[drug]:\n",
    "                        groups[group]['tp'] += 1\n",
    "                    else:\n",
    "                        groups[group]['fp'] += 1\n",
    "                else:\n",
    "                    if pt in clinical_pts[drug]:\n",
    "                        groups[group]['fn'] += 1\n",
    "                    else:\n",
    "                        groups[group]['tn'] += 1\n",
    "print(groups)"
   ]
  },
  {
   "cell_type": "markdown",
   "id": "miniature-aquarium",
   "metadata": {
    "pycharm": {
     "name": "#%% md\n"
    }
   },
   "source": [
    "## Concordance tables"
   ]
  },
  {
   "cell_type": "code",
   "execution_count": 9,
   "id": "stunning-blocking",
   "metadata": {
    "pycharm": {
     "name": "#%%\n"
    },
    "scrolled": true
   },
   "outputs": [
    {
     "data": {
      "text/html": [
       "<style type=\"text/css\">\n",
       "#T_30dde th {\n",
       "  text-align: left;\n",
       "}\n",
       "</style>\n",
       "<table id=\"T_30dde\">\n",
       "  <thead>\n",
       "    <tr>\n",
       "      <th id=\"T_30dde_level0_col0\" class=\"col_heading level0 col0\" >MedDRA SOC</th>\n",
       "      <th id=\"T_30dde_level0_col1\" class=\"col_heading level0 col1\" >min.distance</th>\n",
       "      <th id=\"T_30dde_level0_col2\" class=\"col_heading level0 col2\" >TP</th>\n",
       "      <th id=\"T_30dde_level0_col3\" class=\"col_heading level0 col3\" >FP</th>\n",
       "      <th id=\"T_30dde_level0_col4\" class=\"col_heading level0 col4\" >FN</th>\n",
       "      <th id=\"T_30dde_level0_col5\" class=\"col_heading level0 col5\" >TN</th>\n",
       "      <th id=\"T_30dde_level0_col6\" class=\"col_heading level0 col6\" >Sensitivity</th>\n",
       "      <th id=\"T_30dde_level0_col7\" class=\"col_heading level0 col7\" >Specificity</th>\n",
       "      <th id=\"T_30dde_level0_col8\" class=\"col_heading level0 col8\" >LR+</th>\n",
       "      <th id=\"T_30dde_level0_col9\" class=\"col_heading level0 col9\" >LR-</th>\n",
       "      <th id=\"T_30dde_level0_col10\" class=\"col_heading level0 col10\" >chi-square</th>\n",
       "    </tr>\n",
       "  </thead>\n",
       "  <tbody>\n",
       "  </tbody>\n",
       "</table>\n"
      ],
      "text/plain": [
       "<pandas.io.formats.style.Styler at 0x7fd478e8a1f0>"
      ]
     },
     "execution_count": 9,
     "metadata": {},
     "output_type": "execute_result"
    }
   ],
   "source": [
    "from Concordance.condordance_utils import getName\n",
    "from nbconvert import HTMLExporter\n",
    "import codecs\n",
    "import nbformat\n",
    "\n",
    "def compute_lrp(group):\n",
    "    sensitivity = compute_sensitivity(group)\n",
    "    specificity = compute_specificity(group)\n",
    "    if specificity is not None and sensitivity is not None:\n",
    "        return sensitivity / (1 - specificity) if specificity != 1 else None\n",
    "    else:\n",
    "        return None\n",
    "\n",
    "def compute_lrn(group):\n",
    "    sensitivity = compute_sensitivity(group)\n",
    "    specificity = compute_specificity(group)\n",
    "    if specificity is not None and sensitivity is not None:\n",
    "        return (1 - sensitivity) / specificity if specificity != 0 else None\n",
    "    else:\n",
    "        return None\n",
    "    \n",
    "def compute_chisquare(group):\n",
    "    tp = group['tp']\n",
    "    fp = group['fp']\n",
    "    fn = group['fn']\n",
    "    tn = group['tn']\n",
    "    total = tp + fp + fn + tn\n",
    "    e11 = ((tp + fp) * (tp + fn)) / total\n",
    "    e12 = ((tp + fp) * (fp + tn)) / total\n",
    "    e21 = ((fn + tn) * (tp + fn)) / total\n",
    "    e22 = ((fn + tn) * (fp + tn)) / total\n",
    "    try:\n",
    "        return (((tp - e11)**2)/e11) + (((fp - e12)**2)/e12) + (((fn - e21)**2)/e21) + (((tn - e22)**2)/e22)\n",
    "    except Exception as e:\n",
    "        return None\n",
    "\n",
    "def compute_sensitivity(group):\n",
    "    tp = group['tp']\n",
    "    fn = group['fn']\n",
    "    return tp / (tp + fn) if (tp + fn) > 0 else None\n",
    "\n",
    "def compute_specificity(group):\n",
    "    fp = group['fp']\n",
    "    tn = group['tn']\n",
    "    return tn / (fp + tn) if (fp + tn) > 0 else None\n",
    "\n",
    "group_title = 'MedDRA ' + level.upper()\n",
    "pd.set_option('display.max_rows', None)\n",
    "pd.set_option('display.colheader_justify', 'left')\n",
    "pd.options.display.float_format = '{:.2f}'.format\n",
    "df = pd.DataFrame(np.random.rand(len(groups),11),columns=[group_title,'min.distance', 'TP','FP', 'FN', 'TN', 'Sensitivity', 'Specificity', 'LR+', 'LR-', 'chi-square'])\n",
    "df[group_title] = [getName(meddra, code, level) for code in groups]\n",
    "df['min.distance'] = [groups[code]['distance'] for code in groups]\n",
    "df.TP = [groups[code]['tp'] for code in groups]\n",
    "df.FP = [groups[code]['fp'] for code in groups]\n",
    "df.FN = [groups[code]['fn'] for code in groups]\n",
    "df.TN = [groups[code]['tn'] for code in groups]\n",
    "df['Sensitivity'] = [compute_sensitivity(groups[code]) for code in groups]\n",
    "df['Specificity'] = [compute_specificity(groups[code]) for code in groups]\n",
    "df['LR+'] = [compute_lrp(groups[code]) for code in groups]\n",
    "df['LR-'] = [compute_lrn(groups[code]) for code in groups]\n",
    "df['chi-square'] = [compute_chisquare(groups[code]) for code in groups]\n",
    "df.round(3)\n",
    "df = df.sort_values(by=['LR+'], ascending=False)\n",
    "dfStyler = df.style.set_properties(**{'text-align': 'right'})\n",
    "dfStyler.set_table_styles([dict(selector='th', props=[('text-align', 'left')])])\n",
    "dfStyler.set_properties(subset=[group_title], **{'text-align': 'left'}).hide_index()"
   ]
  },
  {
   "cell_type": "code",
   "execution_count": 51,
   "id": "military-potential",
   "metadata": {
    "pycharm": {
     "name": "#%%\n"
    },
    "scrolled": true
   },
   "outputs": [],
   "source": [
    "html = df.to_html(index=False, justify='right', border=1)\n",
    "\n",
    "#write html to file\n",
    "text_file = open(\"../data/concordance_\" + level.upper() + \".html\", \"w\")\n",
    "text_file.write(html)\n",
    "text_file.close()"
   ]
  },
  {
   "cell_type": "code",
   "execution_count": null,
   "id": "b9520585",
   "metadata": {
    "pycharm": {
     "name": "#%%\n"
    },
    "scrolled": false
   },
   "outputs": [],
   "source": []
  }
 ],
 "metadata": {
  "kernelspec": {
   "display_name": "Python 3 (ipykernel)",
   "language": "python",
   "name": "python3"
  },
  "language_info": {
   "codemirror_mode": {
    "name": "ipython",
    "version": 3
   },
   "file_extension": ".py",
   "mimetype": "text/x-python",
   "name": "python",
   "nbconvert_exporter": "python",
   "pygments_lexer": "ipython3",
   "version": "3.9.0"
  }
 },
 "nbformat": 4,
 "nbformat_minor": 5
}
