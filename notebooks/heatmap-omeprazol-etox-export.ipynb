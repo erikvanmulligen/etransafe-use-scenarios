{
 "cells": [
  {
   "cell_type": "markdown",
   "metadata": {},
   "source": [
    "# eTransafe Omeprazole Heatmaps"
   ]
  },
  {
   "cell_type": "markdown",
   "metadata": {},
   "source": [
    "(C) 2020 dept of Medical Informatics\n",
    "Erik M. van Mulligen"
   ]
  },
  {
   "cell_type": "code",
   "execution_count": 3,
   "metadata": {},
   "outputs": [
    {
     "ename": "ModuleNotFoundError",
     "evalue": "No module named 'rdkit'",
     "output_type": "error",
     "traceback": [
      "\u001B[0;31m---------------------------------------------------------------------------\u001B[0m",
      "\u001B[0;31mModuleNotFoundError\u001B[0m                       Traceback (most recent call last)",
      "\u001B[0;32m<ipython-input-3-7f44c9023ecb>\u001B[0m in \u001B[0;36m<module>\u001B[0;34m\u001B[0m\n\u001B[1;32m      3\u001B[0m \u001B[0msys\u001B[0m\u001B[0;34m.\u001B[0m\u001B[0mpath\u001B[0m\u001B[0;34m.\u001B[0m\u001B[0minsert\u001B[0m\u001B[0;34m(\u001B[0m\u001B[0;36m0\u001B[0m\u001B[0;34m,\u001B[0m \u001B[0;34m'/Users/mulligen/Workspaces/AllProjects/eTS/src'\u001B[0m\u001B[0;34m)\u001B[0m\u001B[0;34m\u001B[0m\u001B[0;34m\u001B[0m\u001B[0m\n\u001B[1;32m      4\u001B[0m \u001B[0;34m\u001B[0m\u001B[0m\n\u001B[0;32m----> 5\u001B[0;31m \u001B[0;32mimport\u001B[0m \u001B[0mkh\u001B[0m\u001B[0;34m\u001B[0m\u001B[0;34m\u001B[0m\u001B[0m\n\u001B[0m\u001B[1;32m      6\u001B[0m \u001B[0;32mfrom\u001B[0m \u001B[0mipywidgets\u001B[0m \u001B[0;32mimport\u001B[0m \u001B[0minteract\u001B[0m\u001B[0;34m,\u001B[0m \u001B[0minteractive\u001B[0m\u001B[0;34m,\u001B[0m \u001B[0mfixed\u001B[0m\u001B[0;34m,\u001B[0m \u001B[0minteract_manual\u001B[0m\u001B[0;34m\u001B[0m\u001B[0;34m\u001B[0m\u001B[0m\n\u001B[1;32m      7\u001B[0m \u001B[0;32mfrom\u001B[0m \u001B[0mIPython\u001B[0m\u001B[0;34m.\u001B[0m\u001B[0mdisplay\u001B[0m \u001B[0;32mimport\u001B[0m \u001B[0mdisplay\u001B[0m\u001B[0;34m,\u001B[0m \u001B[0mMarkdown\u001B[0m\u001B[0;34m,\u001B[0m \u001B[0mclear_output\u001B[0m\u001B[0;34m,\u001B[0m \u001B[0mJavascript\u001B[0m\u001B[0;34m\u001B[0m\u001B[0;34m\u001B[0m\u001B[0m\n",
      "\u001B[0;32m~/Workspaces/AllProjects/eTS/src/kh.py\u001B[0m in \u001B[0;36m<module>\u001B[0;34m\u001B[0m\n\u001B[1;32m      3\u001B[0m \u001B[0;32mimport\u001B[0m \u001B[0murllib3\u001B[0m\u001B[0;34m\u001B[0m\u001B[0;34m\u001B[0m\u001B[0m\n\u001B[1;32m      4\u001B[0m \u001B[0;32mimport\u001B[0m \u001B[0msemanticservice\u001B[0m\u001B[0;34m\u001B[0m\u001B[0;34m\u001B[0m\u001B[0m\n\u001B[0;32m----> 5\u001B[0;31m \u001B[0;32mimport\u001B[0m \u001B[0msimilarityservice\u001B[0m\u001B[0;34m\u001B[0m\u001B[0;34m\u001B[0m\u001B[0m\n\u001B[0m\u001B[1;32m      6\u001B[0m \u001B[0;32mimport\u001B[0m \u001B[0mprimitiveadapter\u001B[0m\u001B[0;34m\u001B[0m\u001B[0;34m\u001B[0m\u001B[0m\n\u001B[1;32m      7\u001B[0m \u001B[0;34m\u001B[0m\u001B[0m\n",
      "\u001B[0;32m~/Workspaces/AllProjects/eTS/src/similarityservice.py\u001B[0m in \u001B[0;36m<module>\u001B[0;34m\u001B[0m\n\u001B[1;32m     10\u001B[0m \u001B[0;32mimport\u001B[0m \u001B[0mtime\u001B[0m\u001B[0;34m\u001B[0m\u001B[0;34m\u001B[0m\u001B[0m\n\u001B[1;32m     11\u001B[0m \u001B[0;32mimport\u001B[0m \u001B[0mtempfile\u001B[0m\u001B[0;34m\u001B[0m\u001B[0;34m\u001B[0m\u001B[0m\n\u001B[0;32m---> 12\u001B[0;31m \u001B[0;32mfrom\u001B[0m \u001B[0mrdkit\u001B[0m \u001B[0;32mimport\u001B[0m \u001B[0mChem\u001B[0m\u001B[0;34m\u001B[0m\u001B[0;34m\u001B[0m\u001B[0m\n\u001B[0m\u001B[1;32m     13\u001B[0m \u001B[0;34m\u001B[0m\u001B[0m\n\u001B[1;32m     14\u001B[0m \u001B[0;34m\u001B[0m\u001B[0m\n",
      "\u001B[0;31mModuleNotFoundError\u001B[0m: No module named 'rdkit'"
     ]
    }
   ],
   "source": [
    "from __future__ import print_function\n",
    "import sys  \n",
    "sys.path.insert(0, '/Users/mulligen/Workspaces/AllProjects/eTS/src')\n",
    "\n",
    "import knowledgehub\n",
    "from ipywidgets import interact, interactive, fixed, interact_manual\n",
    "from IPython.display import display, Markdown, clear_output, Javascript\n",
    "import ipywidgets as widgets\n",
    "import numpy as np\n",
    "import seaborn as sns\n",
    "import pandas\n",
    "import json\n",
    "import matplotlib.pyplot as plt\n",
    "from pprint import pprint"
   ]
  },
  {
   "cell_type": "code",
   "execution_count": 2,
   "metadata": {},
   "outputs": [],
   "source": [
    "api = knowledgehub.KnowledgeHubAPI()"
   ]
  },
  {
   "cell_type": "markdown",
   "metadata": {},
   "source": [
    "## Authentication"
   ]
  },
  {
   "cell_type": "code",
   "execution_count": 3,
   "metadata": {},
   "outputs": [
    {
     "data": {
      "application/vnd.jupyter.widget-view+json": {
       "model_id": "a7689e4c8e33443ca00c794e5a0e0f08",
       "version_major": 2,
       "version_minor": 0
      },
      "text/plain": [
       "VBox(children=(Text(value='e.vanmulligen@erasmusmc.nl', description='username:', placeholder='Knowledge Hub ac…"
      ]
     },
     "metadata": {},
     "output_type": "display_data"
    }
   ],
   "source": [
    "username = widgets.Text(\n",
    "    value='e.vanmulligen@erasmusmc.nl',\n",
    "    placeholder='Knowledge Hub account',\n",
    "    description='username:',\n",
    "    disabled=False\n",
    ")\n",
    "\n",
    "password = widgets.Password(\n",
    "    value='',\n",
    "    placeholder='Knowledge Hub password',\n",
    "    description='password:',\n",
    "    disabled=False\n",
    ")\n",
    "\n",
    "loginBtn = widgets.Button(description='Login')\n",
    "status = widgets.Output()\n",
    "\n",
    "def on_button_clicked(_):\n",
    "      # \"linking function with output\"\n",
    "      with status:\n",
    "        # what happens when we press the button\n",
    "        clear_output()\n",
    "        if api.login(username.value, password.value) == False:\n",
    "            print(\"Failed to login\")\n",
    "        else:\n",
    "            print(\"successfully logged in\")\n",
    "            #display(Javascript('Jupyter.notebook.execute_cell_range(IPython.notebook.get_selected_index()+1, IPython.notebook.ncells())'))\n",
    "\n",
    "            \n",
    "# linking button and function together using a button's method\n",
    "loginBtn.on_click(on_button_clicked)\n",
    "# displaying button and its output together\n",
    "widgets.VBox([username, password, loginBtn,status])"
   ]
  },
  {
   "cell_type": "markdown",
   "metadata": {},
   "source": [
    "# Translate compound to SMILES using semantic service"
   ]
  },
  {
   "cell_type": "code",
   "execution_count": 4,
   "metadata": {},
   "outputs": [],
   "source": [
    "compoundNames = [\"omeprazole\"]\n",
    "compoundSmiles = []\n",
    "for compoundName in compoundNames:\n",
    "    compound = api.SemanticService().normalize(compoundName, ['RxNorm','smiles'])\n",
    "    if 'concepts' in compound:\n",
    "        for concept in compound['concepts']:\n",
    "            if 'vocabularyId' in concept:\n",
    "                if concept['vocabularyId'] == 'smiles':\n",
    "                    compoundSmiles.append(concept['conceptCode'])                   "
   ]
  },
  {
   "cell_type": "markdown",
   "metadata": {},
   "source": [
    "## Retrieve similar compounds"
   ]
  },
  {
   "cell_type": "code",
   "execution_count": 5,
   "metadata": {},
   "outputs": [
    {
     "name": "stdout",
     "output_type": "stream",
     "text": [
      "For omeprazole 1 similar compounds have been found!\n"
     ]
    }
   ],
   "source": [
    "similar_compounds = api.SimilarityService().get(compoundSmiles[0], nr_results = 20)\n",
    "similar_compound_concepts = []\n",
    "if similar_compounds != None:\n",
    "    if ('search_results' in similar_compounds) and (len(similar_compounds['search_results']) == 1):\n",
    "        search_result = similar_compounds['search_results'][0]\n",
    "        #pprint(search_result)\n",
    "        if 'obj_nam' in search_result:\n",
    "            for cmp in search_result['obj_nam']:\n",
    "                compound_concept = api.SemanticService().normalize(cmp, ['RxNorm'])\n",
    "                similar_compound_concepts.append(compound_concept)\n",
    "        else:\n",
    "            print('something wrong in the result object from the similarity service')\n",
    "else:\n",
    "    print('similarity service failed')\n",
    "    \n",
    "print(f'For {compoundNames[0]} {len(similar_compound_concepts)} similar compounds have been found!')"
   ]
  },
  {
   "cell_type": "markdown",
   "metadata": {},
   "source": [
    "## Convert concepts to identifiers"
   ]
  },
  {
   "cell_type": "code",
   "execution_count": 6,
   "metadata": {},
   "outputs": [],
   "source": [
    "compoundNames = []\n",
    " \n",
    "for similar_compound_concept in similar_compound_concepts:\n",
    "    for concept in similar_compound_concept['concepts']:\n",
    "        compoundNames.append(concept['conceptName'])"
   ]
  },
  {
   "cell_type": "markdown",
   "metadata": {},
   "source": [
    "## Data retrieval"
   ]
  },
  {
   "cell_type": "code",
   "execution_count": 14,
   "metadata": {},
   "outputs": [
    {
     "name": "stdout",
     "output_type": "stream",
     "text": [
      "retrieving 8983 records\n"
     ]
    }
   ],
   "source": [
    "import xlsxwriter\n",
    "\n",
    "workbook = xlsxwriter.Workbook('/tmp/etox-ae-organ-08102020.xlsx') \n",
    "worksheet = workbook.add_worksheet('omeprazole') \n",
    "worksheet.write('A1', 'adverse event')\n",
    "worksheet.write('B1', 'organ')\n",
    "worksheet.write('C1', 'count')\n",
    "\n",
    "counts = {}\n",
    "for study in api.eToxSys().getStudiesByCompoundNames(compoundNames):\n",
    "    f = study['FINDING']\n",
    "    if f['finding'] != None and len(f['finding']) > 0 and f['specimenOrgan'] != None:\n",
    "        key = f['finding'] + '|' + f['specimenOrgan']\n",
    "        if not key in counts:\n",
    "            counts[key] = 1\n",
    "        else:\n",
    "            counts[key] += 1\n",
    "\n",
    "row = 0\n",
    "for key in counts:\n",
    "    parts = key.split('|')\n",
    "    row += 1\n",
    "    worksheet.write(row, 0, parts[0])\n",
    "    worksheet.write(row, 1, parts[1])\n",
    "    worksheet.write(row, 2, counts[key])\n",
    "\n",
    "workbook.close()"
   ]
  },
  {
   "cell_type": "code",
   "execution_count": null,
   "metadata": {},
   "outputs": [],
   "source": []
  }
 ],
 "metadata": {
  "kernelspec": {
   "display_name": "Python 3",
   "language": "python",
   "name": "python3"
  },
  "language_info": {
   "codemirror_mode": {
    "name": "ipython",
    "version": 3
   },
   "file_extension": ".py",
   "mimetype": "text/x-python",
   "name": "python",
   "nbconvert_exporter": "python",
   "pygments_lexer": "ipython3",
   "version": "3.7.2"
  }
 },
 "nbformat": 4,
 "nbformat_minor": 4
}