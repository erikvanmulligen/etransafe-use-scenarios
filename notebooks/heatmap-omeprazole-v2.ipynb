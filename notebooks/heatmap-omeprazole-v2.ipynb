{
 "cells": [
  {
   "cell_type": "markdown",
   "metadata": {
    "pycharm": {
     "name": "#%% md\n"
    }
   },
   "source": [
    " # eTransafe Omeprazole Heatmap\n",
    "\n",
    "This is the use scenario that has been described in the eTox project for exploring the differences with respect to adverse events between omeprazole preclinical and clinical. In order to compute these results the following scenario is executed:\n",
    "1. authenticate with the eTransafe keycloak\n",
    "2. Translate the provided compound (e.g., omeprazole) to a SMILES\n",
    "3. Retrieve similar compounds based on structural similarity\n",
    "4. Retrieve data from the preclinical and clinical databases\n",
    "5. Aggregate the data per system organ class\n",
    "6. Visualize the data using a heatmap\n",
    "\n",
    "(C) 2021 Erasmus University Medical Center, Rotterdam, The Netherlands\n",
    "Author: Erik M. van Mulligen, e.vanmulligen@erasmusmc.nl"
   ]
  },
  {
   "cell_type": "code",
   "execution_count": 1,
   "metadata": {
    "pycharm": {
     "name": "#%%\n"
    },
    "scrolled": false
   },
   "outputs": [],
   "source": [
    "import sys\n",
    "sys.path.append('/Users/mulligen/git/etransafe-use-scenarios')\n",
    "from knowledgehub.api import KnowledgeHubAPI\n",
    "import ipywidgets as w\n",
    "from IPython.display import display, Javascript\n",
    "from ipypublish import nb_setup\n",
    "import numpy as np\n",
    "import numpy.ma as ma\n",
    "import seaborn as sns\n",
    "import pandas\n",
    "from matplotlib.colors import LogNorm, Normalize\n",
    "import matplotlib.pyplot as plt\n",
    "import os\n",
    "import warnings\n",
    "warnings.filterwarnings(\"ignore\")"
   ]
  },
  {
   "cell_type": "code",
   "execution_count": 2,
   "metadata": {
    "pycharm": {
     "name": "#%%\n"
    }
   },
   "outputs": [],
   "source": [
    "api = KnowledgeHubAPI(server='TEST', client_secret='39c644b3-1f23-4d94-a71f-e0fb43ebd760')"
   ]
  },
  {
   "cell_type": "markdown",
   "metadata": {
    "pycharm": {
     "name": "#%% md\n"
    }
   },
   "source": [
    "# 1. Authentication\n",
    "Use eTransafe's authentication service to get access to available services"
   ]
  },
  {
   "cell_type": "code",
   "execution_count": 3,
   "metadata": {
    "pycharm": {
     "name": "#%%\n"
    }
   },
   "outputs": [
    {
     "data": {
      "application/vnd.jupyter.widget-view+json": {
       "model_id": "ab7f01ed53a84e26aeee7662c0081fc6",
       "version_major": 2,
       "version_minor": 0
      },
      "text/plain": [
       "VBox(children=(Text(value='erik.mulligen', description='username:', placeholder='Knowledge Hub account'), Pass…"
      ]
     },
     "execution_count": 3,
     "metadata": {},
     "output_type": "execute_result"
    },
    {
     "name": "stdout",
     "output_type": "stream",
     "text": [
      "successfully logged in\n"
     ]
    },
    {
     "data": {
      "application/javascript": [
       "IPython.notebook.execute_cell_range(IPython.notebook.get_selected_index()+1, IPython.notebook.get_selected_index()+2)"
      ],
      "text/plain": [
       "<IPython.core.display.Javascript object>"
      ]
     },
     "metadata": {},
     "output_type": "display_data"
    }
   ],
   "source": [
    "from IPython.core.display_functions import clear_output\n",
    "\n",
    "username = w.Text(value='erik.mulligen',placeholder='Knowledge Hub account', description='username:', disabled=False)\n",
    "password = w.Password(value='', placeholder='Knowledge Hub password', description='password:', disabled=False)\n",
    "loginBtn = w.Button(description='Login')\n",
    "def on_button_clicked(_):\n",
    "    if api.login(username.value, password.value) == False:\n",
    "        print(\"Failed to login\")\n",
    "    else:\n",
    "        print(\"successfully logged in\")\n",
    "        display(Javascript('IPython.notebook.execute_cell_range(IPython.notebook.get_selected_index()+1, IPython.notebook.get_selected_index()+2)'))\n",
    "\n",
    "loginBtn.on_click(on_button_clicked)\n",
    "w.VBox([username, password, loginBtn])"
   ]
  },
  {
   "cell_type": "markdown",
   "metadata": {
    "pycharm": {
     "name": "#%% md\n"
    }
   },
   "source": [
    "## 2. Translate compound to SMILES using semantic services\n",
    "For the entered compound name, retrieve the associated SMILES using the semantic services"
   ]
  },
  {
   "cell_type": "code",
   "execution_count": 4,
   "metadata": {
    "pycharm": {
     "name": "#%%\n"
    }
   },
   "outputs": [
    {
     "data": {
      "application/vnd.jupyter.widget-view+json": {
       "model_id": "ba76d66132e64cc18d3c05afa7f89ac1",
       "version_major": 2,
       "version_minor": 0
      },
      "text/plain": [
       "VBox(children=(Text(value='omeprazole', description='compound:', placeholder='compound name'), Button(descript…"
      ]
     },
     "execution_count": 4,
     "metadata": {},
     "output_type": "execute_result"
    },
    {
     "name": "stdout",
     "output_type": "stream",
     "text": [
      "retrieving smiles for omeprazole\n",
      "Found SMILES ['COc1ccc2[nH]c([S+]([O-])Cc3ncc(C)c(OC)c3C)nc2c1', 'COc1ccc2nc3n(c2c1)SCc1c(C)c(OC)c(C)c[n+]1-3', 'COc1ccc2[nH]c(S(=O)(=O)Cc3ncc(C)c(OC)c3C)nc2c1'] for omeprazole\n"
     ]
    },
    {
     "data": {
      "application/javascript": [
       "IPython.notebook.execute_cell_range(IPython.notebook.get_selected_index()+1, IPython.notebook.get_selected_index()+2)"
      ],
      "text/plain": [
       "<IPython.core.display.Javascript object>"
      ]
     },
     "metadata": {},
     "output_type": "display_data"
    }
   ],
   "source": [
    "compoundName = w.Text(value='omeprazole',placeholder='compound name', description='compound:', disabled=False)\n",
    "compoundBtn = w.Button(description='Retrieve')\n",
    "compoundSmile = None\n",
    "\n",
    "def on_compound_entered(_):\n",
    "    global compoundSmile\n",
    "    print(f'retrieving smiles for {compoundName.value}')\n",
    "    compoundSmile = api.ChemistryService().getSMILESByName(compoundName.value)\n",
    "    print(f'Found SMILES {compoundSmile} for {compoundName.value}')\n",
    "    display(Javascript('IPython.notebook.execute_cell_range(IPython.notebook.get_selected_index()+1, IPython.notebook.get_selected_index()+2)'))\n",
    "\n",
    "compoundBtn.on_click(on_compound_entered) \n",
    "w.VBox([compoundName, compoundBtn])"
   ]
  },
  {
   "cell_type": "markdown",
   "metadata": {
    "pycharm": {
     "name": "#%% md\n"
    }
   },
   "source": [
    "## 3. Retrieve similar compounds"
   ]
  },
  {
   "cell_type": "code",
   "execution_count": 5,
   "metadata": {
    "pycharm": {
     "name": "#%%\n"
    }
   },
   "outputs": [
    {
     "data": {
      "text/html": [
       "<div>\n",
       "<style scoped>\n",
       "    .dataframe tbody tr th:only-of-type {\n",
       "        vertical-align: middle;\n",
       "    }\n",
       "\n",
       "    .dataframe tbody tr th {\n",
       "        vertical-align: top;\n",
       "    }\n",
       "\n",
       "    .dataframe thead th {\n",
       "        text-align: right;\n",
       "    }\n",
       "</style>\n",
       "<table border=\"1\" class=\"dataframe\">\n",
       "  <thead>\n",
       "    <tr style=\"text-align: right;\">\n",
       "      <th></th>\n",
       "      <th>NAME</th>\n",
       "      <th>SMILES</th>\n",
       "      <th>SIMILARITY</th>\n",
       "    </tr>\n",
       "  </thead>\n",
       "  <tbody>\n",
       "    <tr>\n",
       "      <th>0</th>\n",
       "      <td>esomeprazole</td>\n",
       "      <td>COc1ccc2[nH]c([S@@+]([O-])Cc3ncc(C)c(OC)c3C)nc2c1</td>\n",
       "      <td>1.0000</td>\n",
       "    </tr>\n",
       "    <tr>\n",
       "      <th>1</th>\n",
       "      <td>omeprazole</td>\n",
       "      <td>COc1ccc2[nH]c([S+]([O-])Cc3ncc(C)c(OC)c3C)nc2c1</td>\n",
       "      <td>1.0000</td>\n",
       "    </tr>\n",
       "    <tr>\n",
       "      <th>2</th>\n",
       "      <td>pantoprazole</td>\n",
       "      <td>COc1ccnc(C[S+]([O-])c2nc3cc(OC(F)F)ccc3[nH]2)c1OC</td>\n",
       "      <td>0.6531</td>\n",
       "    </tr>\n",
       "    <tr>\n",
       "      <th>3</th>\n",
       "      <td>rabeprazole</td>\n",
       "      <td>COCCCOc1ccnc(C[S+]([O-])c2nc3ccccc3[nH]2)c1C</td>\n",
       "      <td>0.6275</td>\n",
       "    </tr>\n",
       "    <tr>\n",
       "      <th>4</th>\n",
       "      <td>dexlansoprazole</td>\n",
       "      <td>Cc1c(OCC(F)(F)F)ccnc1C[S@@+]([O-])c1nc2ccccc2[...</td>\n",
       "      <td>0.6078</td>\n",
       "    </tr>\n",
       "    <tr>\n",
       "      <th>5</th>\n",
       "      <td>lansoprazole</td>\n",
       "      <td>Cc1c(OCC(F)(F)F)ccnc1C[S+]([O-])c1nc2ccccc2[nH]1</td>\n",
       "      <td>0.6078</td>\n",
       "    </tr>\n",
       "  </tbody>\n",
       "</table>\n",
       "</div>"
      ],
      "text/latex": [
       "\\begin{tabular}{llll}\n",
       "\\toprule\n",
       "{} &             NAME &                                             SMILES & SIMILARITY \\\\\n",
       "\\midrule\n",
       "0 &     esomeprazole &  COc1ccc2[nH]c([S@@+]([O-])Cc3ncc(C)c(OC)c3C)nc2c1 &     1.0000 \\\\\n",
       "1 &       omeprazole &    COc1ccc2[nH]c([S+]([O-])Cc3ncc(C)c(OC)c3C)nc2c1 &     1.0000 \\\\\n",
       "2 &     pantoprazole &  COc1ccnc(C[S+]([O-])c2nc3cc(OC(F)F)ccc3[nH]2)c1OC &     0.6531 \\\\\n",
       "3 &      rabeprazole &       COCCCOc1ccnc(C[S+]([O-])c2nc3ccccc3[nH]2)c1C &     0.6275 \\\\\n",
       "4 &  dexlansoprazole &  Cc1c(OCC(F)(F)F)ccnc1C[S@@+]([O-])c1nc2ccccc2[... &     0.6078 \\\\\n",
       "5 &     lansoprazole &   Cc1c(OCC(F)(F)F)ccnc1C[S+]([O-])c1nc2ccccc2[nH]1 &     0.6078 \\\\\n",
       "\\bottomrule\n",
       "\\end{tabular}\n"
      ],
      "text/plain": [
       "              NAME                                             SMILES  \\\n",
       "0     esomeprazole  COc1ccc2[nH]c([S@@+]([O-])Cc3ncc(C)c(OC)c3C)nc2c1   \n",
       "1       omeprazole    COc1ccc2[nH]c([S+]([O-])Cc3ncc(C)c(OC)c3C)nc2c1   \n",
       "2     pantoprazole  COc1ccnc(C[S+]([O-])c2nc3cc(OC(F)F)ccc3[nH]2)c1OC   \n",
       "3      rabeprazole       COCCCOc1ccnc(C[S+]([O-])c2nc3ccccc3[nH]2)c1C   \n",
       "4  dexlansoprazole  Cc1c(OCC(F)(F)F)ccnc1C[S@@+]([O-])c1nc2ccccc2[...   \n",
       "5     lansoprazole   Cc1c(OCC(F)(F)F)ccnc1C[S+]([O-])c1nc2ccccc2[nH]1   \n",
       "\n",
       "  SIMILARITY  \n",
       "0     1.0000  \n",
       "1     1.0000  \n",
       "2     0.6531  \n",
       "3     0.6275  \n",
       "4     0.6078  \n",
       "5     0.6078  "
      ]
     },
     "execution_count": 5,
     "metadata": {},
     "output_type": "execute_result"
    }
   ],
   "source": [
    "similar_compounds = api.SimilarityService().get(compoundSmile[0])\n",
    "compoundNames = []\n",
    "names = []\n",
    "smiles = []\n",
    "similarities = []\n",
    "\n",
    "if similar_compounds is not None:\n",
    "    for similar_compound in similar_compounds:\n",
    "        names.append(similar_compound['name'])\n",
    "        smiles.append(similar_compound['smiles'])\n",
    "        similarities.append(similar_compound['distance'])\n",
    "\n",
    "pd = nb_setup.setup_pandas()\n",
    "df = pd.DataFrame(np.random.rand(len(names),3),columns=['NAME','SMILES','SIMILARITY'])\n",
    "df.NAME = names\n",
    "df.SMILES = smiles\n",
    "df.SIMILARITY = similarities\n",
    "df.round(3)"
   ]
  },
  {
   "cell_type": "markdown",
   "metadata": {
    "pycharm": {
     "name": "#%% md\n"
    }
   },
   "source": [
    "# 4. Retrieve data from the preclinical and clinical databases"
   ]
  },
  {
   "cell_type": "code",
   "execution_count": 6,
   "metadata": {
    "pycharm": {
     "name": "#%%\n"
    }
   },
   "outputs": [
    {
     "name": "stdout",
     "output_type": "stream",
     "text": [
      "4065 FAERS studies\n"
     ]
    },
    {
     "ename": "KeyError",
     "evalue": "'specimenOrganVocabulary'",
     "output_type": "error",
     "traceback": [
      "\u001B[0;31m---------------------------------------------------------------------------\u001B[0m",
      "\u001B[0;31mKeyError\u001B[0m                                  Traceback (most recent call last)",
      "Input \u001B[0;32mIn [6]\u001B[0m, in \u001B[0;36m<cell line: 12>\u001B[0;34m()\u001B[0m\n\u001B[1;32m     10\u001B[0m studies[\u001B[38;5;124m'\u001B[39m\u001B[38;5;124mfaerspa\u001B[39m\u001B[38;5;124m'\u001B[39m] \u001B[38;5;241m=\u001B[39m filterStudies(api\u001B[38;5;241m.\u001B[39mFaers()\u001B[38;5;241m.\u001B[39mgetStudiesBySMILES(smiles))\n\u001B[1;32m     11\u001B[0m \u001B[38;5;28mprint\u001B[39m(\u001B[38;5;124mf\u001B[39m\u001B[38;5;124m'\u001B[39m\u001B[38;5;132;01m{\u001B[39;00mcount_studies(studies[\u001B[38;5;124m\"\u001B[39m\u001B[38;5;124mfaerspa\u001B[39m\u001B[38;5;124m\"\u001B[39m])\u001B[38;5;132;01m}\u001B[39;00m\u001B[38;5;124m FAERS studies\u001B[39m\u001B[38;5;124m'\u001B[39m)\n\u001B[0;32m---> 12\u001B[0m \u001B[43mapi\u001B[49m\u001B[38;5;241;43m.\u001B[39;49m\u001B[43mSemanticService\u001B[49m\u001B[43m(\u001B[49m\u001B[43m)\u001B[49m\u001B[38;5;241;43m.\u001B[39;49m\u001B[43mgetSocs\u001B[49m\u001B[43m(\u001B[49m\u001B[43mstudies\u001B[49m\u001B[43m[\u001B[49m\u001B[38;5;124;43m'\u001B[39;49m\u001B[38;5;124;43mfaerspa\u001B[39;49m\u001B[38;5;124;43m'\u001B[39;49m\u001B[43m]\u001B[49m\u001B[43m,\u001B[49m\u001B[43m \u001B[49m\u001B[43malgorithm\u001B[49m\u001B[38;5;241;43m=\u001B[39;49m\u001B[38;5;124;43m'\u001B[39;49m\u001B[38;5;124;43mMEDDRAPT2MEDDRASOC\u001B[39;49m\u001B[38;5;124;43m'\u001B[39;49m\u001B[43m)\u001B[49m\n\u001B[1;32m     13\u001B[0m studies[\u001B[38;5;124m'\u001B[39m\u001B[38;5;124mmedlinepa\u001B[39m\u001B[38;5;124m'\u001B[39m] \u001B[38;5;241m=\u001B[39m filterStudies(api\u001B[38;5;241m.\u001B[39mMedline()\u001B[38;5;241m.\u001B[39mgetStudiesBySMILES(smiles))\n\u001B[1;32m     14\u001B[0m \u001B[38;5;28mprint\u001B[39m(\u001B[38;5;124mf\u001B[39m\u001B[38;5;124m'\u001B[39m\u001B[38;5;132;01m{\u001B[39;00mcount_studies(studies[\u001B[38;5;124m\"\u001B[39m\u001B[38;5;124mmedlinepa\u001B[39m\u001B[38;5;124m\"\u001B[39m])\u001B[38;5;132;01m}\u001B[39;00m\u001B[38;5;124m MEDLINE studies\u001B[39m\u001B[38;5;124m'\u001B[39m)\n",
      "File \u001B[0;32m~/git/etransafe-use-scenarios/knowledgehub/semanticservice.py:133\u001B[0m, in \u001B[0;36mSemanticService.getSocs\u001B[0;34m(self, studies, algorithm)\u001B[0m\n\u001B[1;32m    131\u001B[0m study[\u001B[38;5;124m'\u001B[39m\u001B[38;5;124mFINDING\u001B[39m\u001B[38;5;124m'\u001B[39m][\u001B[38;5;124m'\u001B[39m\u001B[38;5;124m__key\u001B[39m\u001B[38;5;124m'\u001B[39m] \u001B[38;5;241m=\u001B[39m \u001B[38;5;28;01mNone\u001B[39;00m\n\u001B[1;32m    132\u001B[0m \u001B[38;5;28;01mif\u001B[39;00m study[\u001B[38;5;124m'\u001B[39m\u001B[38;5;124mFINDING\u001B[39m\u001B[38;5;124m'\u001B[39m][\u001B[38;5;124m'\u001B[39m\u001B[38;5;124mfinding\u001B[39m\u001B[38;5;124m'\u001B[39m] \u001B[38;5;241m!=\u001B[39m \u001B[38;5;124m'\u001B[39m\u001B[38;5;124mNo abnormalities detected\u001B[39m\u001B[38;5;124m'\u001B[39m:\n\u001B[0;32m--> 133\u001B[0m     key \u001B[38;5;241m=\u001B[39m \u001B[38;5;28;43mself\u001B[39;49m\u001B[38;5;241;43m.\u001B[39;49m\u001B[43m__getKey\u001B[49m\u001B[43m(\u001B[49m\u001B[43mstudy\u001B[49m\u001B[43m[\u001B[49m\u001B[38;5;124;43m'\u001B[39;49m\u001B[38;5;124;43mFINDING\u001B[39;49m\u001B[38;5;124;43m'\u001B[39;49m\u001B[43m]\u001B[49m\u001B[43m)\u001B[49m\n\u001B[1;32m    134\u001B[0m     study[\u001B[38;5;124m'\u001B[39m\u001B[38;5;124mFINDING\u001B[39m\u001B[38;5;124m'\u001B[39m][\u001B[38;5;124m'\u001B[39m\u001B[38;5;124m__key\u001B[39m\u001B[38;5;124m'\u001B[39m] \u001B[38;5;241m=\u001B[39m key\n\u001B[1;32m    135\u001B[0m     \u001B[38;5;28;01mif\u001B[39;00m key \u001B[38;5;129;01mis\u001B[39;00m \u001B[38;5;129;01mnot\u001B[39;00m \u001B[38;5;28;01mNone\u001B[39;00m \u001B[38;5;129;01mand\u001B[39;00m key \u001B[38;5;129;01mnot\u001B[39;00m \u001B[38;5;129;01min\u001B[39;00m finding2soc:\n",
      "File \u001B[0;32m~/git/etransafe-use-scenarios/knowledgehub/semanticservice.py:173\u001B[0m, in \u001B[0;36mSemanticService.__getKey\u001B[0;34m(finding)\u001B[0m\n\u001B[1;32m    171\u001B[0m \u001B[38;5;129m@staticmethod\u001B[39m\n\u001B[1;32m    172\u001B[0m \u001B[38;5;28;01mdef\u001B[39;00m \u001B[38;5;21m__getKey\u001B[39m(finding):\n\u001B[0;32m--> 173\u001B[0m     \u001B[38;5;28;01mif\u001B[39;00m \u001B[43mfinding\u001B[49m\u001B[43m[\u001B[49m\u001B[38;5;124;43m'\u001B[39;49m\u001B[38;5;124;43mspecimenOrganVocabulary\u001B[39;49m\u001B[38;5;124;43m'\u001B[39;49m\u001B[43m]\u001B[49m \u001B[38;5;241m==\u001B[39m \u001B[38;5;124m'\u001B[39m\u001B[38;5;124mMA\u001B[39m\u001B[38;5;124m'\u001B[39m \u001B[38;5;129;01mor\u001B[39;00m finding[\u001B[38;5;124m'\u001B[39m\u001B[38;5;124mfindingVocabulary\u001B[39m\u001B[38;5;124m'\u001B[39m] \u001B[38;5;241m==\u001B[39m \u001B[38;5;124m'\u001B[39m\u001B[38;5;124mMC\u001B[39m\u001B[38;5;124m'\u001B[39m:\n\u001B[1;32m    174\u001B[0m         \u001B[38;5;28;01mreturn\u001B[39;00m finding[\u001B[38;5;124m'\u001B[39m\u001B[38;5;124mspecimenOrganCode\u001B[39m\u001B[38;5;124m'\u001B[39m]\n\u001B[1;32m    175\u001B[0m     \u001B[38;5;28;01melse\u001B[39;00m:\n",
      "\u001B[0;31mKeyError\u001B[0m: 'specimenOrganVocabulary'"
     ]
    }
   ],
   "source": [
    "# filter studies on being able to have a findingCode and findingVocabulary and not having findings for dose is 0.0 (control group)\n",
    "def filterStudies(studies):\n",
    "    return [study for study in studies if study['FINDING']['findingVocabulary'] is not None and study['FINDING']['findingCode'] is not None and study['FINDING']['findingCode'] != 'MC:2000001'\n",
    "            and ('dose' not in study['FINDING'] or study['FINDING']['dose'] != 0.0)]\n",
    "\n",
    "def count_studies(studies):\n",
    "    return len(set([study['STUDY']['id'] for study in studies]))\n",
    "\n",
    "studies = {}\n",
    "studies['faerspa'] = filterStudies(api.Faers().getStudiesBySMILES(smiles))\n",
    "print(f'{count_studies(studies[\"faerspa\"])} FAERS studies')\n",
    "api.SemanticService().getSocs(studies['faerspa'], algorithm='MEDDRAPT2MEDDRASOC')\n",
    "studies['medlinepa'] = filterStudies(api.Medline().getStudiesBySMILES(smiles))\n",
    "print(f'{count_studies(studies[\"medlinepa\"])} MEDLINE studies')\n",
    "api.SemanticService().getSocs(studies['medlinepa'], algorithm='MEDDRAPT2MEDDRASOC')\n",
    "studies['clinicaltrialspa'] = filterStudies(api.ClinicalTrials().getStudiesBySMILES(smiles))\n",
    "print(f'{count_studies(studies[\"clinicaltrialspa\"])} CT studies')\n",
    "api.SemanticService().getSocs(studies['clinicaltrialspa'], algorithm='MEDDRAPT2MEDDRASOC')\n",
    "studies['dailymedpa'] = filterStudies(api.DailyMed().getStudiesBySMILES(smiles))\n",
    "print(f'{count_studies(studies[\"dailymedpa\"])} DAILYMED studies')\n",
    "api.SemanticService().getSocs(studies['dailymedpa'], algorithm='MEDDRAPT2MEDDRASOC')\n",
    "studies['eTOXsys'] = filterStudies(api.eToxSys().getStudiesByCompoundNames(names))\n",
    "print(f'{count_studies(studies[\"eTOXsys\"])} eTOX studies')\n",
    "api.SemanticService().getSocs(studies['eTOXsys'], algorithm='MA2MEDDRASOC')"
   ]
  },
  {
   "cell_type": "markdown",
   "metadata": {
    "pycharm": {
     "name": "#%% md\n"
    }
   },
   "source": [
    "# 5. Aggregate the data per system organ class\n",
    "\n",
    "Since the eTox data reports events with an organ. We use our own method to map it to MedDRA's system organ class to make it comparable"
   ]
  },
  {
   "cell_type": "code",
   "execution_count": null,
   "metadata": {
    "pycharm": {
     "name": "#%%\n"
    }
   },
   "outputs": [],
   "source": [
    "service_names = [\n",
    "                    {'name': 'faerspa', 'title':'FAERS'},\n",
    "                    {'name': 'medlinepa', 'title': 'MEDLINE'},\n",
    "                    {'name': 'eTOXsys', 'title': 'eTOXsys'},\n",
    "                    {'name': 'dailymedpa', 'title': 'DailyMed'},\n",
    "                    {'name': 'clinicaltrialspa', 'title': 'ClinicalTrials'},\n",
    "                ]\n",
    "\n",
    "system = {}\n",
    "all_compounds = [c.lower() for c in names]\n",
    "socs = {}\n",
    "\n",
    "for service in service_names:\n",
    "    source = service['name']\n",
    "    if source in studies:\n",
    "        for study in studies[source]:\n",
    "            soc = study['FINDING']['__soc']\n",
    "            if soc not in socs:\n",
    "                if soc not in socs:\n",
    "                    socs[soc] = set()\n",
    "                socs[soc].add(study['STUDY']['id'])\n",
    "\n",
    "                    \n",
    "# sort the socs per count\n",
    "all_socs = {k: v for k, v in sorted(socs.items(), key=lambda item: item[1], reverse=True)}\n",
    "\n",
    "\n",
    "# traverse all studies and create a matrix per source\n",
    "total_count = {}\n",
    "\n",
    "for service in service_names:\n",
    "    source = service['name']\n",
    "    if source in studies:\n",
    "        source_study_ids = set()    \n",
    "        system[source] = {\n",
    "                            'data':np.zeros((len(all_socs),len(all_compounds)), dtype=int).tolist(),\n",
    "                            'studies': [[set() for i in range(len(all_compounds))] for j in range(len(all_socs))],\n",
    "                            'rows':list(all_socs.keys()),\n",
    "                            'cols':all_compounds}\n",
    "        # study_ids = [ [set()] * len(all_compounds) for i in range(len(all_socs)) ]\n",
    "        for study in studies[source]:    \n",
    "            soc = study['FINDING']['__soc']\n",
    "            row = system[source]['rows'].index(soc)\n",
    "            col = system[source]['cols'].index(study['COMPOUND']['name'].lower())\n",
    "            # study_ids[row][col].add(study['STUDY']['id'])\n",
    "            system[source]['data'][row][col] += 1\n",
    "            system[source]['studies'][row][col].add(study['STUDY']['id'])\n",
    "            source_study_ids.update(system[source]['studies'][row][col])\n",
    "        total_count[source] = len(source_study_ids)"
   ]
  },
  {
   "cell_type": "markdown",
   "metadata": {
    "pycharm": {
     "name": "#%% md\n"
    }
   },
   "source": [
    "# 6. Visualize the data using a heatmap\n",
    "\n",
    "Using seaborn to visualize the content of the various databases. Note that we have to think about ways to easier compare the various results."
   ]
  },
  {
   "cell_type": "code",
   "execution_count": null,
   "metadata": {
    "pycharm": {
     "name": "#%%\n"
    }
   },
   "outputs": [],
   "source": [
    "for source,value in system.items():\n",
    "    plt.figure(figsize=(12,9))\n",
    "    data = system[source]['data']\n",
    "    \n",
    "    # create mask\n",
    "    data_mask = ma.array(np.zeros((len(all_socs.keys()), len(all_compounds))))\n",
    "    for r in range(0, len(all_socs.keys())):\n",
    "        for c in range(0, len(all_compounds)):\n",
    "            data_mask[r][c] = 1 if data[r][c] == 0 else 0\n",
    "            \n",
    "    colormap = sns.cubehelix_palette(as_cmap=True, light=.9)\n",
    "    \n",
    "    col_count = [0] * len(all_compounds)\n",
    "    # for row in data:\n",
    "    #     for col in range(0, len(row)):\n",
    "    #         col_count[col] += row[col]\n",
    "    col_studies = [set() for _ in range(0, len(all_compounds))]\n",
    "    for row in range(len(all_socs)):\n",
    "        for col in range(0, len(all_compounds)):\n",
    "            col_count[col] += data[row][col]\n",
    "            col_studies[col].update(system[source]['studies'][row][col])\n",
    "\n",
    "            \n",
    "    col_labels = [f'{all_compounds[c]} (N={len(col_studies[c])})' for c in range(0, len(all_compounds))]\n",
    "        \n",
    "    ax = sns.heatmap(data, mask=data_mask, xticklabels=col_labels, yticklabels=list(all_socs.keys()), annot=True, fmt=\".0f\", cmap=colormap) \n",
    "    ax.set_xticklabels(ax.get_xmajorticklabels(), rotation=45)\n",
    "    \n",
    "    title = source\n",
    "    for service_name in service_names:\n",
    "        if service_name['name'] == source:\n",
    "            title = f'{service_name[\"title\"]} (N={total_count[source]})'\n",
    "            break\n",
    "            \n",
    "    plt.title(title, fontsize = 14)\n",
    "    plt.ylabel(\"Findings per organ class\", fontsize = 12)\n",
    "    plt.xlabel(\"Similar compounds\", fontsize = 12)\n",
    "    plt.show()\n",
    "\n",
    "    print('')\n",
    "    print('')"
   ]
  }
 ],
 "metadata": {
  "kernelspec": {
   "display_name": "PyCharm (KnowledgeHub)",
   "language": "python",
   "name": "pycharm-98e22f02"
  },
  "language_info": {
   "codemirror_mode": {
    "name": "ipython",
    "version": 3
   },
   "file_extension": ".py",
   "mimetype": "text/x-python",
   "name": "python",
   "nbconvert_exporter": "python",
   "pygments_lexer": "ipython3",
   "version": "3.8.5"
  }
 },
 "nbformat": 4,
 "nbformat_minor": 4
}