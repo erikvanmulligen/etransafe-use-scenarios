{
 "cells": [
  {
   "cell_type": "markdown",
   "metadata": {
    "pycharm": {
     "name": "#%% md\n"
    }
   },
   "source": [
    " # eTransafe Omeprazole Heatmap\n",
    "\n",
    "This is the use scenario that has been described in the eTox project for exploring the differences with respect to adverse events between omeprazole preclinical and clinical. In order to compute these results the following scenario is executed:\n",
    "1. authenticate with the eTransafe keycloak\n",
    "2. Translate the provided compound (e.g., omeprazole) to a SMILES\n",
    "3. Retrieve similar compounds based on structural similarity\n",
    "4. Retrieve data from the preclinical and clinical databases\n",
    "5. Aggregate the data per system organ class\n",
    "6. Visualize the data using a heatmap\n",
    "\n",
    "(C) 2021 Erasmus University Medical Center, Rotterdam, The Netherlands\n",
    "Author: Erik M. van Mulligen, e.vanmulligen@erasmusmc.nl"
   ]
  },
  {
   "cell_type": "code",
   "execution_count": 1,
   "metadata": {
    "pycharm": {
     "name": "#%%\n"
    }
   },
   "outputs": [],
   "source": [
    "import sys\n",
    "sys.path.append('/Users/mulligen/git/etransafe-use-scenarios')\n",
    "from knowledgehub.api import KnowledgeHubAPI\n",
    "import ipywidgets as w\n",
    "from IPython.display import display, Javascript\n",
    "from ipypublish import nb_setup\n",
    "import numpy as np\n",
    "import numpy.ma as ma\n",
    "import seaborn as sns\n",
    "import pandas\n",
    "from matplotlib.colors import LogNorm, Normalize\n",
    "import matplotlib.pyplot as plt\n",
    "import os\n",
    "import warnings\n",
    "warnings.filterwarnings(\"ignore\")"
   ]
  },
  {
   "cell_type": "code",
   "execution_count": 2,
   "metadata": {
    "pycharm": {
     "name": "#%%\n"
    }
   },
   "outputs": [],
   "source": [
    "#api = KnowledgeHubAPI(server='TEST', client_secret='39c644b3-1f23-4d94-a71f-e0fb43ebd760')\n",
    "api = KnowledgeHubAPI(server='DEV', client_secret='3db5a6d7-4694-48a4-8a2e-e9c30d78f9ab')"
   ]
  },
  {
   "cell_type": "markdown",
   "metadata": {
    "pycharm": {
     "name": "#%% md\n"
    }
   },
   "source": [
    "# 1. Authentication\n",
    "Use eTransafe's authentication service to get access to available services"
   ]
  },
  {
   "cell_type": "code",
   "execution_count": 3,
   "metadata": {
    "pycharm": {
     "name": "#%%\n"
    }
   },
   "outputs": [
    {
     "data": {
      "application/vnd.jupyter.widget-view+json": {
       "model_id": "8920f48215e047f7bec256ea0a5dac95",
       "version_major": 2,
       "version_minor": 0
      },
      "text/plain": [
       "VBox(children=(Text(value='erik.mulligen', description='username:', placeholder='Knowledge Hub account'), Pass…"
      ]
     },
     "metadata": {},
     "output_type": "display_data"
    },
    {
     "name": "stdout",
     "output_type": "stream",
     "text": [
      "successfully logged in\n"
     ]
    },
    {
     "data": {
      "application/javascript": [
       "IPython.notebook.execute_cell_range(IPython.notebook.get_selected_index()+1, IPython.notebook.get_selected_index()+2)"
      ],
      "text/plain": [
       "<IPython.core.display.Javascript object>"
      ]
     },
     "metadata": {},
     "output_type": "display_data"
    }
   ],
   "source": [
    "username = w.Text(value='erik.mulligen',placeholder='Knowledge Hub account', description='username:', disabled=False)\n",
    "password = w.Password(value='', placeholder='Knowledge Hub password', description='password:', disabled=False)\n",
    "loginBtn = w.Button(description='Login')\n",
    "status = w.Output()\n",
    "\n",
    "def on_button_clicked(_):\n",
    "    if api.login(username.value, password.value) == False:\n",
    "        print(\"Failed to login\")\n",
    "    else:\n",
    "        print(\"successfully logged in\")\n",
    "        display(Javascript('IPython.notebook.execute_cell_range(IPython.notebook.get_selected_index()+1, IPython.notebook.get_selected_index()+2)'))\n",
    "\n",
    "loginBtn.on_click(on_button_clicked)\n",
    "w.VBox([username, password, loginBtn])"
   ]
  },
  {
   "cell_type": "markdown",
   "metadata": {
    "pycharm": {
     "name": "#%% md\n"
    }
   },
   "source": [
    "## 2. Translate compound to SMILES using semantic services\n",
    "For the entered compound name, retrieve the associated SMILES using the semantic services"
   ]
  },
  {
   "cell_type": "code",
   "execution_count": 4,
   "metadata": {
    "pycharm": {
     "name": "#%%\n"
    }
   },
   "outputs": [
    {
     "data": {
      "application/vnd.jupyter.widget-view+json": {
       "model_id": "15a76dce5abf470baad2e4f8c9db2a9c",
       "version_major": 2,
       "version_minor": 0
      },
      "text/plain": [
       "VBox(children=(Text(value='omeprazole', description='compound:', placeholder='compound name'), Button(descript…"
      ]
     },
     "metadata": {},
     "output_type": "display_data"
    },
    {
     "name": "stdout",
     "output_type": "stream",
     "text": [
      "retrieving smiles for omeprazole\n",
      "Found SMILES ['COc1ccc2[nH]c([S+]([O-])Cc3ncc(C)c(OC)c3C)nc2c1', 'COc1ccc2nc3n(c2c1)SCc1c(C)c(OC)c(C)c[n+]1-3', 'COc1ccc2[nH]c(S(=O)(=O)Cc3ncc(C)c(OC)c3C)nc2c1'] for omeprazole\n"
     ]
    },
    {
     "data": {
      "application/javascript": [
       "IPython.notebook.execute_cell_range(IPython.notebook.get_selected_index()+1, IPython.notebook.get_selected_index()+2)"
      ],
      "text/plain": [
       "<IPython.core.display.Javascript object>"
      ]
     },
     "metadata": {},
     "output_type": "display_data"
    }
   ],
   "source": [
    "compoundName = w.Text(value='omeprazole',placeholder='compound name', description='compound:', disabled=False)\n",
    "compoundBtn = w.Button(description='Retrieve')\n",
    "compoundSmile = None\n",
    "\n",
    "def on_compound_entered(_):\n",
    "    global compoundSmile\n",
    "    print(f'retrieving smiles for {compoundName.value}')\n",
    "    compoundSmile = api.ChemistryService().getSMILESByName(compoundName.value)\n",
    "    print(f'Found SMILES {compoundSmile} for {compoundName.value}')\n",
    "    display(Javascript('IPython.notebook.execute_cell_range(IPython.notebook.get_selected_index()+1, IPython.notebook.get_selected_index()+2)'))\n",
    "\n",
    "compoundBtn.on_click(on_compound_entered) \n",
    "w.VBox([compoundName, compoundBtn])"
   ]
  },
  {
   "cell_type": "markdown",
   "metadata": {
    "pycharm": {
     "name": "#%% md\n"
    }
   },
   "source": [
    "## 3. Retrieve similar compounds"
   ]
  },
  {
   "cell_type": "code",
   "execution_count": null,
   "outputs": [],
   "source": [
    "similar_compounds = api.SimilarityService().get(compoundSmile[0])\n",
    "compoundNames = []\n",
    "names = []\n",
    "smiles = []\n",
    "similarities = []\n",
    "\n",
    "if similar_compounds != None:\n",
    "    for similar_compound in similar_compounds:\n",
    "        names.append(similar_compound['name'])\n",
    "        smiles.append(similar_compound['smiles'])\n",
    "        similarities.append(similar_compound['distance'])\n",
    "\n",
    "pd = nb_setup.setup_pandas()\n",
    "df = pd.DataFrame(np.random.rand(len(names),3),columns=['NAME','SMILES','SIMILARITY'])\n",
    "df.NAME = names\n",
    "df.SMILES = smiles\n",
    "df.SIMILARITY = similarities\n",
    "df.round(3)"
   ],
   "metadata": {
    "collapsed": false,
    "pycharm": {
     "name": "#%%\n"
    }
   }
  },
  {
   "cell_type": "markdown",
   "source": [
    "# 4. Retrieve data from the preclinical and clinical databases"
   ],
   "metadata": {
    "collapsed": false,
    "pycharm": {
     "name": "#%% md\n"
    }
   }
  },
  {
   "cell_type": "code",
   "execution_count": null,
   "outputs": [],
   "source": [
    "# filter studies on being able to have a findingCode and findingVocabulary and not having findings for dose is 0.0 (control group)\n",
    "def filterStudies(studies):\n",
    "    return [study for study in studies if study['FINDING']['findingVocabulary'] is not None and study['FINDING']['findingCode'] is not None and study['FINDING']['findingCode'] != 'MC:2000001' \n",
    "            and ('dose' not in study['FINDING'] or study['FINDING']['dose'] != 0.0)]\n",
    "\n",
    "faers_studies = filterStudies(api.Faers().getStudiesBySMILES(smiles))\n",
    "api.SemanticService().getSocs(faers_studies, algorithm='MEDDRAPT2MEDDRASOC')\n",
    "medline_studies = filterStudies(api.Medline().getStudiesBySMILES(smiles))\n",
    "api.SemanticService().getSocs(medline_studies, algorithm='MEDDRAPT2MEDDRASOC')\n",
    "ct_studies = filterStudies(api.ClinicalTrials().getStudiesBySMILES(smiles))\n",
    "api.SemanticService().getSocs(ct_studies, algorithm='MEDDRAPT2MEDDRASOC')\n",
    "dailymed_studies = filterStudies(api.DailyMed().getStudiesBySMILES(smiles))\n",
    "api.SemanticService().getSocs(dailymed_studies, algorithm='MEDDRAPT2MEDDRASOC')\n",
    "etox_studies = filterStudies(api.eToxSys().getStudiesByCompoundNames(names))\n",
    "api.SemanticService().getSocs(etox_studies, algorithm='MA2MEDDRASOC')\n",
    "\n",
    "studies = faers_studies + medline_studies + ct_studies + dailymed_studies + etox_studies\n",
    "print(f'Found {len(studies)} studies.')"
   ],
   "metadata": {
    "collapsed": false,
    "pycharm": {
     "name": "#%%\n"
    }
   }
  },
  {
   "cell_type": "markdown",
   "source": [
    "# 5. Aggregate the data per system organ class\n",
    "\n",
    "Since the eTox data reports events with an organ. We use our own method to map it to MedDRA's system organ class to make it comparable"
   ],
   "metadata": {
    "collapsed": false,
    "pycharm": {
     "name": "#%% md\n"
    }
   }
  },
  {
   "cell_type": "code",
   "execution_count": null,
   "outputs": [],
   "source": [
    "system = {}\n",
    "all_compounds = [c.lower() for c in names]\n",
    "socs = {}\n",
    "\n",
    "for study in studies:\n",
    "    if study['FINDING']['findingVocabulary'] is not None and study['FINDING']['findingCode'] is not None:\n",
    "        soc = study['FINDING']['__soc']\n",
    "        if soc not in socs:\n",
    "            socs[soc] = study['FINDING']['count']\n",
    "        else:\n",
    "            socs[soc] += study['FINDING']['count']\n",
    "\n",
    "\n",
    "# sort the socs per count\n",
    "all_socs = {k: v for k, v in sorted(socs.items(), key=lambda item: item[1], reverse=True)}\n",
    "\n",
    "\n",
    "# traverse all studies and create a matrix per source\n",
    "for study in studies:\n",
    "    if study['FINDING']['findingVocabulary'] is not None and study['FINDING']['findingCode'] is not None:\n",
    "        source = study['source']\n",
    "        if not source in system.keys():\n",
    "            system[source] = {'data':np.zeros((len(all_socs),len(all_compounds)), dtype=int).tolist(), \n",
    "                              'rows':list(all_socs.keys()), \n",
    "                              'cols':all_compounds}\n",
    "    \n",
    "        soc = study['FINDING']['__soc']\n",
    "        row = system[source]['rows'].index(soc)\n",
    "        col = system[source]['cols'].index(study['COMPOUND']['name'].lower())\n",
    "        system[source]['data'][row][col] += study['FINDING']['count']\n",
    "                "
   ],
   "metadata": {
    "collapsed": false,
    "pycharm": {
     "name": "#%%\n"
    }
   }
  },
  {
   "cell_type": "markdown",
   "source": [
    "# 6. Visualize the data using a heatmap\n",
    "\n",
    "Using seaborn to visualize the content of the various databases. Note that we have to think about ways to easier compare the various results."
   ],
   "metadata": {
    "collapsed": false,
    "pycharm": {
     "name": "#%% md\n"
    }
   }
  },
  {
   "cell_type": "code",
   "execution_count": null,
   "outputs": [],
   "source": [
    "i = 1\n",
    "service_names = [{'name': 'faerspa', 'title':'FAERS'}, \n",
    "                 {'name': 'medlinepa', 'title': 'MEDLINE'},\n",
    "                 {'name': 'eTOXsys', 'title': 'eTOXsys'},\n",
    "                 {'name': 'dailymedpa', 'title': 'DailyMed'},\n",
    "                 {'name': 'clinicaltrialspa', 'title': 'ClinicalTrials'},]\n",
    "for source,value in system.items():\n",
    "    plt.figure(figsize=(12,9))\n",
    "    data = system[source]['data']\n",
    "    \n",
    "    # create mask\n",
    "    data_mask = ma.array(np.zeros((len(all_socs.keys()), len(all_compounds))))\n",
    "    for r in range(0, len(all_socs.keys())):\n",
    "        for c in range(0, len(all_compounds)):\n",
    "            data_mask[r][c] = 1 if data[r][c] == 0 else 0\n",
    "\n",
    "    colormap = sns.cubehelix_palette(as_cmap=True, light=.9)\n",
    "    ax = sns.heatmap(data, mask=data_mask, xticklabels=all_compounds, yticklabels=list(all_socs.keys()), annot=True, fmt=\".0f\", cmap=colormap) \n",
    "    ax.set_xticklabels(ax.get_xmajorticklabels(), rotation=45)\n",
    "    \n",
    "    title = source\n",
    "    for service_name in service_names:\n",
    "        if service_name['name'] == source:\n",
    "            title = service_name['title']\n",
    "            break\n",
    "            \n",
    "    plt.title(title, fontsize = 14)\n",
    "    plt.ylabel(\"Findings per organ class\", fontsize = 12)\n",
    "    plt.xlabel(\"Similar compounds\", fontsize = 12)\n",
    "    plt.show()\n",
    "\n",
    "    i += 1\n",
    "    print('')\n",
    "    print('')"
   ],
   "metadata": {
    "collapsed": false,
    "pycharm": {
     "name": "#%%\n"
    }
   }
  }
 ],
 "metadata": {
  "celltoolbar": "Slideshow",
  "kernelspec": {
   "display_name": "Python 3 (ipykernel)",
   "language": "python",
   "name": "python3"
  },
  "language_info": {
   "codemirror_mode": {
    "name": "ipython",
    "version": 3
   },
   "file_extension": ".py",
   "mimetype": "text/x-python",
   "name": "python",
   "nbconvert_exporter": "python",
   "pygments_lexer": "ipython3",
   "version": "3.9.0"
  }
 },
 "nbformat": 4,
 "nbformat_minor": 4
}