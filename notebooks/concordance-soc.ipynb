{
 "cells": [
  {
   "cell_type": "markdown",
   "id": "czech-pressure",
   "metadata": {
    "pycharm": {
     "name": "#%% md\n"
    }
   },
   "source": [
    "# eTransafe Concordance analysis\n",
    "\n",
    "This is the use scenario that has been described by Thomas Steger-Hartmann in a publication with Matthew Clark.\n",
    "The idea is to compare animal observations with clinical observations for the various drugs\n",
    "1. determine the drugs that have been used in the preclinical and the clinical domain\n",
    "2. compare the individual SOCs for preclinical and clinical \n",
    "3. compute the concordance matrix\n",
    "6. Visualize the matrix\n",
    "\n",
    "(C) 2021 Erasmus University Medical Center, Rotterdam, The Netherlands\n",
    "Author: Erik M. van Mulligen, e.vanmulligen@erasmusmc.nl"
   ]
  },
  {
   "cell_type": "code",
   "execution_count": 1,
   "id": "accredited-demographic",
   "metadata": {
    "pycharm": {
     "name": "#%%\n"
    }
   },
   "outputs": [],
   "source": [
    "import os\n",
    "import sys\n",
    "module_path = os.path.abspath(os.path.join('..'))\n",
    "if module_path not in sys.path:\n",
    "    sys.path.append(module_path)\n",
    "from knowledgehub.api import KnowledgeHubAPI\n",
    "# from Concordance.condordance_utils import getDrugsMapping, getClinicalDatabases, getPreclinicalDatabases, getSocs, getSocDrugFindings\n",
    "from Concordance.mapper import Mapper\n",
    "from Concordance.meddra import MedDRA\n",
    "import Concordance3.concordance_utils as conutils\n",
    "\n",
    "import ipywidgets as w\n",
    "from IPython.display import display, Markdown, clear_output, Javascript\n",
    "from ipypublish import nb_setup\n",
    "import numpy as np\n",
    "import seaborn as sns\n",
    "import pandas\n",
    "import json\n",
    "import matplotlib.pyplot as plt\n",
    "from pprint import pprint\n",
    "import mysql.connector\n",
    "import warnings\n",
    "warnings.filterwarnings(\"ignore\")"
   ]
  },
  {
   "cell_type": "code",
   "execution_count": 2,
   "id": "brilliant-commercial",
   "metadata": {
    "pycharm": {
     "name": "#%%\n"
    }
   },
   "outputs": [],
   "source": [
    "api = KnowledgeHubAPI(server='DEV', client_secret='3db5a6d7-4694-48a4-8a2e-e9c30d78f9ab')\n",
    "mapper = Mapper(api)"
   ]
  },
  {
   "cell_type": "markdown",
   "id": "comparative-perth",
   "metadata": {
    "pycharm": {
     "name": "#%% md\n"
    }
   },
   "source": [
    "## Authenticate for KnowledgeHub"
   ]
  },
  {
   "cell_type": "code",
   "execution_count": 3,
   "id": "square-devices",
   "metadata": {
    "pycharm": {
     "name": "#%%\n"
    }
   },
   "outputs": [
    {
     "data": {
      "application/vnd.jupyter.widget-view+json": {
       "model_id": "8dffbbdf91e54130bfe6c324ce061be7",
       "version_major": 2,
       "version_minor": 0
      },
      "text/plain": [
       "VBox(children=(Text(value='tester', description='username:', placeholder='Knowledge Hub account'), Password(de…"
      ]
     },
     "metadata": {},
     "output_type": "display_data"
    },
    {
     "name": "stdout",
     "output_type": "stream",
     "text": [
      "successfully logged in\n"
     ]
    },
    {
     "data": {
      "application/javascript": [
       "IPython.notebook.execute_cell_range(IPython.notebook.get_selected_index()+1, IPython.notebook.get_selected_index()+2)"
      ],
      "text/plain": [
       "<IPython.core.display.Javascript object>"
      ]
     },
     "metadata": {},
     "output_type": "display_data"
    }
   ],
   "source": [
    "username = w.Text(value='tester',placeholder='Knowledge Hub account', description='username:', disabled=False)\n",
    "password = w.Password(value='', placeholder='Knowledge Hub password', description='password:', disabled=False)\n",
    "loginBtn = w.Button(description='Login')\n",
    "status = w.Output()\n",
    "\n",
    "def on_button_clicked(_):\n",
    "    if api.login(username.value, password.value) == False:\n",
    "        print(\"Failed to login\")\n",
    "    else:\n",
    "        print(\"successfully logged in\")\n",
    "        display(Javascript('IPython.notebook.execute_cell_range(IPython.notebook.get_selected_index()+1, IPython.notebook.get_selected_index()+2)'))\n",
    "\n",
    "loginBtn.on_click(on_button_clicked)\n",
    "w.VBox([username, password, loginBtn])"
   ]
  },
  {
   "cell_type": "markdown",
   "id": "trying-detective",
   "metadata": {
    "pycharm": {
     "name": "#%% md\n"
    }
   },
   "source": [
    "## Authenticate for the data stored in the database"
   ]
  },
  {
   "cell_type": "code",
   "execution_count": 4,
   "id": "regulated-heart",
   "metadata": {
    "pycharm": {
     "name": "#%%\n"
    }
   },
   "outputs": [
    {
     "data": {
      "application/vnd.jupyter.widget-view+json": {
       "model_id": "dd48c67058474bb8a9ee0ee95007b55b",
       "version_major": 2,
       "version_minor": 0
      },
      "text/plain": [
       "VBox(children=(Text(value='localhost', description='host:', placeholder='database host'), Text(value='concorda…"
      ]
     },
     "metadata": {},
     "output_type": "display_data"
    },
    {
     "name": "stdout",
     "output_type": "stream",
     "text": [
      "successfully logged in database\n"
     ]
    },
    {
     "data": {
      "application/javascript": [
       "IPython.notebook.execute_cell_range(IPython.notebook.get_selected_index()+1, IPython.notebook.get_selected_index()+2)"
      ],
      "text/plain": [
       "<IPython.core.display.Javascript object>"
      ]
     },
     "metadata": {},
     "output_type": "display_data"
    }
   ],
   "source": [
    "dbhost = w.Text(value='localhost',placeholder='database host', description='host:', disabled=False)\n",
    "dbdatabase = w.Text(value='concordance-30082022',placeholder='database name', description='database:', disabled=False)\n",
    "dbusername = w.Text(value='root',placeholder='database username', description='username:', disabled=False)\n",
    "dbpassword = w.Password(value='', placeholder='database password', description='password:', disabled=False)\n",
    "dbLoginBtn = w.Button(description='Login')\n",
    "status = w.Output()\n",
    "\n",
    "def dbLoginBtn_click(_):    \n",
    "    try:\n",
    "        global db\n",
    "        global meddra\n",
    "        db = mysql.connector.connect(host=dbhost.value, database=dbdatabase.value, user=dbusername.value, password=dbpassword.value)\n",
    "        meddra = MedDRA(username=dbusername.value, password=dbpassword.value)\n",
    "\n",
    "        print(\"successfully logged in database\")\n",
    "        display(Javascript('IPython.notebook.execute_cell_range(IPython.notebook.get_selected_index()+1, IPython.notebook.get_selected_index()+2)'))\n",
    "    except Exception as e:\n",
    "        print(\"failed to log in database\")\n",
    "        sys.exit(0)\n",
    "    \n",
    "dbLoginBtn.on_click(dbLoginBtn_click)\n",
    "w.VBox([dbhost, dbdatabase, dbusername, dbpassword, dbLoginBtn])"
   ]
  },
  {
   "cell_type": "markdown",
   "id": "right-drill",
   "metadata": {
    "pycharm": {
     "name": "#%% md\n"
    }
   },
   "source": [
    "## The database\n",
    "In order to be able to compute the concordance tables we have constructed a database with all preclinical and clinical findings found for drugs (i.e. inchikeys) that are both found in the preclinical and clinical data. For the preclinical data we restricted to findings that are treatment related and not in the control group. For each of the preclinical findings we checked with the semantic service whether the equivalent clinical finding was found in the clinical findings and vice versa. This is stored in the database as 'mapped' per finding. For each of the preclinical and clinical findings we derived the system organ class it belongs to. This is stored in the database as 'SOC' per finding."
   ]
  },
  {
   "cell_type": "markdown",
   "id": "overhead-arabic",
   "metadata": {
    "pycharm": {
     "name": "#%% md\n"
    }
   },
   "source": [
    "## Drug mapping\n",
    "We maintain a list of drugs that can be found in the preclinical and clinical data with its inchikey. Per drug we have stored the finding ids that are associated per database."
   ]
  },
  {
   "cell_type": "code",
   "execution_count": 5,
   "id": "tested-captain",
   "metadata": {
    "pycharm": {
     "name": "#%%\n"
    }
   },
   "outputs": [
    {
     "name": "stdout",
     "output_type": "stream",
     "text": [
      "266 drugs found\n"
     ]
    }
   ],
   "source": [
    "def getDrugs(db):\n",
    "    cursor = db.cursor(prepared=True)\n",
    "    cursor.execute('select names, inchi_group, inchi_keys from drugs')\n",
    "    result = [{'names':record[0].split(', '), 'inchi_group':record[1], 'inchi_keys':record[2].split(', ')} for record in cursor.fetchall()]\n",
    "    return result\n",
    "\n",
    "drugs = getDrugs(db)\n",
    "print(f'{len(drugs)} drugs found')"
   ]
  },
  {
   "cell_type": "markdown",
   "id": "insured-brand",
   "metadata": {
    "pycharm": {
     "name": "#%% md\n"
    }
   },
   "source": [
    "## Overview of the drugs"
   ]
  },
  {
   "cell_type": "code",
   "execution_count": 6,
   "id": "endangered-seeker",
   "metadata": {
    "pycharm": {
     "name": "#%%\n"
    }
   },
   "outputs": [
    {
     "data": {
      "text/html": [
       "<div>\n",
       "<style scoped>\n",
       "    .dataframe tbody tr th:only-of-type {\n",
       "        vertical-align: middle;\n",
       "    }\n",
       "\n",
       "    .dataframe tbody tr th {\n",
       "        vertical-align: top;\n",
       "    }\n",
       "\n",
       "    .dataframe thead th {\n",
       "        text-align: right;\n",
       "    }\n",
       "</style>\n",
       "<table border=\"1\" class=\"dataframe\">\n",
       "  <thead>\n",
       "    <tr style=\"text-align: right;\">\n",
       "      <th></th>\n",
       "      <th>inchiKey</th>\n",
       "      <th>inchiGroup</th>\n",
       "      <th>name</th>\n",
       "    </tr>\n",
       "  </thead>\n",
       "  <tbody>\n",
       "    <tr>\n",
       "      <th>0</th>\n",
       "      <td>GDLIGKIOYRNHDA-UHFFFAOYSA-N</td>\n",
       "      <td>GDLIGKIOYRNHDA</td>\n",
       "      <td>Clomipramine HCl</td>\n",
       "    </tr>\n",
       "    <tr>\n",
       "      <th>1</th>\n",
       "      <td>OZVBMTJYIDMWIL-AYFBDAFISA-N</td>\n",
       "      <td>OZVBMTJYIDMWIL</td>\n",
       "      <td>bromocriptine</td>\n",
       "    </tr>\n",
       "    <tr>\n",
       "      <th>2</th>\n",
       "      <td>KPYSYYIEGFHWSV-UHFFFAOYSA-N</td>\n",
       "      <td>KPYSYYIEGFHWSV</td>\n",
       "      <td>baclofen</td>\n",
       "    </tr>\n",
       "    <tr>\n",
       "      <th>3</th>\n",
       "      <td>QZUDBNBUXVUHMW-UHFFFAOYSA-N</td>\n",
       "      <td>QZUDBNBUXVUHMW</td>\n",
       "      <td>clozapine</td>\n",
       "    </tr>\n",
       "    <tr>\n",
       "      <th>4</th>\n",
       "      <td>ZNRGQMMCGHDTEI-ITGUQSILSA-N</td>\n",
       "      <td>ZNRGQMMCGHDTEI</td>\n",
       "      <td>tropisetron</td>\n",
       "    </tr>\n",
       "    <tr>\n",
       "      <th>...</th>\n",
       "      <td>...</td>\n",
       "      <td>...</td>\n",
       "      <td>...</td>\n",
       "    </tr>\n",
       "    <tr>\n",
       "      <th>261</th>\n",
       "      <td>IKBKZGMPCYNSLU-RGVLZGJSSA-N</td>\n",
       "      <td>IKBKZGMPCYNSLU</td>\n",
       "      <td>Tegaserod</td>\n",
       "    </tr>\n",
       "    <tr>\n",
       "      <th>262</th>\n",
       "      <td>UUOJIACWOAYWEZ-UHFFFAOYSA-N</td>\n",
       "      <td>UUOJIACWOAYWEZ</td>\n",
       "      <td>bopindolol</td>\n",
       "    </tr>\n",
       "    <tr>\n",
       "      <th>263</th>\n",
       "      <td>DEQANNDTNATYII-OULOTJBUSA-N</td>\n",
       "      <td>DEQANNDTNATYII</td>\n",
       "      <td>octreotide</td>\n",
       "    </tr>\n",
       "    <tr>\n",
       "      <th>264</th>\n",
       "      <td>KPJZHOPZRAFDTN-NQUBZZJWSA-N</td>\n",
       "      <td>KPJZHOPZRAFDTN</td>\n",
       "      <td>methysergide</td>\n",
       "    </tr>\n",
       "    <tr>\n",
       "      <th>265</th>\n",
       "      <td>YMTINGFKWWXKFG-UHFFFAOYSA-N</td>\n",
       "      <td>YMTINGFKWWXKFG</td>\n",
       "      <td>fenofibrate</td>\n",
       "    </tr>\n",
       "  </tbody>\n",
       "</table>\n",
       "<p>266 rows × 3 columns</p>\n",
       "</div>"
      ],
      "text/latex": [
       "\\begin{tabular}{llll}\n",
       "\\toprule\n",
       "{} &                     inchiKey &      inchiGroup &                                       name \\\\\n",
       "\\midrule\n",
       "0   &  GDLIGKIOYRNHDA-UHFFFAOYSA-N &  GDLIGKIOYRNHDA &                           Clomipramine HCl \\\\\n",
       "1   &  OZVBMTJYIDMWIL-AYFBDAFISA-N &  OZVBMTJYIDMWIL &                              bromocriptine \\\\\n",
       "2   &  KPYSYYIEGFHWSV-UHFFFAOYSA-N &  KPYSYYIEGFHWSV &                                   baclofen \\\\\n",
       "3   &  QZUDBNBUXVUHMW-UHFFFAOYSA-N &  QZUDBNBUXVUHMW &                                  clozapine \\\\\n",
       "4   &  ZNRGQMMCGHDTEI-ITGUQSILSA-N &  ZNRGQMMCGHDTEI &                                tropisetron \\\\\n",
       "5   &  XPCFTKFZXHTYIP-PMACEKPBSA-N &  XPCFTKFZXHTYIP &                                 Benazepril \\\\\n",
       "6   &  WRUUGTRCQOWXEG-UHFFFAOYSA-N &  WRUUGTRCQOWXEG &                       Pamidronate disodium \\\\\n",
       "7   &  YNZFUWZUGRBMHL-UHFFFAOYSA-N &  YNZFUWZUGRBMHL &                                  opipramol \\\\\n",
       "8   &  LBXHRAWDUMTPSE-UHFFFAOYSA-N &  LBXHRAWDUMTPSE &                                  Clopamide \\\\\n",
       "9   &  JIVPVXMEBJLZRO-UHFFFAOYSA-N &  JIVPVXMEBJLZRO &                             chlorthalidone \\\\\n",
       "10  &  HCYAFALTSJYZDH-UHFFFAOYSA-N &  HCYAFALTSJYZDH &                                desipramine \\\\\n",
       "11  &  FIADGNVRKBPQEU-UHFFFAOYSA-N &  FIADGNVRKBPQEU &                                 pizotyline \\\\\n",
       "12  &  BCGWQEUPMDMJNV-UHFFFAOYSA-N &  BCGWQEUPMDMJNV &                                 imipramine \\\\\n",
       "13  &  MBGGBVCUIVRRBF-UHFFFAOYSA-N &  MBGGBVCUIVRRBF &                             sulfinpyrazone \\\\\n",
       "14  &  XCTYLCDETUVOIP-UHFFFAOYSA-N &  XCTYLCDETUVOIP &                           thiethylperazine \\\\\n",
       "15  &  JZQKKSLKJUAGIC-UHFFFAOYSA-N &  JZQKKSLKJUAGIC &                                   pindolol \\\\\n",
       "16  &  VYMDGNCVAMGZFE-UHFFFAOYSA-N &  VYMDGNCVAMGZFE &                             phenylbutazone \\\\\n",
       "17  &  DKNWSYNQZKUICI-UHFFFAOYSA-N &  DKNWSYNQZKUICI &                                 amantadine \\\\\n",
       "18  &  INJOMKTZOLKMBF-UHFFFAOYSA-N &  INJOMKTZOLKMBF &                                 Guanfacine \\\\\n",
       "19  &  ACGDKVXYNVEAGU-UHFFFAOYSA-N &  ACGDKVXYNVEAGU &                               guanethidine \\\\\n",
       "20  &  DCMJBKFKXGPPMT-UHFFFAOYSA-N &  DCMJBKFKXGPPMT &                                cizolirtine \\\\\n",
       "21  &  NIJJYAXOARWZEE-UHFFFAOYSA-N &  NIJJYAXOARWZEE &                           Valporate sodium \\\\\n",
       "22  &  VQKLRVZQQYVIJW-UHFFFAOYSA-N &  VQKLRVZQQYVIJW &                               Dihydralazin \\\\\n",
       "23  &  KLBQZWRITKRQQV-UHFFFAOYSA-N &  KLBQZWRITKRQQV &                               thioridazine \\\\\n",
       "24  &  QSLMDECMDJKHMQ-UHFFFAOYSA-N &  QSLMDECMDJKHMQ &                                Maprotiline \\\\\n",
       "25  &  NQPDXQQQCQDHHW-UHFFFAOYSA-N &  NQPDXQQQCQDHHW &                            Triclabendazole \\\\\n",
       "26  &  OVCDSSHSILBFBN-UHFFFAOYSA-N &  OVCDSSHSILBFBN &                                amodiaquine \\\\\n",
       "27  &  AGOYDEPGAOXOCK-KCBOHYOISA-N &  AGOYDEPGAOXOCK &                             Clarithromycin \\\\\n",
       "28  &  UWKQSNNFCGGAFS-XIFFEERXSA-N &  UWKQSNNFCGGAFS &                                 irinotecan \\\\\n",
       "29  &  YGCFIWIQZPHFLU-UHFFFAOYSA-N &  YGCFIWIQZPHFLU &                                 acesulfame \\\\\n",
       "30  &  RBQOQRRFDPXAGN-UHFFFAOYSA-N &  RBQOQRRFDPXAGN &                            propentofylline \\\\\n",
       "31  &  WNMJYKCGWZFFKR-UHFFFAOYSA-N &  WNMJYKCGWZFFKR &                                  alfuzosin \\\\\n",
       "32  &  WIGIZIANZCJQQY-RUCARUNLSA-N &  WIGIZIANZCJQQY &                                glimepiride \\\\\n",
       "33  &  UNRHXEPDKXPRTM-UHFFFAOYSA-N &  UNRHXEPDKXPRTM &                                Amisulpride \\\\\n",
       "34  &  QURWXBZNHXJZBE-SKXRKSCCSA-N &  QURWXBZNHXJZBE &                                  Icatibant \\\\\n",
       "35  &  ORYDPOVDJJZGHQ-UHFFFAOYSA-N &  ORYDPOVDJJZGHQ &                               Tirapazamine \\\\\n",
       "36  &  LJVAJPDWBABPEJ-PNUFFHFMSA-N &  LJVAJPDWBABPEJ &                              telithromycin \\\\\n",
       "37  &  IMZMKUWMOSJXDT-UHFFFAOYSA-N &  IMZMKUWMOSJXDT &                               cromoglycate \\\\\n",
       "38  &  IYIKLHRQXLHMJQ-UHFFFAOYSA-N &  IYIKLHRQXLHMJQ &                                 Amiodarone \\\\\n",
       "39  &  AAOVKJBEBIDNHE-UHFFFAOYSA-N &  AAOVKJBEBIDNHE &                                   diazepam \\\\\n",
       "40  &  AHLBNYSZXLDEJQ-FWEHEUNISA-N &  AHLBNYSZXLDEJQ &                                   Orlistat \\\\\n",
       "41  &  ZNNLBTZKUZBEKO-UHFFFAOYSA-N &  ZNNLBTZKUZBEKO &                              Glibenclamide \\\\\n",
       "42  &  SCKYRAXSEDYPSA-UHFFFAOYSA-N &  SCKYRAXSEDYPSA &                                 Ciclopirox \\\\\n",
       "43  &  ZZUFCTLCJUWOSV-UHFFFAOYSA-N &  ZZUFCTLCJUWOSV &                                 Furosemide \\\\\n",
       "44  &  PZRHRDRVRGEVNW-UHFFFAOYSA-N &  PZRHRDRVRGEVNW &                                  milrinone \\\\\n",
       "45  &  RQTOOFIXOKYGAN-UHFFFAOYSA-N &  RQTOOFIXOKYGAN &                                 nedocromil \\\\\n",
       "46  &  HDACQVRGBOVJII-JBDAPHQKSA-N &  HDACQVRGBOVJII &                                   ramipril \\\\\n",
       "47  &  FTALBRSUTCGOEG-UHFFFAOYSA-N &  FTALBRSUTCGOEG &                                   Riluzole \\\\\n",
       "48  &  GMZVRMREEHBGGF-UHFFFAOYSA-N &  GMZVRMREEHBGGF &                                  piracetam \\\\\n",
       "49  &  QSXXLDDWVCEBFP-UHFFFAOYSA-N &  QSXXLDDWVCEBFP &                               torbafylline \\\\\n",
       "50  &  CUWODFFVMXJOKD-UVLQAERKSA-N &  CUWODFFVMXJOKD &                                  buserelin \\\\\n",
       "51  &  VHOGYURTWQBHIL-UHFFFAOYSA-N &  VHOGYURTWQBHIL &                                leflunomide \\\\\n",
       "52  &  BYPFEZZEUUWMEJ-UHFFFAOYSA-N &  BYPFEZZEUUWMEJ &                             Pentoxifylline \\\\\n",
       "53  &  XLFWDASMENKTKL-UHFFFAOYSA-N &  XLFWDASMENKTKL &                                 Molsidomin \\\\\n",
       "54  &  GPRBEKHLDVQUJE-QSWIMTSFSA-N &  GPRBEKHLDVQUJE &                                 cefotaxime \\\\\n",
       "55  &  VXFJYXUZANRPDJ-WTNASJBWSA-N &  VXFJYXUZANRPDJ &                               Trandolapril \\\\\n",
       "56  &  OHCQJHSOBUTRHG-KGGHGJDLSA-N &  OHCQJHSOBUTRHG &                                  Colforsin \\\\\n",
       "57  &  QVSXOXCYXPQXMF-OAHLLOKOSA-N &  QVSXOXCYXPQXMF &                                  alniditan \\\\\n",
       "58  &  OZFSWVOEXHGDES-INIZCTEOSA-N &  OZFSWVOEXHGDES &                                 lubeluzole \\\\\n",
       "59  &  GXPHKUHSUJUWKP-UHFFFAOYSA-N &  GXPHKUHSUJUWKP &                               Troglitazone \\\\\n",
       "60  &  PVLJETXTTWAYEW-UHFFFAOYSA-N &  PVLJETXTTWAYEW &                                mizolastine \\\\\n",
       "61  &  YOSHYTLCDANDAN-UHFFFAOYSA-N &  YOSHYTLCDANDAN &                                 Irbesartan \\\\\n",
       "62  &  RPTUSVTUFVMDQK-UHFFFAOYSA-N &  RPTUSVTUFVMDQK &                                Hydralazine \\\\\n",
       "63  &  UBQYURCVBFRUQT-UHFFFAOYSA-N &  UBQYURCVBFRUQT &                               Deferoxamine \\\\\n",
       "64  &  QPGGEKPRGVJKQB-UHFFFAOYSA-N &  QPGGEKPRGVJKQB &                                 Dibenzepin \\\\\n",
       "65  &  ROBVIMPUHSLWNV-UHFFFAOYSA-N &  ROBVIMPUHSLWNV &                          Aminoglutethimide \\\\\n",
       "66  &  PXWLVJLKJGVOKE-UHFFFAOYSA-N &  PXWLVJLKJGVOKE &                             Propyphenazone \\\\\n",
       "67  &  MRBDMNSDAVCSSF-UHFFFAOYSA-N &  MRBDMNSDAVCSSF &                               phentolamine \\\\\n",
       "68  &  PTOJVMZPWPAXER-VFJVYMGBSA-N &  PTOJVMZPWPAXER &                                  Enprostil \\\\\n",
       "69  &  PUXBGTOOZJQSKH-UHFFFAOYSA-N &  PUXBGTOOZJQSKH &                                  carprofen \\\\\n",
       "70  &  JDUBGYFRJFOXQC-KRWDZBQOSA-N &  JDUBGYFRJFOXQC &                               capivasertib \\\\\n",
       "71  &  WAXQNWCZJDTGBU-UHFFFAOYSA-N &  WAXQNWCZJDTGBU &                                 Netupitant \\\\\n",
       "72  &  HHHKFGXWKKUNCY-FHWLQOOXSA-N &  HHHKFGXWKKUNCY &                                 Cilazapril \\\\\n",
       "73  &  OZGNYLLQHRPOBR-DHZHZOJOSA-N &  OZGNYLLQHRPOBR &                    Naftifine Hydrochloride \\\\\n",
       "74  &  DKWNMCUOEDMMIN-PKOBYXMFSA-N &  DKWNMCUOEDMMIN &                                 melagatran \\\\\n",
       "75  &  OUKYUETWWIPKQR-UHFFFAOYSA-N &  OUKYUETWWIPKQR &                                saracatinib \\\\\n",
       "76  &  PDOQBOJDRPLBQU-QMMMGPOBSA-N &  PDOQBOJDRPLBQU &                                   AZD 1480 \\\\\n",
       "77  &  JUSFANSTBFGBAF-IRXDYDNUSA-N &  JUSFANSTBFGBAF &                                vistusertib \\\\\n",
       "78  &  XXJWYDDUDKYVKI-UHFFFAOYSA-N &  XXJWYDDUDKYVKI &                                  cediranib \\\\\n",
       "79  &  FDLYAMZZIXQODN-UHFFFAOYSA-N &  FDLYAMZZIXQODN &                                   Olaparib \\\\\n",
       "80  &  LJNUIEQATDYXJH-GSVOUGTGSA-N &  LJNUIEQATDYXJH &                                lesogaberan \\\\\n",
       "81  &  JMEYDSHPKCSIJC-UHFFFAOYSA-N &  JMEYDSHPKCSIJC &                                    AZD3514 \\\\\n",
       "82  &  OEKWJQXRCDYSHL-FNOIDJSQSA-N &  OEKWJQXRCDYSHL &                                 Ticagrelor \\\\\n",
       "83  &  XFLQIRAKKLNXRQ-UUWRZZSWSA-N &  XFLQIRAKKLNXRQ &                                 elobixibat \\\\\n",
       "84  &  FNYFFCOCVNTJCD-NNMXADRKSA-N &  FNYFFCOCVNTJCD &                                    AZD9164 \\\\\n",
       "85  &  XGALLCVXEZPNRQ-UHFFFAOYSA-N &  XGALLCVXEZPNRQ &                                  gefitinib \\\\\n",
       "86  &  FJHHZXWJVIEFGJ-UHFFFAOYSA-N &  FJHHZXWJVIEFGJ &                                     ZD4054 \\\\\n",
       "87  &  SEERZIQQUAZTOL-ANMDKAQQSA-N &  SEERZIQQUAZTOL &                               Cerivastatin \\\\\n",
       "88  &  HBUJYEUPIIJJOS-PBHICJAKSA-N &  HBUJYEUPIIJJOS &                                  posizolid \\\\\n",
       "89  &  AAKJLRGGTJKAMG-UHFFFAOYSA-N &  AAKJLRGGTJKAMG &                                  erlotinib \\\\\n",
       "90  &  INVTYAOGFAGBOE-UHFFFAOYSA-N &  INVTYAOGFAGBOE &                                 entinostat \\\\\n",
       "91  &  CXGTZJYQWSUFET-IBGZPJMESA-N &  CXGTZJYQWSUFET &                               tesaglitazar \\\\\n",
       "92  &  RYMZZMVNJRMUDD-HGQWONQESA-N &  RYMZZMVNJRMUDD &                                simvastatin \\\\\n",
       "93  &  JZCPYUJPEARBJL-UHFFFAOYSA-N &  JZCPYUJPEARBJL &                                 Rimonabant \\\\\n",
       "94  &  CGIGDMFJXJATDK-UHFFFAOYSA-N &  CGIGDMFJXJATDK &                               indomethacin \\\\\n",
       "95  &  GJSURZIOUXUGAL-UHFFFAOYSA-N &  GJSURZIOUXUGAL &                                  clonidine \\\\\n",
       "96  &  ANTSCNMPPGJYLG-UHFFFAOYSA-N &  ANTSCNMPPGJYLG &                           chlordiazepoxide \\\\\n",
       "97  &  CMSMOCZEIVJLDB-UHFFFAOYSA-N &  CMSMOCZEIVJLDB &                           cyclophosphamide \\\\\n",
       "98  &  SNICXCGAKADSCV-JTQLQIEISA-N &  SNICXCGAKADSCV &                                   nicotine \\\\\n",
       "99  &  LKJPYSCBVHEWIU-UHFFFAOYSA-N &  LKJPYSCBVHEWIU &                               bicalutamide \\\\\n",
       "100 &  YBBLVLTVTVSKRW-UHFFFAOYSA-N &  YBBLVLTVTVSKRW &                                anastrozole \\\\\n",
       "101 &  ZFMITUMMTDLWHR-UHFFFAOYSA-N &  ZFMITUMMTDLWHR &                                  minoxidil \\\\\n",
       "102 &  HLFSDGLLUJUHTE-SNVBAGLBSA-N &  HLFSDGLLUJUHTE &                                 levamisole \\\\\n",
       "103 &  LMEKQMALGUDUQG-UHFFFAOYSA-N &  LMEKQMALGUDUQG &                               azathioprine \\\\\n",
       "104 &  YASAKCUCGLMORW-UHFFFAOYSA-N &  YASAKCUCGLMORW &                              rosiglitazone \\\\\n",
       "105 &  ZKMNUMMKYBVTFN-HNNXBMFYSA-N &  ZKMNUMMKYBVTFN &                                ropivacaine \\\\\n",
       "106 &  VREFGVBLTWBCJP-UHFFFAOYSA-N &  VREFGVBLTWBCJP &                                 alprazolam \\\\\n",
       "107 &  ULSDMUVEXKOYBU-ZDUSSCGKSA-N &  ULSDMUVEXKOYBU &                               Zolmitriptan \\\\\n",
       "108 &  KWTSXDURSIMDCE-UHFFFAOYSA-N &  KWTSXDURSIMDCE &                                Amphetamine \\\\\n",
       "109 &  RZTAMFZIAATZDJ-UHFFFAOYSA-N &  RZTAMFZIAATZDJ &                                 Felodipine \\\\\n",
       "110 &  VOVIALXJUBGFJZ-KWVAZRHASA-N &  VOVIALXJUBGFJZ &                                 budesonide \\\\\n",
       "111 &  PCLITLDOTJTVDJ-UHFFFAOYSA-N &  PCLITLDOTJTVDJ &                            chlormethiazole \\\\\n",
       "112 &  YEEZWCHGZNKEEK-UHFFFAOYSA-N &  YEEZWCHGZNKEEK &                                zafirlukast \\\\\n",
       "113 &  IVTVGDXNLFLDRM-HNNXBMFYSA-N &  IVTVGDXNLFLDRM &                                Raltitrexed \\\\\n",
       "114 &  ZJAOAACCNHFJAH-UHFFFAOYSA-N &  ZJAOAACCNHFJAH &                                  Foscarnet \\\\\n",
       "115 &  GUJRSXAPGDDABA-NSHDSACASA-N &  GUJRSXAPGDDABA &                                Remoxipride \\\\\n",
       "116 &  JLKIGFTWXXRPMT-UHFFFAOYSA-N &  JLKIGFTWXXRPMT &                           sulfamethoxazole \\\\\n",
       "117 &  ANZXOIAKUNOVQU-UHFFFAOYSA-N &  ANZXOIAKUNOVQU &                                 Bambuterol \\\\\n",
       "118 &  CEUORZQYGODEFX-UHFFFAOYSA-N &  CEUORZQYGODEFX &                               Aripiprazole \\\\\n",
       "119 &  KVWDHTXUZHCGIO-UHFFFAOYSA-N &  KVWDHTXUZHCGIO &                                 olanzapine \\\\\n",
       "120 &  NNJVILVZKWQKPM-UHFFFAOYSA-N &  NNJVILVZKWQKPM &  Lidocaine HCl monohydrate; Prilocaine HCl \\\\\n",
       "121 &  SZRPDCCEHVWOJX-UHFFFAOYSA-N &  SZRPDCCEHVWOJX &                             pirinixic acid \\\\\n",
       "122 &  ZXIBCJHYVWYIKI-PZJWPPBQSA-N &  ZXIBCJHYVWYIKI &                               ximelagatran \\\\\n",
       "123 &  XSNMGLZVFNDDPW-ZWKOTPCHSA-N &  XSNMGLZVFNDDPW &                                   AZD 0837 \\\\\n",
       "124 &  GUBGYTABKSRVRQ-DCSYEGIMSA-N &  GUBGYTABKSRVRQ &                                    lactose \\\\\n",
       "125 &  DCOPUUMXTXDBNB-UHFFFAOYSA-N &  DCOPUUMXTXDBNB &                                 diclofenac \\\\\n",
       "126 &  SIQPXVQCUCHWDI-UHFFFAOYSA-N &  SIQPXVQCUCHWDI &                               Enprofylline \\\\\n",
       "127 &  VOXZDWNPVJITMN-ZBRFXRBCSA-N &  VOXZDWNPVJITMN &                                  estradiol \\\\\n",
       "128 &  VWUXBMIQPBEWFH-WCCTWKNTSA-N &  VWUXBMIQPBEWFH &                                fulvestrant \\\\\n",
       "129 &  VMXUWOKSQNHOCA-UHFFFAOYSA-N &  VMXUWOKSQNHOCA &                                 ranitidine \\\\\n",
       "130 &  ZMHOBBKJBYLXFR-UHFFFAOYSA-N &  ZMHOBBKJBYLXFR &                                 almokalant \\\\\n",
       "131 &  RDOIQAHITMMDAJ-UHFFFAOYSA-N &  RDOIQAHITMMDAJ &                                 loperamide \\\\\n",
       "132 &  UGFHIPBXIWJXNA-UHFFFAOYSA-N &  UGFHIPBXIWJXNA &                                  liarozole \\\\\n",
       "133 &  XZWYZXLIPXDOLR-UHFFFAOYSA-N &  XZWYZXLIPXDOLR &                                  metformin \\\\\n",
       "134 &  JQXXHWHPUNPDRT-WLSIYKJHSA-N &  JQXXHWHPUNPDRT &                                Rifampicine \\\\\n",
       "135 &  ZPXSCAKFGYXMGA-UHFFFAOYSA-N &  ZPXSCAKFGYXMGA &                                   Mazindol \\\\\n",
       "136 &  NJMYODHXAKYRHW-DVZOWYKESA-N &  NJMYODHXAKYRHW &                               flupenthixol \\\\\n",
       "137 &  YSGASDXSLKIKOD-UHFFFAOYSA-N &  YSGASDXSLKIKOD &                                 remacemide \\\\\n",
       "138 &  GTPHQORJKFJIRB-JTQLPTLWSA-N &  GTPHQORJKFJIRB &                                frakefamide \\\\\n",
       "139 &  UHTHHESEBZOYNR-UHFFFAOYSA-N &  UHTHHESEBZOYNR &                                 vandetanib \\\\\n",
       "140 &  OLBCVFGFOZPWHH-UHFFFAOYSA-N &  OLBCVFGFOZPWHH &                                   propofol \\\\\n",
       "141 &  TUZYXOIXSAXUGO-PZAWKZKUSA-N &  TUZYXOIXSAXUGO &                                pravastatin \\\\\n",
       "142 &  XWTYSIMOBUGWOL-UHFFFAOYSA-N &  XWTYSIMOBUGWOL &                                terbutaline \\\\\n",
       "143 &  HPJKCIUCZWXJDR-UHFFFAOYSA-N &  HPJKCIUCZWXJDR &                                  letrozole \\\\\n",
       "144 &  GLLPUTYLZIKEGF-HAVVHWLPSA-N &  GLLPUTYLZIKEGF &                                   ridogrel \\\\\n",
       "145 &  XMGQYMWWDOXHJM-JTQLQIEISA-N &  XMGQYMWWDOXHJM &                                   limonene \\\\\n",
       "146 &  BYBLEWFAAKGYCD-UHFFFAOYSA-N &  BYBLEWFAAKGYCD &                                 Miconazole \\\\\n",
       "147 &  GGCSSNBKKAUURC-UHFFFAOYSA-N &  GGCSSNBKKAUURC &                                    Citrate \\\\\n",
       "148 &  IDBPHNDTYPBSNI-UHFFFAOYSA-N &  IDBPHNDTYPBSNI &                                 alfentanil \\\\\n",
       "149 &  RKLNONIVDFXQRX-UHFFFAOYSA-N &  RKLNONIVDFXQRX &                                Bromperidol \\\\\n",
       "150 &  MDLAAYDRRZXJIF-UHFFFAOYSA-N &  MDLAAYDRRZXJIF &                                Penfluridol \\\\\n",
       "151 &  QPUVKSKJCNGSGT-UHFFFAOYSA-N &  QPUVKSKJCNGSGT &                                   AZD-3043 \\\\\n",
       "152 &  ACRHBAYQBXXRTO-OAQYLSRUSA-N &  ACRHBAYQBXXRTO &                   Ivabradine hydrochloride \\\\\n",
       "153 &  IRLWJILLXJGJTD-UHFFFAOYSA-N &  IRLWJILLXJGJTD &                               muraglitazar \\\\\n",
       "154 &  PMRYVIKBURPHAH-UHFFFAOYSA-N &  PMRYVIKBURPHAH &                                methimazole \\\\\n",
       "155 &  MVWVFYHBGMAFLY-UHFFFAOYSA-N &  MVWVFYHBGMAFLY &                                ziprasidone \\\\\n",
       "156 &  PJMPHNIQZUBGLI-UHFFFAOYSA-N &  PJMPHNIQZUBGLI &                                   fentanyl \\\\\n",
       "157 &  IHEHEFLXQFOQJO-UHFFFAOYSA-N &  IHEHEFLXQFOQJO &                              pirinitramide \\\\\n",
       "158 &  ZCGOMHNNNFPNMX-KYTRFIICSA-N &  ZCGOMHNNNFPNMX &                              levocabastine \\\\\n",
       "159 &  FPCCSQOGAWCVBH-UHFFFAOYSA-N &  FPCCSQOGAWCVBH &                        Ketanserin tartrate \\\\\n",
       "160 &  SMANXXCATUTDDT-QPJJXVBHSA-N &  SMANXXCATUTDDT &                                flunarizine \\\\\n",
       "161 &  MUMGGOZAMZWBJJ-DYKIIFRCSA-N &  MUMGGOZAMZWBJJ &                               testosterone \\\\\n",
       "162 &  XJGVXQDUIWGIRW-UHFFFAOYSA-N &  XJGVXQDUIWGIRW &                                   Loxapine \\\\\n",
       "163 &  QWGDMFLQWFTERH-UHFFFAOYSA-N &  QWGDMFLQWFTERH &                                  amoxapine \\\\\n",
       "164 &  OVTCHWSLKGENKP-UHFFFAOYSA-N &  OVTCHWSLKGENKP &                          disufenton sodium \\\\\n",
       "165 &  LBOJYSIDWZQNJS-CVEARBPZSA-N &  LBOJYSIDWZQNJS &                        Dizocilpine Maleate \\\\\n",
       "166 &  NAUWTFJOPJWYOT-UHFFFAOYSA-N &  NAUWTFJOPJWYOT &                                 vanoxerine \\\\\n",
       "167 &  XNKCCCKFOQNXKV-ZRSCBOBOSA-N &  XNKCCCKFOQNXKV &                                  naloxegol \\\\\n",
       "168 &  YMBXTVYHTMGZDW-UHFFFAOYSA-N &  YMBXTVYHTMGZDW &                                 Loxoprofen \\\\\n",
       "169 &  ZSKVGTPCRGIANV-ZXFLCMHBSA-N &  ZSKVGTPCRGIANV &                                   imipenem \\\\\n",
       "170 &  RZVAJINKPMORJF-UHFFFAOYSA-N &  RZVAJINKPMORJF &                              acetaminophen \\\\\n",
       "171 &  DUYJMQONPNNFPI-UHFFFAOYSA-N &  DUYJMQONPNNFPI &                                osimertinib \\\\\n",
       "172 &  MVFGUOIZUNYYSO-UHFFFAOYSA-N &  MVFGUOIZUNYYSO &                                 Prilocaine \\\\\n",
       "173 &  KPBZROQVTHLCDU-UHFFFAOYSA-N &  KPBZROQVTHLCDU &                                clevidipine \\\\\n",
       "174 &  PAEBIVWUMLRPSK-IDTAVKCVSA-N &  PAEBIVWUMLRPSK &                                  Cangrelor \\\\\n",
       "175 &  VAOCPAMSLUNLGC-UHFFFAOYSA-N &  VAOCPAMSLUNLGC &                              metronidazole \\\\\n",
       "176 &  WDOGQTQEKVLZIJ-WAYWQWQTSA-N &  WDOGQTQEKVLZIJ &                              fosbretabulin \\\\\n",
       "177 &  ZWJINEZUASEZBH-UHFFFAOYSA-N &  ZWJINEZUASEZBH &                               fenamic acid \\\\\n",
       "178 &  APKFDSVGJQXUKY-INPOYWNPSA-N &  APKFDSVGJQXUKY &                             amphotericin B \\\\\n",
       "179 &  YPHMISFOHDHNIV-FSZOTQKASA-N &  YPHMISFOHDHNIV &                              Cycloheximide \\\\\n",
       "180 &  URKOMYMAXPYINW-UHFFFAOYSA-N &  URKOMYMAXPYINW &                                 quetiapine \\\\\n",
       "181 &  DZGWFCGJZKJUFP-UHFFFAOYSA-N &  DZGWFCGJZKJUFP &                                   tyramine \\\\\n",
       "182 &  WSEQXVZVJXJVFP-UHFFFAOYSA-N &  WSEQXVZVJXJVFP &                                 citalopram \\\\\n",
       "183 &  IIRWNGPLJQXWFJ-KRWDZBQOSA-N &  IIRWNGPLJQXWFJ &                                    AT13148 \\\\\n",
       "184 &  CYOHGALHFOKKQC-UHFFFAOYSA-N &  CYOHGALHFOKKQC &                                selumetinib \\\\\n",
       "185 &  TVURRHSHRRELCG-UHFFFAOYSA-N &  TVURRHSHRRELCG &                                 fenoldopam \\\\\n",
       "186 &  JOLJIIDDOBNFHW-UHFFFAOYSA-N &  JOLJIIDDOBNFHW &                                 xanomeline \\\\\n",
       "187 &  MPIPASJGOJYODL-UHFFFAOYSA-N &  MPIPASJGOJYODL &                                isoconazole \\\\\n",
       "188 &  XAIPTRIXGHTTNT-UHFFFAOYSA-N &  XAIPTRIXGHTTNT &                                triflumuron \\\\\n",
       "189 &  PXMNMQRDXWABCY-UHFFFAOYSA-N &  PXMNMQRDXWABCY &                               tebuconazole \\\\\n",
       "190 &  MLDQJTXFUGDVEO-UHFFFAOYSA-N &  MLDQJTXFUGDVEO &                                  sorafenib \\\\\n",
       "191 &  FABPRXSRWADJSP-MEDUHNTESA-N &  FABPRXSRWADJSP &                 Moxifloxacin hydrochloride \\\\\n",
       "192 &  TYZROVQLWOKYKF-ZDUSSCGKSA-N &  TYZROVQLWOKYKF &                                  linezolid \\\\\n",
       "193 &  SECKRCOLJRRGGV-UHFFFAOYSA-N &  SECKRCOLJRRGGV &                                 vardenafil \\\\\n",
       "194 &  BNRNXUUZRGQAQC-UHFFFAOYSA-N &  BNRNXUUZRGQAQC &                                     Viagra \\\\\n",
       "195 &  DGAIEPBNLOQYER-UHFFFAOYSA-N &  DGAIEPBNLOQYER &                                  Ultravist \\\\\n",
       "196 &  BSYNRYMUTXBXSQ-UHFFFAOYSA-N &  BSYNRYMUTXBXSQ &                                    Aspirin \\\\\n",
       "197 &  XILVEPYQJIOVNB-UHFFFAOYSA-N &  XILVEPYQJIOVNB &                                etofenamate \\\\\n",
       "198 &  ODUOJXZPIYUATO-UHFFFAOYSA-N &  ODUOJXZPIYUATO &                               racecadotril \\\\\n",
       "199 &  TZJUVVIWVWFLCD-UHFFFAOYSA-N &  TZJUVVIWVWFLCD &                                 Ipsapirone \\\\\n",
       "200 &  OIGNJSKKLXVSLS-VWUMJDOOSA-N &  OIGNJSKKLXVSLS &                               prednisolone \\\\\n",
       "201 &  METQSPRSQINEEU-HXCATZOESA-N &  METQSPRSQINEEU &                               Drospirenone \\\\\n",
       "202 &  XUHXFSYUBXNTHU-UHFFFAOYSA-N &  XUHXFSYUBXNTHU &                                   iotrolan \\\\\n",
       "203 &  NDAUXUAQIAJITI-UHFFFAOYSA-N &  NDAUXUAQIAJITI &                                 Salbutamol \\\\\n",
       "204 &  HIFJCPQKFCZDDL-ACWOEMLNSA-N &  HIFJCPQKFCZDDL &                          Iloprost ventavis \\\\\n",
       "205 &  IEXUMDBQLIVNHZ-YOUGDJEHSA-N &  IEXUMDBQLIVNHZ &                                onapristone \\\\\n",
       "206 &  RLFKILXOLJVUNF-UHFFFAOYSA-N &  RLFKILXOLJVUNF &                                  Abecarnil \\\\\n",
       "207 &  JJJFUHOGVZWXNQ-UHFFFAOYSA-N &  JJJFUHOGVZWXNQ &                                Enbucrilate \\\\\n",
       "208 &  AOJJSUZBOXZQNB-TZSSRYMLSA-N &  AOJJSUZBOXZQNB &                                 Adriamycin \\\\\n",
       "209 &  BFZKMNSQCNVFGM-UCEYFQQTSA-N &  BFZKMNSQCNVFGM &                                 sagopilone \\\\\n",
       "210 &  ZDZOTLJHXYCWBA-VCVYQWHSSA-N &  ZDZOTLJHXYCWBA &                                   Taxotere \\\\\n",
       "211 &  YAKWPXVTIGTRJH-UHFFFAOYSA-N &  YAKWPXVTIGTRJH &                                fotemustine \\\\\n",
       "212 &  DJSXNILVACEBLP-UHFFFAOYSA-N &  DJSXNILVACEBLP &                         strontium ranelate \\\\\n",
       "213 &  DRLFMBDRBRZALE-UHFFFAOYSA-N &  DRLFMBDRBRZALE &                                  Melatonin \\\\\n",
       "214 &  IPVQLZZIHOAWMC-QXKUPLGCSA-N &  IPVQLZZIHOAWMC &                                Perindopril \\\\\n",
       "215 &  DDUHZTYCFQRHIY-RBHXEPJQSA-N &  DDUHZTYCFQRHIY &                               griseofulvin \\\\\n",
       "216 &  WPVFJKSGQUFQAP-GKAPJAKFSA-N &  WPVFJKSGQUFQAP &                                    Valcyte \\\\\n",
       "217 &  RTGDFNSFWBGLEC-SYZQJQIISA-N &  RTGDFNSFWBGLEC &                                   CellCept \\\\\n",
       "218 &  OGHNVEJMJSYVRP-UHFFFAOYSA-N &  OGHNVEJMJSYVRP &                                 Carvedilol \\\\\n",
       "219 &  QWAXKHKRTORLEM-UGJKXSETSA-N &  QWAXKHKRTORLEM &                                 Saquinavir \\\\\n",
       "220 &  XMXHEBAFVSFQEX-UHFFFAOYSA-N &  XMXHEBAFVSFQEX &                                iloperidone \\\\\n",
       "221 &  ACWBQPMHZXGDFX-QFIPXVFZSA-N &  ACWBQPMHZXGDFX &                                  valsartan \\\\\n",
       "222 &  CEMAWMOMDPGJMB-UHFFFAOYSA-N &  CEMAWMOMDPGJMB &                                 oxprenolol \\\\\n",
       "223 &  CTRLABGOLIVAIY-UHFFFAOYSA-N &  CTRLABGOLIVAIY &                              Oxcarbazepine \\\\\n",
       "224 &  NLVFBUXFDBBNBW-PBSUHMDJSA-N &  NLVFBUXFDBBNBW &                                 tobramycin \\\\\n",
       "225 &  HHZIURLSWUIHRB-UHFFFAOYSA-N &  HHZIURLSWUIHRB &                                  Nilotinib \\\\\n",
       "226 &  JRURYQJSLYLRLN-BJMVGYQFSA-N &  JRURYQJSLYLRLN &                                 Entacapone \\\\\n",
       "227 &  KHPKQFYUPIUARC-UHFFFAOYSA-N &  KHPKQFYUPIUARC &                                lumiracoxib \\\\\n",
       "228 &  XSVMFMHYUFZWBK-NSHDSACASA-N &  XSVMFMHYUFZWBK &                               rivastigmine \\\\\n",
       "229 &  HPNSFSBZBAHARI-RUDMXATFSA-N &  HPNSFSBZBAHARI &                       Mycophenolate Sodium \\\\\n",
       "230 &  JZUFKLXOESDKRF-UHFFFAOYSA-N &  JZUFKLXOESDKRF &                        Hydrochlorothiazide \\\\\n",
       "231 &  GGXKWVWZWMLJEH-UHFFFAOYSA-N &  GGXKWVWZWMLJEH &                                famciclovir \\\\\n",
       "232 &  KKGQTZUTZRNORY-UHFFFAOYSA-N &  KKGQTZUTZRNORY &                                 fingolimod \\\\\n",
       "233 &  BOFQWVMAQOTZIW-UHFFFAOYSA-N &  BOFQWVMAQOTZIW &                                deferasirox \\\\\n",
       "234 &  SYOKIDBDQMKNDQ-XWTIBIIYSA-N &  SYOKIDBDQMKNDQ &                               Vildagliptin \\\\\n",
       "235 &  FPOHNWQLNRZRFC-ZHACJKMWSA-N &  FPOHNWQLNRZRFC &                               Panobinostat \\\\\n",
       "236 &  IQFYYKKMVGJFEH-CSMHCCOUSA-N &  IQFYYKKMVGJFEH &                                telbivudine \\\\\n",
       "237 &  HMJIYCCIJYRONP-UHFFFAOYSA-N &  HMJIYCCIJYRONP &                                 Isradipine \\\\\n",
       "238 &  KTUFNOKKBVMGRW-UHFFFAOYSA-N &  KTUFNOKKBVMGRW &                                   imatinib \\\\\n",
       "239 &  UXOWGYHJODZGMF-QORCZRPOSA-N &  UXOWGYHJODZGMF &                                  aliskiren \\\\\n",
       "240 &  DOMXUEMWDBAQBQ-WEVVVXLNSA-N &  DOMXUEMWDBAQBQ &                                terbinafine \\\\\n",
       "241 &  HRWCVUIFMSZDJS-SZMVWBNQSA-N &  HRWCVUIFMSZDJS &                                  spirapril \\\\\n",
       "242 &  HKVAMNSJSFKALM-GKUWKFKPSA-N &  HKVAMNSJSFKALM &                                 everolimus \\\\\n",
       "243 &  PMATZTZNYRCHOR-CGLBZJNRSA-N &  PMATZTZNYRCHOR &                               cyclosporine \\\\\n",
       "244 &  IUBSYMUCCVWXPE-UHFFFAOYSA-N &  IUBSYMUCCVWXPE &                        Metoprolol Tartrate \\\\\n",
       "245 &  XRASPMIURGNCCH-UHFFFAOYSA-N &  XRASPMIURGNCCH &                            Zoledronic acid \\\\\n",
       "246 &  XFYDIVBRZNQMJC-UHFFFAOYSA-N &  XFYDIVBRZNQMJC &                                 tizanidine \\\\\n",
       "247 &  UPMXNNIRAGDFEH-UHFFFAOYSA-N &  UPMXNNIRAGDFEH &                                 Bromoxynil \\\\\n",
       "248 &  OWZREIFADZCYQD-NSHGMRRFSA-N &  OWZREIFADZCYQD &                               Deltamethrin \\\\\n",
       "249 &  QQODLKZGRKWIFG-UHFFFAOYSA-N &  QQODLKZGRKWIFG &                                 cyfluthrin \\\\\n",
       "250 &  RWTNPBWLLIMQHL-UHFFFAOYSA-N &  RWTNPBWLLIMQHL &                               fexofenadine \\\\\n",
       "251 &  KPQZUUQMTUIKBP-UHFFFAOYSA-N &  KPQZUUQMTUIKBP &                                Secnidazole \\\\\n",
       "252 &  PHWBOXQYWZNQIN-UHFFFAOYSA-N &  PHWBOXQYWZNQIN &                                ticlopidine \\\\\n",
       "253 &  DDLIGBOFAVUZHB-UHFFFAOYSA-N &  DDLIGBOFAVUZHB &                                  Midazolam \\\\\n",
       "254 &  VAAUVRVFOQPIGI-SPQHTLEESA-N &  VAAUVRVFOQPIGI &                                 Ceftriaxon \\\\\n",
       "255 &  ZROUQTNYPCANTN-UHFFFAOYSA-N &  ZROUQTNYPCANTN &                     Tiapamil Hydrochloride \\\\\n",
       "256 &  OZWKMVRBQXNZKK-UHFFFAOYSA-N &  OZWKMVRBQXNZKK &                                  ketorolac \\\\\n",
       "257 &  SAADBVWGJQAEFS-UHFFFAOYSA-N &  SAADBVWGJQAEFS &                                 flurazepam \\\\\n",
       "258 &  QEVHRUUCFGRFIF-MDEJGZGSSA-N &  QEVHRUUCFGRFIF &                                  reserpine \\\\\n",
       "259 &  KASDHRXLYQOAKZ-XDSKOBMDSA-N &  KASDHRXLYQOAKZ &                               pimecrolimus \\\\\n",
       "260 &  LUZRJRNZXALNLM-JGRZULCMSA-N &  LUZRJRNZXALNLM &                          Dihydroergotamine \\\\\n",
       "261 &  IKBKZGMPCYNSLU-RGVLZGJSSA-N &  IKBKZGMPCYNSLU &                                  Tegaserod \\\\\n",
       "262 &  UUOJIACWOAYWEZ-UHFFFAOYSA-N &  UUOJIACWOAYWEZ &                                 bopindolol \\\\\n",
       "263 &  DEQANNDTNATYII-OULOTJBUSA-N &  DEQANNDTNATYII &                                 octreotide \\\\\n",
       "264 &  KPJZHOPZRAFDTN-NQUBZZJWSA-N &  KPJZHOPZRAFDTN &                               methysergide \\\\\n",
       "265 &  YMTINGFKWWXKFG-UHFFFAOYSA-N &  YMTINGFKWWXKFG &                                fenofibrate \\\\\n",
       "\\bottomrule\n",
       "\\end{tabular}\n"
      ],
      "text/plain": [
       "                        inchiKey      inchiGroup              name\n",
       "0    GDLIGKIOYRNHDA-UHFFFAOYSA-N  GDLIGKIOYRNHDA  Clomipramine HCl\n",
       "1    OZVBMTJYIDMWIL-AYFBDAFISA-N  OZVBMTJYIDMWIL     bromocriptine\n",
       "2    KPYSYYIEGFHWSV-UHFFFAOYSA-N  KPYSYYIEGFHWSV          baclofen\n",
       "3    QZUDBNBUXVUHMW-UHFFFAOYSA-N  QZUDBNBUXVUHMW         clozapine\n",
       "4    ZNRGQMMCGHDTEI-ITGUQSILSA-N  ZNRGQMMCGHDTEI       tropisetron\n",
       "..                           ...             ...               ...\n",
       "261  IKBKZGMPCYNSLU-RGVLZGJSSA-N  IKBKZGMPCYNSLU         Tegaserod\n",
       "262  UUOJIACWOAYWEZ-UHFFFAOYSA-N  UUOJIACWOAYWEZ        bopindolol\n",
       "263  DEQANNDTNATYII-OULOTJBUSA-N  DEQANNDTNATYII        octreotide\n",
       "264  KPJZHOPZRAFDTN-NQUBZZJWSA-N  KPJZHOPZRAFDTN      methysergide\n",
       "265  YMTINGFKWWXKFG-UHFFFAOYSA-N  YMTINGFKWWXKFG       fenofibrate\n",
       "\n",
       "[266 rows x 3 columns]"
      ]
     },
     "execution_count": 6,
     "metadata": {},
     "output_type": "execute_result"
    }
   ],
   "source": [
    "pd = nb_setup.setup_pandas(escape_latex=False)\n",
    "df = pd.DataFrame(np.random.rand(len(drugs),3),columns=['inchiKey','inchiGroup','name'])\n",
    "df.inchiKey = [drug['inchi_keys'][0] for drug in drugs]\n",
    "df.inchiGroup = [drug['inchi_group'] for drug in drugs]\n",
    "df.name = [drug['names'][0] for drug in drugs]\n",
    "df.round(3)"
   ]
  },
  {
   "cell_type": "markdown",
   "id": "ultimate-calgary",
   "metadata": {
    "pycharm": {
     "name": "#%% md\n"
    }
   },
   "source": [
    "## Concordance table\n",
    "Per drug retrieve the preclinical and clinical findings. \n",
    "- true positives are the findings that can be found present in the preclinical and clinical data. \n",
    "- false positives are the findings that can be found in the preclinical data but not in the clinical data\n",
    "- false negatives are the clinical findings that can not be found in the preclinical data\n",
    "- true negatives are all preclinical unmapped findings that are not part of the drug specific preclinical findings"
   ]
  },
  {
   "cell_type": "code",
   "execution_count": 7,
   "id": "pointed-advertising",
   "metadata": {
    "pycharm": {
     "name": "#%%\n"
    }
   },
   "outputs": [],
   "source": [
    "max_distance = 4\n",
    "all_cc_findings = conutils.getAllClinicalFindings(db)\n",
    "all_pc_findings = conutils.getAllPreclinicalFindings(db)\n",
    "all_cc_names = [conutils.getKey(f, True) for f in all_cc_findings]\n",
    "all_pc_names = [conutils.getKey(f, False) for f in all_pc_findings]\n",
    "\n",
    "all_mappings = conutils.getMappings(db, max_distance)\n",
    "all_df = pd.DataFrame([[None] * len(all_cc_names)] * len(all_pc_names), all_pc_names, all_cc_names)\n",
    "for m in all_mappings:\n",
    "    pc_name = conutils.getKey(m, False)\n",
    "    cc_name = conutils.getKey(m, True)\n",
    "    all_df.at[pc_name, cc_name] = m['minDistance']"
   ]
  },
  {
   "cell_type": "markdown",
   "id": "miniature-aquarium",
   "metadata": {
    "pycharm": {
     "name": "#%% md\n"
    }
   },
   "source": [
    "## Compute Concordance tables"
   ]
  },
  {
   "cell_type": "code",
   "execution_count": null,
   "outputs": [],
   "source": [
    "ct = nb_setup.setup_pandas(escape_latex=False)\n",
    "ct.set_option('display.max_rows', None)\n",
    "ct.set_option('display.colheader_justify', 'left')\n",
    "ct.set_option('display.max_columns', None)\n",
    "ct.set_option('display.width', 200)\n",
    "ct.options.display.float_format = '{:.2f}'.format\n",
    "\n",
    "def createGroups(all_df, level):\n",
    "    groups = {}\n",
    "\n",
    "    # first collect all groups\n",
    "    for column in all_df.columns:\n",
    "        group = meddra.map2name(column, level)\n",
    "        if group not in groups:\n",
    "            groups[group] = {'tp': 0, 'fp': 0, 'fn': 0, 'tn': 0, 'codes': 1, 'min_distance': None, 'max_distance': None}\n",
    "        else:\n",
    "            groups[group]['codes'] += 1\n",
    "\n",
    "\n",
    "    progress = w.IntProgress(min=0, max=len(drugs), description='drugs:', bar_style=\"info\") # instantiate the bar\n",
    "    done_label = w.Label(value=\"0%\")\n",
    "    layout = w.HBox([progress, done_label])\n",
    "    display(layout) \n",
    "\n",
    "    for drug in drugs:\n",
    "        progress.value += 1\n",
    "        completed = (progress.value*1.0) / len(drugs)\n",
    "        done_label.value = '{0:.0%}'.format(completed)\n",
    "        inchiKey = drug['inchi_group']\n",
    "        drug_pc_findings = conutils.getAllDrugPreclinicalFindings(db, inchiKey)\n",
    "        drug_cc_findings = conutils.getAllDrugClinicalFindings(db, inchiKey)\n",
    "\n",
    "        drug_pc_groups = set()\n",
    "\n",
    "        # map the drug_pc_findings to groups\n",
    "        for pc in drug_pc_findings:\n",
    "            # find the cc findings associated with it\n",
    "            pc_name = conutils.getKey(pc, False)\n",
    "            if pc_name in all_df.index:\n",
    "                row = all_df.loc[pc_name]\n",
    "                # retrieve the clinical codes that are mapped to the preclinical code to obtain the groups\n",
    "                for code, value in row.items():\n",
    "                    if value is not None:\n",
    "                        code_group = meddra.map2name(code, level)\n",
    "                        drug_pc_groups.add(code_group)\n",
    "                        groups[code_group]['min_distance'] = conutils.amin(groups[code_group]['min_distance'], value)\n",
    "                        groups[code_group]['max_distance'] = conutils.amax(groups[code_group]['max_distance'], value)\n",
    "\n",
    "        # map the drug_cc_findings to groups\n",
    "        drug_cc_groups = set([meddra.map2name(conutils.getKey(cc, True), level) for cc in drug_cc_findings])\n",
    "\n",
    "        for group in groups:\n",
    "            if group in drug_pc_groups and group in drug_cc_groups:\n",
    "                groups[group]['tp'] += 1\n",
    "            elif group in drug_pc_groups and group not in drug_cc_groups:\n",
    "                groups[group]['fp'] += 1\n",
    "            elif group not in drug_pc_groups and group in drug_cc_groups:\n",
    "                groups[group]['fn'] += 1\n",
    "            elif group not in drug_pc_groups and group not in drug_cc_groups:\n",
    "                groups[group]['tn'] += 1\n",
    "    return groups\n",
    "\n",
    "def displayGroups(df, groups, level, title):\n",
    "    df[title] = [code for code in groups]\n",
    "    df['codes'] = [groups[code]['codes'] for code in groups]\n",
    "    df['min_dist'] = [groups[code]['min_distance'] for code in groups]\n",
    "    df['min_dist'] = df['min_dist'].fillna(999).astype(int)\n",
    "    df['max_dist'] = [groups[code]['max_distance'] for code in groups]\n",
    "    df['max_dist'] = df['max_dist'].fillna(999).astype(int)\n",
    "    df.TP = [groups[code]['tp'] for code in groups]\n",
    "    df.FP = [groups[code]['fp'] for code in groups]\n",
    "    df.FN = [groups[code]['fn'] for code in groups]\n",
    "    df.TN = [groups[code]['tn'] for code in groups]\n",
    "    df['Sensitivity'] = [conutils.compute_sensitivity(groups[code]) for code in groups]\n",
    "    df['Specificity'] = [conutils.compute_specificity(groups[code]) for code in groups]\n",
    "    df['LR+'] = [conutils.compute_lrp(groups[code]) for code in groups]\n",
    "    df['LR-'] = [conutils.compute_lrn(groups[code]) for code in groups]\n",
    "    df['chi-square'] = [conutils.compute_chisquare(groups[code]) for code in groups]\n",
    "    df = df.sort_values(by=['LR+'], ascending=False)\n",
    "    df.round(3)\n",
    "    return df"
   ],
   "metadata": {
    "collapsed": false,
    "pycharm": {
     "name": "#%%\n"
    }
   }
  },
  {
   "cell_type": "code",
   "execution_count": null,
   "outputs": [],
   "source": [
    "groups = {}\n",
    "for level in ['soc', 'hlgt', 'hlt', 'pt']:\n",
    "    groups[level] = createGroups(all_df, level)"
   ],
   "metadata": {
    "collapsed": false,
    "pycharm": {
     "name": "#%%\n"
    }
   }
  },
  {
   "cell_type": "code",
   "execution_count": null,
   "outputs": [],
   "source": [
    "df = {}\n",
    "for level in ['soc', 'hlgt', 'hlt', 'pt']:\n",
    "    title = f'MedDRA {level.upper()}'\n",
    "    df[level] = ct.DataFrame(np.random.rand(len(groups[level]), 13), columns=[title, 'codes', 'min_dist', 'max_dist', 'TP', 'FP', 'FN', 'TN', 'Sensitivity', 'Specificity', 'LR+', 'LR-', 'chi-square'])\n",
    "    table = displayGroups(df[level], groups[level], level, title)\n",
    "    display(table)"
   ],
   "metadata": {
    "collapsed": false,
    "pycharm": {
     "name": "#%%\n"
    }
   }
  }
 ],
 "metadata": {
  "kernelspec": {
   "display_name": "Python 3 (ipykernel)",
   "language": "python",
   "name": "python3"
  },
  "language_info": {
   "codemirror_mode": {
    "name": "ipython",
    "version": 3
   },
   "file_extension": ".py",
   "mimetype": "text/x-python",
   "name": "python",
   "nbconvert_exporter": "python",
   "pygments_lexer": "ipython3",
   "version": "3.9.0"
  }
 },
 "nbformat": 4,
 "nbformat_minor": 5
}