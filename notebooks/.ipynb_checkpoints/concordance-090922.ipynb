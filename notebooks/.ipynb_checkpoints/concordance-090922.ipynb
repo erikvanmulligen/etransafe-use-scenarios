{
 "cells": [
  {
   "cell_type": "code",
   "execution_count": 25,
   "metadata": {
    "collapsed": true,
    "pycharm": {
     "name": "#%%\n"
    }
   },
   "outputs": [],
   "source": [
    "import os\n",
    "import sys\n",
    "module_path = os.path.abspath(os.path.join('..'))\n",
    "if module_path not in sys.path:\n",
    "    sys.path.append(module_path)\n",
    "from knowledgehub.api import KnowledgeHubAPI\n",
    "from Concordance.condordance_utils import getClinicalDatabases, getPreclinicalDatabases\n",
    "from Concordance.mapper import Mapper\n",
    "from IPython.display import display\n",
    "import ipywidgets as widgets\n",
    "import Concordance3.settings as settings"
   ]
  },
  {
   "cell_type": "code",
   "execution_count": 26,
   "outputs": [],
   "source": [
    "api = KnowledgeHubAPI(server='DEV', client_secret='3db5a6d7-4694-48a4-8a2e-e9c30d78f9ab')\n",
    "mapper = Mapper(api)"
   ],
   "metadata": {
    "collapsed": false,
    "pycharm": {
     "name": "#%%\n"
    }
   }
  },
  {
   "cell_type": "code",
   "execution_count": 27,
   "outputs": [
    {
     "data": {
      "text/plain": "Button(description='Button', style=ButtonStyle())",
      "application/vnd.jupyter.widget-view+json": {
       "version_major": 2,
       "version_minor": 0,
       "model_id": "50619aa8aa6c4f2b8bdf6f6bf22ec731"
      }
     },
     "metadata": {},
     "output_type": "display_data"
    }
   ],
   "source": [
    "button = widgets.Button(description='Button')\n",
    "\n",
    "def on_button_clicked(_):\n",
    "    print('onclick')\n",
    "\n",
    "button.on_click(on_button_clicked)\n",
    "display(button)"
   ],
   "metadata": {
    "collapsed": false,
    "pycharm": {
     "name": "#%%\n"
    }
   }
  },
  {
   "cell_type": "markdown",
   "source": [
    "Compile a list of drugs that have the same standardized inchi keys"
   ],
   "metadata": {
    "collapsed": false,
    "pycharm": {
     "name": "#%% md\n"
    }
   }
  },
  {
   "cell_type": "code",
   "execution_count": 1,
   "outputs": [
    {
     "ename": "NameError",
     "evalue": "name 'getClinicalDatabases' is not defined",
     "output_type": "error",
     "traceback": [
      "\u001B[0;31m---------------------------------------------------------------------------\u001B[0m",
      "\u001B[0;31mNameError\u001B[0m                                 Traceback (most recent call last)",
      "Input \u001B[0;32mIn [1]\u001B[0m, in \u001B[0;36m<cell line: 1>\u001B[0;34m()\u001B[0m\n\u001B[0;32m----> 1\u001B[0m clinical_pas \u001B[38;5;241m=\u001B[39m \u001B[43mgetClinicalDatabases\u001B[49m(api)\n\u001B[1;32m      2\u001B[0m preclinical_pas \u001B[38;5;241m=\u001B[39m getPreclinicalDatabases(api)\n\u001B[1;32m      4\u001B[0m preclinical_compounds \u001B[38;5;241m=\u001B[39m {}\n",
      "\u001B[0;31mNameError\u001B[0m: name 'getClinicalDatabases' is not defined"
     ]
    }
   ],
   "source": [
    "clinical_pas = getClinicalDatabases(api)\n",
    "preclinical_pas = getPreclinicalDatabases(api)\n",
    "\n",
    "preclinical_compounds = {}\n",
    "for database in settings['preclinical']:\n",
    "    for compound in preclinical_pas[database].getAllCompounds():\n",
    "        inchiKey = compound['inchiKey'] if 'inchiKey' in compound else None\n",
    "        if 'smiles' in compound and compound['smiles'] is not None:\n",
    "            response = api.ChemistryService().paStandardize(compound['smiles'], 'preclinical')\n",
    "            if response is not None and type(response) == tuple:\n",
    "                inchiKey, smiles = response\n",
    "        if inchiKey is not None:\n",
    "            inchi_group = inchiKey[0:14]\n",
    "            if inchi_group not in preclinical_compounds:\n",
    "                compound['standardInchiKey'] = inchiKey\n",
    "                compound['inchiGroup'] = inchi_group\n",
    "                preclinical_compounds[inchi_group] = compound\n",
    "            preclinical_compounds[inchi_group][database] = compound['findingIds']\n"
   ],
   "metadata": {
    "collapsed": false,
    "pycharm": {
     "name": "#%%\n"
    }
   }
  }
 ],
 "metadata": {
  "kernelspec": {
   "display_name": "Python 3",
   "language": "python",
   "name": "python3"
  },
  "language_info": {
   "codemirror_mode": {
    "name": "ipython",
    "version": 2
   },
   "file_extension": ".py",
   "mimetype": "text/x-python",
   "name": "python",
   "nbconvert_exporter": "python",
   "pygments_lexer": "ipython2",
   "version": "2.7.6"
  }
 },
 "nbformat": 4,
 "nbformat_minor": 0
}