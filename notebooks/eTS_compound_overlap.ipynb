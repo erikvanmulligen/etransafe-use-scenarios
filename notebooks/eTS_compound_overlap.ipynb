{
 "cells": [
  {
   "cell_type": "code",
   "execution_count": 1,
   "id": "ddabae95",
   "metadata": {
    "pycharm": {
     "name": "#%%\n"
    }
   },
   "outputs": [],
   "source": [
    "from knowledgehub.api import KnowledgeHubAPI\n",
    "import ipywidgets as w\n",
    "from IPython.display import display, Javascript\n",
    "\n",
    "import pandas as pd\n",
    "\n",
    "from tqdm.notebook import tqdm"
   ]
  },
  {
   "cell_type": "code",
   "execution_count": 2,
   "id": "40136952",
   "metadata": {
    "scrolled": true
   },
   "outputs": [],
   "source": [
    "tqdm.pandas()"
   ]
  },
  {
   "cell_type": "code",
   "execution_count": 3,
   "id": "328302b1",
   "metadata": {},
   "outputs": [],
   "source": [
    "#api = KnowledgeHubAPI(server='TEST', client_secret='39c644b3-1f23-4d94-a71f-e0fb43ebd760')\n",
    "api = KnowledgeHubAPI(server='DEV', client_secret='3db5a6d7-4694-48a4-8a2e-e9c30d78f9ab')"
   ]
  },
  {
   "cell_type": "code",
   "execution_count": 4,
   "id": "24c3a668",
   "metadata": {},
   "outputs": [],
   "source": [
    "def getInchikey(smiles, pa_type):\n",
    "    r = api.ChemistryService().paStandardize(smiles, pa_type)\n",
    "    if r == None:\n",
    "        return None\n",
    "    else:\n",
    "        return r[0]"
   ]
  },
  {
   "cell_type": "markdown",
   "id": "6a74daa5",
   "metadata": {},
   "source": [
    "# 1. Authentication\n",
    "Use eTransafe's authentication service to get access to available services"
   ]
  },
  {
   "cell_type": "code",
   "execution_count": 5,
   "id": "8f78c73e",
   "metadata": {},
   "outputs": [
    {
     "data": {
      "application/vnd.jupyter.widget-view+json": {
       "model_id": "786c6ed1f99847149db024898816014e",
       "version_major": 2,
       "version_minor": 0
      },
      "text/plain": [
       "VBox(children=(Text(value='tester', description='username:', placeholder='Knowledge Hub account'), Password(de…"
      ]
     },
     "metadata": {},
     "output_type": "display_data"
    },
    {
     "name": "stdout",
     "output_type": "stream",
     "text": [
      "successfully logged in\n"
     ]
    },
    {
     "data": {
      "application/javascript": [
       "IPython.notebook.execute_cell_range(IPython.notebook.get_selected_index()+1, IPython.notebook.get_selected_index()+2)"
      ],
      "text/plain": [
       "<IPython.core.display.Javascript object>"
      ]
     },
     "metadata": {},
     "output_type": "display_data"
    }
   ],
   "source": [
    "username = w.Text(value='tester',placeholder='Knowledge Hub account', description='username:', disabled=False)\n",
    "password = w.Password(value='', placeholder='Knowledge Hub password', description='password:', disabled=False)\n",
    "loginBtn = w.Button(description='Login')\n",
    "status = w.Output()\n",
    "\n",
    "def on_button_clicked(_):\n",
    "    if api.login(username.value, password.value) == False:\n",
    "        print(\"Failed to login\")\n",
    "    else:\n",
    "        print(\"successfully logged in\")\n",
    "        display(Javascript('IPython.notebook.execute_cell_range(IPython.notebook.get_selected_index()+1, IPython.notebook.get_selected_index()+2)'))\n",
    "\n",
    "loginBtn.on_click(on_button_clicked)\n",
    "w.VBox([username, password, loginBtn])"
   ]
  },
  {
   "cell_type": "markdown",
   "id": "cb76dc59",
   "metadata": {},
   "source": [
    "# 2. Get all preclinical compounds "
   ]
  },
  {
   "cell_type": "code",
   "execution_count": 6,
   "id": "6e169d46",
   "metadata": {
    "scrolled": true
   },
   "outputs": [
    {
     "name": "stdout",
     "output_type": "stream",
     "text": [
      "retrieving 0 of 1371 compounds\n",
      "retrieving 1000 of 1371 compounds\n",
      "retrieving 0 of 40 compounds\n"
     ]
    }
   ],
   "source": [
    "preclinical_cpds = api.eToxSys().getAllCompounds() + api.PreclinicalDb().getAllCompounds()"
   ]
  },
  {
   "cell_type": "code",
   "execution_count": 7,
   "id": "256938ff",
   "metadata": {},
   "outputs": [],
   "source": [
    "df_preclinical = pd.DataFrame(preclinical_cpds)"
   ]
  },
  {
   "cell_type": "raw",
   "id": "78980251",
   "metadata": {},
   "source": [
    "api.ChemistryService().paStandardize('imatinib', 'clinical')"
   ]
  },
  {
   "cell_type": "raw",
   "id": "08846d63",
   "metadata": {},
   "source": [
    "api.ChemistryService().getCompoundByName('imatinib')"
   ]
  },
  {
   "cell_type": "code",
   "execution_count": 8,
   "id": "125205c5",
   "metadata": {},
   "outputs": [],
   "source": [
    "df_preclinical['name'] = df_preclinical['name'].str.lower()"
   ]
  },
  {
   "cell_type": "code",
   "execution_count": 9,
   "id": "408fcf69",
   "metadata": {},
   "outputs": [
    {
     "data": {
      "text/plain": [
       "(32, 13)"
      ]
     },
     "execution_count": 9,
     "metadata": {},
     "output_type": "execute_result"
    }
   ],
   "source": [
    "df_preclinical[(~df_preclinical.name.isnull())&(df_preclinical.name.str.contains('-'))].shape"
   ]
  },
  {
   "cell_type": "code",
   "execution_count": 10,
   "id": "f37cf742",
   "metadata": {},
   "outputs": [
    {
     "data": {
      "text/plain": [
       "(446, 13)"
      ]
     },
     "execution_count": 10,
     "metadata": {},
     "output_type": "execute_result"
    }
   ],
   "source": [
    "df_preclinical[(~df_preclinical.name.isnull())].shape"
   ]
  },
  {
   "cell_type": "code",
   "execution_count": 11,
   "id": "d658f2f7",
   "metadata": {
    "scrolled": true
   },
   "outputs": [
    {
     "data": {
      "text/html": [
       "<div>\n",
       "<style scoped>\n",
       "    .dataframe tbody tr th:only-of-type {\n",
       "        vertical-align: middle;\n",
       "    }\n",
       "\n",
       "    .dataframe tbody tr th {\n",
       "        vertical-align: top;\n",
       "    }\n",
       "\n",
       "    .dataframe thead th {\n",
       "        text-align: right;\n",
       "    }\n",
       "</style>\n",
       "<table border=\"1\" class=\"dataframe\">\n",
       "  <thead>\n",
       "    <tr style=\"text-align: right;\">\n",
       "      <th></th>\n",
       "      <th>id</th>\n",
       "      <th>additionalProperties</th>\n",
       "      <th>organisation</th>\n",
       "      <th>confidentiality</th>\n",
       "      <th>compoundIdentifier</th>\n",
       "      <th>name</th>\n",
       "      <th>inchi</th>\n",
       "      <th>inchiKey</th>\n",
       "      <th>smiles</th>\n",
       "      <th>studyIds</th>\n",
       "      <th>findingIds</th>\n",
       "      <th>createdDate</th>\n",
       "      <th>modifiedDate</th>\n",
       "    </tr>\n",
       "  </thead>\n",
       "  <tbody>\n",
       "    <tr>\n",
       "      <th>0</th>\n",
       "      <td>1</td>\n",
       "      <td>[]</td>\n",
       "      <td>Esteve</td>\n",
       "      <td>FULLY_SHAREABLE</td>\n",
       "      <td>E-5746DIMALEATE</td>\n",
       "      <td>None</td>\n",
       "      <td>InChI=1S/C22H32N6O/c1-2-29-19-18-28-21-9-4-3-8...</td>\n",
       "      <td>MSDGIWOGYAWOGX-UHFFFAOYSA-N</td>\n",
       "      <td>CCOCCn1c(nc2ccccc12)N1CCCN(CCCn2cccn2)CC1</td>\n",
       "      <td>[1, 2]</td>\n",
       "      <td>[1, 2, 3, 4, 5, 6, 7, 8, 9, 10, 11, 12, 13, 14...</td>\n",
       "      <td>2012-02-21T13:10:15.000Z</td>\n",
       "      <td>2016-10-19T14:28:56.000Z</td>\n",
       "    </tr>\n",
       "  </tbody>\n",
       "</table>\n",
       "</div>"
      ],
      "text/plain": [
       "   id additionalProperties organisation  confidentiality compoundIdentifier  \\\n",
       "0   1                   []       Esteve  FULLY_SHAREABLE    E-5746DIMALEATE   \n",
       "\n",
       "   name                                              inchi  \\\n",
       "0  None  InChI=1S/C22H32N6O/c1-2-29-19-18-28-21-9-4-3-8...   \n",
       "\n",
       "                      inchiKey                                     smiles  \\\n",
       "0  MSDGIWOGYAWOGX-UHFFFAOYSA-N  CCOCCn1c(nc2ccccc12)N1CCCN(CCCn2cccn2)CC1   \n",
       "\n",
       "  studyIds                                         findingIds  \\\n",
       "0   [1, 2]  [1, 2, 3, 4, 5, 6, 7, 8, 9, 10, 11, 12, 13, 14...   \n",
       "\n",
       "                createdDate              modifiedDate  \n",
       "0  2012-02-21T13:10:15.000Z  2016-10-19T14:28:56.000Z  "
      ]
     },
     "execution_count": 11,
     "metadata": {},
     "output_type": "execute_result"
    }
   ],
   "source": [
    "df_preclinical.head(1)"
   ]
  },
  {
   "cell_type": "code",
   "execution_count": 12,
   "id": "400ef5e8",
   "metadata": {
    "scrolled": true
   },
   "outputs": [
    {
     "data": {
      "application/vnd.jupyter.widget-view+json": {
       "model_id": "19e3fcba58c24a2f8d75fa419f865690",
       "version_major": 2,
       "version_minor": 0
      },
      "text/plain": [
       "  0%|          | 0/1411 [00:00<?, ?it/s]"
      ]
     },
     "metadata": {},
     "output_type": "display_data"
    },
    {
     "name": "stdout",
     "output_type": "stream",
     "text": [
      "Cannot retrieve compoundIds from endpoint https://dev.toxhub.etransafe.eu/chemistryservice.kh.svc/v1/: 500\n",
      "Cannot retrieve compoundIds from endpoint https://dev.toxhub.etransafe.eu/chemistryservice.kh.svc/v1/: 500\n",
      "Cannot retrieve compoundIds from endpoint https://dev.toxhub.etransafe.eu/chemistryservice.kh.svc/v1/: 500\n",
      "Cannot retrieve compoundIds from endpoint https://dev.toxhub.etransafe.eu/chemistryservice.kh.svc/v1/: 500\n",
      "Cannot retrieve compoundIds from endpoint https://dev.toxhub.etransafe.eu/chemistryservice.kh.svc/v1/: 500\n",
      "Cannot retrieve compoundIds from endpoint https://dev.toxhub.etransafe.eu/chemistryservice.kh.svc/v1/: 500\n",
      "Cannot retrieve compoundIds from endpoint https://dev.toxhub.etransafe.eu/chemistryservice.kh.svc/v1/: 500\n",
      "Cannot retrieve compoundIds from endpoint https://dev.toxhub.etransafe.eu/chemistryservice.kh.svc/v1/: 500\n",
      "Cannot retrieve compoundIds from endpoint https://dev.toxhub.etransafe.eu/chemistryservice.kh.svc/v1/: 500\n",
      "Cannot retrieve compoundIds from endpoint https://dev.toxhub.etransafe.eu/chemistryservice.kh.svc/v1/: 500\n",
      "Cannot retrieve compoundIds from endpoint https://dev.toxhub.etransafe.eu/chemistryservice.kh.svc/v1/: 500\n",
      "Cannot retrieve compoundIds from endpoint https://dev.toxhub.etransafe.eu/chemistryservice.kh.svc/v1/: 500\n",
      "Cannot retrieve compoundIds from endpoint https://dev.toxhub.etransafe.eu/chemistryservice.kh.svc/v1/: 500\n",
      "Cannot retrieve compoundIds from endpoint https://dev.toxhub.etransafe.eu/chemistryservice.kh.svc/v1/: 500\n",
      "Cannot retrieve compoundIds from endpoint https://dev.toxhub.etransafe.eu/chemistryservice.kh.svc/v1/: 500\n",
      "Cannot retrieve compoundIds from endpoint https://dev.toxhub.etransafe.eu/chemistryservice.kh.svc/v1/: 500\n",
      "Cannot retrieve compoundIds from endpoint https://dev.toxhub.etransafe.eu/chemistryservice.kh.svc/v1/: 500\n",
      "Cannot retrieve compoundIds from endpoint https://dev.toxhub.etransafe.eu/chemistryservice.kh.svc/v1/: 500\n",
      "Cannot retrieve compoundIds from endpoint https://dev.toxhub.etransafe.eu/chemistryservice.kh.svc/v1/: 500\n",
      "Cannot retrieve compoundIds from endpoint https://dev.toxhub.etransafe.eu/chemistryservice.kh.svc/v1/: 500\n"
     ]
    }
   ],
   "source": [
    "df_preclinical['pa_inchikey'] =  df_preclinical.progress_apply(lambda x: getInchikey(x['smiles'], 'preclinical'), axis=1)"
   ]
  },
  {
   "cell_type": "code",
   "execution_count": 13,
   "id": "d7cd7f11",
   "metadata": {},
   "outputs": [
    {
     "data": {
      "text/html": [
       "<div>\n",
       "<style scoped>\n",
       "    .dataframe tbody tr th:only-of-type {\n",
       "        vertical-align: middle;\n",
       "    }\n",
       "\n",
       "    .dataframe tbody tr th {\n",
       "        vertical-align: top;\n",
       "    }\n",
       "\n",
       "    .dataframe thead th {\n",
       "        text-align: right;\n",
       "    }\n",
       "</style>\n",
       "<table border=\"1\" class=\"dataframe\">\n",
       "  <thead>\n",
       "    <tr style=\"text-align: right;\">\n",
       "      <th></th>\n",
       "      <th>id</th>\n",
       "      <th>additionalProperties</th>\n",
       "      <th>organisation</th>\n",
       "      <th>confidentiality</th>\n",
       "      <th>compoundIdentifier</th>\n",
       "      <th>name</th>\n",
       "      <th>inchi</th>\n",
       "      <th>inchiKey</th>\n",
       "      <th>smiles</th>\n",
       "      <th>studyIds</th>\n",
       "      <th>findingIds</th>\n",
       "      <th>createdDate</th>\n",
       "      <th>modifiedDate</th>\n",
       "      <th>pa_inchikey</th>\n",
       "    </tr>\n",
       "  </thead>\n",
       "  <tbody>\n",
       "    <tr>\n",
       "      <th>0</th>\n",
       "      <td>1</td>\n",
       "      <td>[]</td>\n",
       "      <td>Esteve</td>\n",
       "      <td>FULLY_SHAREABLE</td>\n",
       "      <td>E-5746DIMALEATE</td>\n",
       "      <td>None</td>\n",
       "      <td>InChI=1S/C22H32N6O/c1-2-29-19-18-28-21-9-4-3-8...</td>\n",
       "      <td>MSDGIWOGYAWOGX-UHFFFAOYSA-N</td>\n",
       "      <td>CCOCCn1c(nc2ccccc12)N1CCCN(CCCn2cccn2)CC1</td>\n",
       "      <td>[1, 2]</td>\n",
       "      <td>[1, 2, 3, 4, 5, 6, 7, 8, 9, 10, 11, 12, 13, 14...</td>\n",
       "      <td>2012-02-21T13:10:15.000Z</td>\n",
       "      <td>2016-10-19T14:28:56.000Z</td>\n",
       "      <td>MSDGIWOGYAWOGX-UHFFFAOYSA-N</td>\n",
       "    </tr>\n",
       "  </tbody>\n",
       "</table>\n",
       "</div>"
      ],
      "text/plain": [
       "   id additionalProperties organisation  confidentiality compoundIdentifier  \\\n",
       "0   1                   []       Esteve  FULLY_SHAREABLE    E-5746DIMALEATE   \n",
       "\n",
       "   name                                              inchi  \\\n",
       "0  None  InChI=1S/C22H32N6O/c1-2-29-19-18-28-21-9-4-3-8...   \n",
       "\n",
       "                      inchiKey                                     smiles  \\\n",
       "0  MSDGIWOGYAWOGX-UHFFFAOYSA-N  CCOCCn1c(nc2ccccc12)N1CCCN(CCCn2cccn2)CC1   \n",
       "\n",
       "  studyIds                                         findingIds  \\\n",
       "0   [1, 2]  [1, 2, 3, 4, 5, 6, 7, 8, 9, 10, 11, 12, 13, 14...   \n",
       "\n",
       "                createdDate              modifiedDate  \\\n",
       "0  2012-02-21T13:10:15.000Z  2016-10-19T14:28:56.000Z   \n",
       "\n",
       "                   pa_inchikey  \n",
       "0  MSDGIWOGYAWOGX-UHFFFAOYSA-N  "
      ]
     },
     "execution_count": 13,
     "metadata": {},
     "output_type": "execute_result"
    }
   ],
   "source": [
    "df_preclinical.head(1)"
   ]
  },
  {
   "cell_type": "raw",
   "id": "480ebebf",
   "metadata": {},
   "source": [
    "df_preclinical[df_preclinical.standard_inchikey != df_preclinical.pa_inchikey].shape"
   ]
  },
  {
   "cell_type": "code",
   "execution_count": 14,
   "id": "28ce8879",
   "metadata": {},
   "outputs": [],
   "source": [
    "df_preclinical_inchi = df_preclinical[~df_preclinical.pa_inchikey.isnull()]"
   ]
  },
  {
   "cell_type": "code",
   "execution_count": 15,
   "id": "e1bc2cde",
   "metadata": {},
   "outputs": [
    {
     "data": {
      "text/plain": [
       "BMPDWHIDQYTSHX-UHFFFAOYSA-N    3\n",
       "JZCPYUJPEARBJL-UHFFFAOYSA-N    3\n",
       "FWUQWDCOOWEXRY-ZDUSSCGKSA-N    3\n",
       "BOFQWVMAQOTZIW-UHFFFAOYSA-N    2\n",
       "NVWCZRPXYVDQEE-UHFFFAOYSA-N    2\n",
       "                              ..\n",
       "PXDNXJSDGQBLKS-UHFFFAOYSA-N    1\n",
       "GEVVHUGVIJRPPF-UHFFFAOYSA-N    1\n",
       "CAOBQTXBFNZHDA-XDHUDOTRSA-N    1\n",
       "HYNBNUYQTQIHJK-UHFFFAOYSA-N    1\n",
       "MMBJQNHQQHDAKU-UHFFFAOYSA-N    1\n",
       "Name: pa_inchikey, Length: 1336, dtype: int64"
      ]
     },
     "execution_count": 15,
     "metadata": {},
     "output_type": "execute_result"
    }
   ],
   "source": [
    "df_preclinical_inchi.pa_inchikey.value_counts()"
   ]
  },
  {
   "cell_type": "code",
   "execution_count": 16,
   "id": "f319708b",
   "metadata": {},
   "outputs": [
    {
     "data": {
      "text/html": [
       "<div>\n",
       "<style scoped>\n",
       "    .dataframe tbody tr th:only-of-type {\n",
       "        vertical-align: middle;\n",
       "    }\n",
       "\n",
       "    .dataframe tbody tr th {\n",
       "        vertical-align: top;\n",
       "    }\n",
       "\n",
       "    .dataframe thead th {\n",
       "        text-align: right;\n",
       "    }\n",
       "</style>\n",
       "<table border=\"1\" class=\"dataframe\">\n",
       "  <thead>\n",
       "    <tr style=\"text-align: right;\">\n",
       "      <th></th>\n",
       "      <th>id</th>\n",
       "      <th>additionalProperties</th>\n",
       "      <th>organisation</th>\n",
       "      <th>confidentiality</th>\n",
       "      <th>compoundIdentifier</th>\n",
       "      <th>name</th>\n",
       "      <th>inchi</th>\n",
       "      <th>inchiKey</th>\n",
       "      <th>smiles</th>\n",
       "      <th>studyIds</th>\n",
       "      <th>findingIds</th>\n",
       "      <th>createdDate</th>\n",
       "      <th>modifiedDate</th>\n",
       "      <th>pa_inchikey</th>\n",
       "    </tr>\n",
       "  </thead>\n",
       "  <tbody>\n",
       "    <tr>\n",
       "      <th>389</th>\n",
       "      <td>390</td>\n",
       "      <td>[]</td>\n",
       "      <td>AstraZeneca</td>\n",
       "      <td>FULLY_SHAREABLE</td>\n",
       "      <td>AZ_GGA_200011001</td>\n",
       "      <td>None</td>\n",
       "      <td>InChI=1S/C13H14N2/c14-13(11-6-2-1-3-7-11)10-12...</td>\n",
       "      <td>FWUQWDCOOWEXRY-ZDUSSCGKSA-N</td>\n",
       "      <td>N[C@@H](Cc1ccccn1)c1ccccc1</td>\n",
       "      <td>[2705, 2706, 2707, 2708, 2709]</td>\n",
       "      <td>[581465, 581466, 581467, 581468, 581469, 58147...</td>\n",
       "      <td>2013-09-24T12:17:36.000Z</td>\n",
       "      <td>2016-10-19T14:29:15.000Z</td>\n",
       "      <td>FWUQWDCOOWEXRY-ZDUSSCGKSA-N</td>\n",
       "    </tr>\n",
       "    <tr>\n",
       "      <th>609</th>\n",
       "      <td>610</td>\n",
       "      <td>[]</td>\n",
       "      <td>AstraZeneca</td>\n",
       "      <td>FULLY_SHAREABLE</td>\n",
       "      <td>AZ_GGA_229584209</td>\n",
       "      <td>None</td>\n",
       "      <td>InChI=1S/C13H14N2.2ClH/c14-13(11-6-2-1-3-7-11)...</td>\n",
       "      <td>KHJHFYAGQZYCLC-GXKRWWSZSA-N</td>\n",
       "      <td>Cl.Cl.N[C@@H](Cc1ccccn1)c1ccccc1</td>\n",
       "      <td>[3945, 3946, 3947, 3948, 3949, 3950]</td>\n",
       "      <td>[816875, 816876, 816877, 816878, 816879, 81688...</td>\n",
       "      <td>2014-02-19T15:14:17.000Z</td>\n",
       "      <td>2016-10-19T14:29:23.000Z</td>\n",
       "      <td>FWUQWDCOOWEXRY-ZDUSSCGKSA-N</td>\n",
       "    </tr>\n",
       "    <tr>\n",
       "      <th>881</th>\n",
       "      <td>882</td>\n",
       "      <td>[]</td>\n",
       "      <td>AstraZeneca</td>\n",
       "      <td>FULLY_SHAREABLE</td>\n",
       "      <td>AZ_GGA_202187213</td>\n",
       "      <td>None</td>\n",
       "      <td>InChI=1S/C13H14N2/c14-13(11-6-2-1-3-7-11)10-12...</td>\n",
       "      <td>FWUQWDCOOWEXRY-ZDUSSCGKSA-N</td>\n",
       "      <td>N[C@@H](Cc1ccccn1)c1ccccc1</td>\n",
       "      <td>[4827, 4828, 4829]</td>\n",
       "      <td>[947947, 947948, 947949, 947950, 947951, 94795...</td>\n",
       "      <td>2014-09-10T10:13:25.000Z</td>\n",
       "      <td>2016-10-19T14:29:31.000Z</td>\n",
       "      <td>FWUQWDCOOWEXRY-ZDUSSCGKSA-N</td>\n",
       "    </tr>\n",
       "  </tbody>\n",
       "</table>\n",
       "</div>"
      ],
      "text/plain": [
       "      id additionalProperties organisation  confidentiality  \\\n",
       "389  390                   []  AstraZeneca  FULLY_SHAREABLE   \n",
       "609  610                   []  AstraZeneca  FULLY_SHAREABLE   \n",
       "881  882                   []  AstraZeneca  FULLY_SHAREABLE   \n",
       "\n",
       "    compoundIdentifier  name  \\\n",
       "389   AZ_GGA_200011001  None   \n",
       "609   AZ_GGA_229584209  None   \n",
       "881   AZ_GGA_202187213  None   \n",
       "\n",
       "                                                 inchi  \\\n",
       "389  InChI=1S/C13H14N2/c14-13(11-6-2-1-3-7-11)10-12...   \n",
       "609  InChI=1S/C13H14N2.2ClH/c14-13(11-6-2-1-3-7-11)...   \n",
       "881  InChI=1S/C13H14N2/c14-13(11-6-2-1-3-7-11)10-12...   \n",
       "\n",
       "                        inchiKey                            smiles  \\\n",
       "389  FWUQWDCOOWEXRY-ZDUSSCGKSA-N        N[C@@H](Cc1ccccn1)c1ccccc1   \n",
       "609  KHJHFYAGQZYCLC-GXKRWWSZSA-N  Cl.Cl.N[C@@H](Cc1ccccn1)c1ccccc1   \n",
       "881  FWUQWDCOOWEXRY-ZDUSSCGKSA-N        N[C@@H](Cc1ccccn1)c1ccccc1   \n",
       "\n",
       "                                 studyIds  \\\n",
       "389        [2705, 2706, 2707, 2708, 2709]   \n",
       "609  [3945, 3946, 3947, 3948, 3949, 3950]   \n",
       "881                    [4827, 4828, 4829]   \n",
       "\n",
       "                                            findingIds  \\\n",
       "389  [581465, 581466, 581467, 581468, 581469, 58147...   \n",
       "609  [816875, 816876, 816877, 816878, 816879, 81688...   \n",
       "881  [947947, 947948, 947949, 947950, 947951, 94795...   \n",
       "\n",
       "                  createdDate              modifiedDate  \\\n",
       "389  2013-09-24T12:17:36.000Z  2016-10-19T14:29:15.000Z   \n",
       "609  2014-02-19T15:14:17.000Z  2016-10-19T14:29:23.000Z   \n",
       "881  2014-09-10T10:13:25.000Z  2016-10-19T14:29:31.000Z   \n",
       "\n",
       "                     pa_inchikey  \n",
       "389  FWUQWDCOOWEXRY-ZDUSSCGKSA-N  \n",
       "609  FWUQWDCOOWEXRY-ZDUSSCGKSA-N  \n",
       "881  FWUQWDCOOWEXRY-ZDUSSCGKSA-N  "
      ]
     },
     "execution_count": 16,
     "metadata": {},
     "output_type": "execute_result"
    }
   ],
   "source": [
    "df_preclinical_inchi[df_preclinical_inchi.pa_inchikey=='FWUQWDCOOWEXRY-ZDUSSCGKSA-N']"
   ]
  },
  {
   "cell_type": "markdown",
   "id": "fcf5638e",
   "metadata": {},
   "source": [
    "# 3. Get all clinical compounds"
   ]
  },
  {
   "cell_type": "code",
   "execution_count": 18,
   "id": "8377467e",
   "metadata": {},
   "outputs": [
    {
     "ename": "ValueError",
     "evalue": "invalid literal for int() with base 10: ''",
     "output_type": "error",
     "traceback": [
      "\u001B[0;31m---------------------------------------------------------------------------\u001B[0m",
      "\u001B[0;31mValueError\u001B[0m                                Traceback (most recent call last)",
      "\u001B[0;32m<ipython-input-18-cbdb9418dbba>\u001B[0m in \u001B[0;36m<module>\u001B[0;34m\u001B[0m\n\u001B[0;32m----> 1\u001B[0;31m \u001B[0mclinical_cpds\u001B[0m \u001B[0;34m=\u001B[0m \u001B[0mapi\u001B[0m\u001B[0;34m.\u001B[0m\u001B[0mFaers\u001B[0m\u001B[0;34m(\u001B[0m\u001B[0;34m)\u001B[0m\u001B[0;34m.\u001B[0m\u001B[0mgetAllCompounds\u001B[0m\u001B[0;34m(\u001B[0m\u001B[0;34m)\u001B[0m \u001B[0;34m+\u001B[0m \u001B[0mapi\u001B[0m\u001B[0;34m.\u001B[0m\u001B[0mClinicalTrials\u001B[0m\u001B[0;34m(\u001B[0m\u001B[0;34m)\u001B[0m\u001B[0;34m.\u001B[0m\u001B[0mgetAllCompounds\u001B[0m\u001B[0;34m(\u001B[0m\u001B[0;34m)\u001B[0m \u001B[0;34m+\u001B[0m \u001B[0mapi\u001B[0m\u001B[0;34m.\u001B[0m\u001B[0mMedline\u001B[0m\u001B[0;34m(\u001B[0m\u001B[0;34m)\u001B[0m\u001B[0;34m.\u001B[0m\u001B[0mgetAllCompounds\u001B[0m\u001B[0;34m(\u001B[0m\u001B[0;34m)\u001B[0m \u001B[0;34m+\u001B[0m \u001B[0mapi\u001B[0m\u001B[0;34m.\u001B[0m\u001B[0mDailyMed\u001B[0m\u001B[0;34m(\u001B[0m\u001B[0;34m)\u001B[0m\u001B[0;34m.\u001B[0m\u001B[0mgetAllCompounds\u001B[0m\u001B[0;34m(\u001B[0m\u001B[0;34m)\u001B[0m\u001B[0;34m\u001B[0m\u001B[0;34m\u001B[0m\u001B[0m\n\u001B[0m",
      "\u001B[0;32m~/opt/anaconda3/envs/kh/lib/python3.7/site-packages/knowledgehub/primitiveadapter.py\u001B[0m in \u001B[0;36mgetAllCompounds\u001B[0;34m(self, maximum)\u001B[0m\n\u001B[1;32m     92\u001B[0m \u001B[0;34m\u001B[0m\u001B[0m\n\u001B[1;32m     93\u001B[0m         \u001B[0mr\u001B[0m \u001B[0;34m=\u001B[0m \u001B[0mrequests\u001B[0m\u001B[0;34m.\u001B[0m\u001B[0mget\u001B[0m\u001B[0;34m(\u001B[0m\u001B[0mself\u001B[0m\u001B[0;34m.\u001B[0m\u001B[0mendpoint\u001B[0m \u001B[0;34m+\u001B[0m \u001B[0;34m'count'\u001B[0m\u001B[0;34m,\u001B[0m \u001B[0mverify\u001B[0m\u001B[0;34m=\u001B[0m\u001B[0;32mFalse\u001B[0m\u001B[0;34m,\u001B[0m \u001B[0mparams\u001B[0m\u001B[0;34m=\u001B[0m\u001B[0;34m{\u001B[0m\u001B[0;34m'dataClassKey'\u001B[0m\u001B[0;34m:\u001B[0m \u001B[0;34m'COMPOUND'\u001B[0m\u001B[0;34m}\u001B[0m\u001B[0;34m,\u001B[0m \u001B[0mheaders\u001B[0m\u001B[0;34m=\u001B[0m\u001B[0;34m{\u001B[0m\u001B[0;34m\"Authorization\"\u001B[0m\u001B[0;34m:\u001B[0m \u001B[0;34mf\"Bearer {self.get_token()}\"\u001B[0m\u001B[0;34m}\u001B[0m\u001B[0;34m)\u001B[0m\u001B[0;34m\u001B[0m\u001B[0;34m\u001B[0m\u001B[0m\n\u001B[0;32m---> 94\u001B[0;31m         \u001B[0mlimit\u001B[0m \u001B[0;34m=\u001B[0m \u001B[0mmaximum\u001B[0m \u001B[0;32mif\u001B[0m \u001B[0mmaximum\u001B[0m \u001B[0;32mis\u001B[0m \u001B[0;32mnot\u001B[0m \u001B[0;32mNone\u001B[0m \u001B[0;32melse\u001B[0m \u001B[0mint\u001B[0m\u001B[0;34m(\u001B[0m\u001B[0mr\u001B[0m\u001B[0;34m.\u001B[0m\u001B[0mtext\u001B[0m\u001B[0;34m)\u001B[0m\u001B[0;34m\u001B[0m\u001B[0;34m\u001B[0m\u001B[0m\n\u001B[0m\u001B[1;32m     95\u001B[0m         \u001B[0msize\u001B[0m \u001B[0;34m=\u001B[0m \u001B[0mmin\u001B[0m\u001B[0;34m(\u001B[0m\u001B[0mlimit\u001B[0m\u001B[0;34m,\u001B[0m \u001B[0;36m1000\u001B[0m\u001B[0;34m)\u001B[0m\u001B[0;34m\u001B[0m\u001B[0;34m\u001B[0m\u001B[0m\n\u001B[1;32m     96\u001B[0m         \u001B[0;32mif\u001B[0m \u001B[0mr\u001B[0m\u001B[0;34m.\u001B[0m\u001B[0mstatus_code\u001B[0m \u001B[0;34m==\u001B[0m \u001B[0;36m200\u001B[0m\u001B[0;34m:\u001B[0m\u001B[0;34m\u001B[0m\u001B[0;34m\u001B[0m\u001B[0m\n",
      "\u001B[0;31mValueError\u001B[0m: invalid literal for int() with base 10: ''"
     ]
    }
   ],
   "source": [
    "clinical_cpds = api.Faers().getAllCompounds() + api.ClinicalTrials().getAllCompounds() + api.Medline().getAllCompounds() + api.DailyMed().getAllCompounds()"
   ]
  },
  {
   "cell_type": "code",
   "execution_count": 33,
   "id": "1805f6f9",
   "metadata": {},
   "outputs": [],
   "source": [
    "df_clinical = pd.DataFrame(clinical_cpds)"
   ]
  },
  {
   "cell_type": "code",
   "execution_count": 34,
   "id": "a1d473b7",
   "metadata": {},
   "outputs": [],
   "source": [
    "df_clinical = df_clinical.drop_duplicates(['compoundIdentifier'])[['compoundIdentifier','name']]"
   ]
  },
  {
   "cell_type": "code",
   "execution_count": 35,
   "id": "5168b6f2",
   "metadata": {},
   "outputs": [
    {
     "data": {
      "text/plain": [
       "5355"
      ]
     },
     "execution_count": 35,
     "metadata": {},
     "output_type": "execute_result"
    }
   ],
   "source": [
    "df_clinical.compoundIdentifier.nunique()"
   ]
  },
  {
   "cell_type": "raw",
   "id": "eb9e0def",
   "metadata": {},
   "source": [
    "df_clinical[df_clinical.smiles.isnull()]['compoundIdentifier'].nunique()"
   ]
  },
  {
   "cell_type": "code",
   "execution_count": 36,
   "id": "0765169c",
   "metadata": {
    "scrolled": true
   },
   "outputs": [
    {
     "data": {
      "application/vnd.jupyter.widget-view+json": {
       "model_id": "1e5e8803be1944ba8bebdfc17c0bbbde",
       "version_major": 2,
       "version_minor": 0
      },
      "text/plain": [
       "HBox(children=(FloatProgress(value=0.0, max=5355.0), HTML(value='')))"
      ]
     },
     "metadata": {},
     "output_type": "display_data"
    },
    {
     "name": "stdout",
     "output_type": "stream",
     "text": [
      "\n"
     ]
    }
   ],
   "source": [
    "df_clinical['pa_inchikey'] =  df_clinical.progress_apply(lambda x: getInchikey(x['name'], 'clinical'), axis=1)"
   ]
  },
  {
   "cell_type": "markdown",
   "id": "e14cbfa5",
   "metadata": {},
   "source": [
    "#### No inchikey returned by pa_standardize "
   ]
  },
  {
   "cell_type": "code",
   "execution_count": 54,
   "id": "49816c8d",
   "metadata": {},
   "outputs": [],
   "source": [
    "# ignore rows where a message was returned insead of an inchikey or when nothing was returned\n",
    "# standard inchi keys are 27 long so it's handy to use this as a filter\n",
    "df_clinical_no_inchi = df_clinical[(df_clinical.pa_inchikey.str.len()!=27)]"
   ]
  },
  {
   "cell_type": "code",
   "execution_count": 55,
   "id": "d7445061",
   "metadata": {},
   "outputs": [
    {
     "data": {
      "text/plain": [
       "(2506, 3)"
      ]
     },
     "execution_count": 55,
     "metadata": {},
     "output_type": "execute_result"
    }
   ],
   "source": [
    "df_clinical_no_inchi.shape"
   ]
  },
  {
   "cell_type": "code",
   "execution_count": 39,
   "id": "b122d838",
   "metadata": {},
   "outputs": [
    {
     "data": {
      "text/plain": [
       "U    122\n",
       "A    107\n",
       "P     69\n",
       "M     69\n",
       "S     58\n",
       "E     39\n",
       "O     25\n",
       "G      5\n",
       "C      3\n",
       "Name: pa_inchikey, dtype: int64"
      ]
     },
     "execution_count": 39,
     "metadata": {},
     "output_type": "execute_result"
    }
   ],
   "source": [
    "df_clinical_no_inchi.pa_inchikey.value_counts()"
   ]
  },
  {
   "cell_type": "code",
   "execution_count": 56,
   "id": "d38fbb83",
   "metadata": {},
   "outputs": [],
   "source": [
    "df_clinical_inchi = df_clinical[~df_clinical.compoundIdentifier.isin(df_clinical_no_inchi.compoundIdentifier)]"
   ]
  },
  {
   "cell_type": "code",
   "execution_count": 57,
   "id": "f274705c",
   "metadata": {},
   "outputs": [
    {
     "data": {
      "text/plain": [
       "(2849, 3)"
      ]
     },
     "execution_count": 57,
     "metadata": {},
     "output_type": "execute_result"
    }
   ],
   "source": [
    "df_clinical_inchi.shape"
   ]
  },
  {
   "cell_type": "code",
   "execution_count": 58,
   "id": "e9b4ed72",
   "metadata": {},
   "outputs": [
    {
     "data": {
      "text/plain": [
       "2765"
      ]
     },
     "execution_count": 58,
     "metadata": {},
     "output_type": "execute_result"
    }
   ],
   "source": [
    "df_clinical_inchi.pa_inchikey.nunique()"
   ]
  },
  {
   "cell_type": "code",
   "execution_count": 59,
   "id": "aa5c22c2",
   "metadata": {},
   "outputs": [
    {
     "data": {
      "text/plain": [
       "IKQCSJBQLWJEPU-UHFFFAOYSA-N    3\n",
       "SNICXCGAKADSCV-JTQLQIEISA-N    3\n",
       "ZFXYFBGIUFBOJW-UHFFFAOYSA-N    3\n",
       "ULGZDMOVFRHVEP-RWJQBGPGSA-N    3\n",
       "QYSXJUFSXHHAJI-YRZJJWOYSA-N    3\n",
       "                              ..\n",
       "CUHVIMMYOGQXCV-UHFFFAOYSA-N    1\n",
       "VOKSWYLNZZRQPF-UHFFFAOYSA-N    1\n",
       "WQZGKKKJIJFFOK-PHYPRBDBSA-N    1\n",
       "AOJJSUZBOXZQNB-VTZDEGQISA-N    1\n",
       "YLMGFJXSLBMXHK-UHFFFAOYSA-M    1\n",
       "Name: pa_inchikey, Length: 2765, dtype: int64"
      ]
     },
     "execution_count": 59,
     "metadata": {},
     "output_type": "execute_result"
    }
   ],
   "source": [
    "# some compounds get the same inchikey due to the rules applied by the chemistry service. That's okay!\n",
    "df_clinical_inchi['pa_inchikey'].value_counts()"
   ]
  },
  {
   "cell_type": "markdown",
   "id": "4b86b367",
   "metadata": {},
   "source": [
    "# 4. Merge preclinical and clinical compounds"
   ]
  },
  {
   "cell_type": "markdown",
   "id": "d7d26782",
   "metadata": {},
   "source": [
    "#### using preclinical inchikey returned by pa_standardize "
   ]
  },
  {
   "cell_type": "code",
   "execution_count": 60,
   "id": "a82208f7",
   "metadata": {},
   "outputs": [
    {
     "data": {
      "text/plain": [
       "(264, 16)"
      ]
     },
     "execution_count": 60,
     "metadata": {},
     "output_type": "execute_result"
    }
   ],
   "source": [
    "df_overlap = df_preclinical_inchi.merge(df_clinical_inchi, on = 'pa_inchikey', suffixes=['_preclinical', '_clinical'])\n",
    "df_overlap.shape"
   ]
  },
  {
   "cell_type": "raw",
   "id": "a18a35c1",
   "metadata": {},
   "source": [
    "df_overlap[['compoundIdentifier_preclinical', 'name_preclinical', 'pa_inchikey', 'compoundIdentifier_clinical', 'name_clinical']]\\\n",
    ".to_csv('preclinical_clinical_compounds_overlap_25102021.tsv', sep='\\t')"
   ]
  },
  {
   "cell_type": "code",
   "execution_count": 61,
   "id": "0bad657c",
   "metadata": {},
   "outputs": [
    {
     "data": {
      "text/plain": [
       "235"
      ]
     },
     "execution_count": 61,
     "metadata": {},
     "output_type": "execute_result"
    }
   ],
   "source": [
    "df_overlap.pa_inchikey.nunique()"
   ]
  },
  {
   "cell_type": "markdown",
   "id": "7cffad74",
   "metadata": {},
   "source": [
    "#### using compoud names (preclinical compounds with no SMILEs can used here) "
   ]
  },
  {
   "cell_type": "code",
   "execution_count": 62,
   "id": "8bde1807",
   "metadata": {},
   "outputs": [
    {
     "data": {
      "text/plain": [
       "(175, 16)"
      ]
     },
     "execution_count": 62,
     "metadata": {},
     "output_type": "execute_result"
    }
   ],
   "source": [
    "df_overlap_name = df_preclinical.merge(df_clinical, on = 'name')\n",
    "df_overlap_name.shape"
   ]
  },
  {
   "cell_type": "code",
   "execution_count": 63,
   "id": "3ea0e275",
   "metadata": {},
   "outputs": [
    {
     "data": {
      "text/html": [
       "<div>\n",
       "<style scoped>\n",
       "    .dataframe tbody tr th:only-of-type {\n",
       "        vertical-align: middle;\n",
       "    }\n",
       "\n",
       "    .dataframe tbody tr th {\n",
       "        vertical-align: top;\n",
       "    }\n",
       "\n",
       "    .dataframe thead th {\n",
       "        text-align: right;\n",
       "    }\n",
       "</style>\n",
       "<table border=\"1\" class=\"dataframe\">\n",
       "  <thead>\n",
       "    <tr style=\"text-align: right;\">\n",
       "      <th></th>\n",
       "      <th>id</th>\n",
       "      <th>additionalProperties</th>\n",
       "      <th>organisation</th>\n",
       "      <th>confidentiality</th>\n",
       "      <th>compoundIdentifier_x</th>\n",
       "      <th>name</th>\n",
       "      <th>inchi</th>\n",
       "      <th>inchiKey</th>\n",
       "      <th>smiles</th>\n",
       "      <th>studyIds</th>\n",
       "      <th>findingIds</th>\n",
       "      <th>createdDate</th>\n",
       "      <th>modifiedDate</th>\n",
       "      <th>pa_inchikey_x</th>\n",
       "      <th>compoundIdentifier_y</th>\n",
       "      <th>pa_inchikey_y</th>\n",
       "    </tr>\n",
       "  </thead>\n",
       "  <tbody>\n",
       "    <tr>\n",
       "      <th>169</th>\n",
       "      <td>1361</td>\n",
       "      <td>[]</td>\n",
       "      <td>Janssen Pharmaceutica N.V.</td>\n",
       "      <td>FULLY_SHAREABLE</td>\n",
       "      <td>JJ_PLS_0042</td>\n",
       "      <td>itraconazole</td>\n",
       "      <td>None</td>\n",
       "      <td>VHVPQPYKVGDNFY-ZPGVKDDISA-N</td>\n",
       "      <td>None</td>\n",
       "      <td>[6483, 6484, 6485]</td>\n",
       "      <td>[1331698, 1331699, 1331700, 1331701, 1331702, ...</td>\n",
       "      <td>2016-10-28T09:59:58.000Z</td>\n",
       "      <td>2016-10-28T09:59:58.000Z</td>\n",
       "      <td>None</td>\n",
       "      <td>28031</td>\n",
       "      <td>VHVPQPYKVGDNFY-UHFFFAOYSA-N</td>\n",
       "    </tr>\n",
       "    <tr>\n",
       "      <th>170</th>\n",
       "      <td>1371</td>\n",
       "      <td>[]</td>\n",
       "      <td>Janssen Pharmaceutica N.V.</td>\n",
       "      <td>FULLY_SHAREABLE</td>\n",
       "      <td>JJ_PLS_0106</td>\n",
       "      <td>phenobarbital</td>\n",
       "      <td>None</td>\n",
       "      <td>PZBPKYOVPCNPJY-UHFFFAOYSA-N</td>\n",
       "      <td>None</td>\n",
       "      <td>[6500, 6501]</td>\n",
       "      <td>[1343990, 1343991, 1343992, 1343993, 1343994, ...</td>\n",
       "      <td>2016-10-28T12:01:10.000Z</td>\n",
       "      <td>2016-10-28T12:01:10.000Z</td>\n",
       "      <td>None</td>\n",
       "      <td>8134</td>\n",
       "      <td>DDBREPKUVSBGFI-UHFFFAOYSA-N</td>\n",
       "    </tr>\n",
       "  </tbody>\n",
       "</table>\n",
       "</div>"
      ],
      "text/plain": [
       "       id additionalProperties                organisation  confidentiality  \\\n",
       "169  1361                   []  Janssen Pharmaceutica N.V.  FULLY_SHAREABLE   \n",
       "170  1371                   []  Janssen Pharmaceutica N.V.  FULLY_SHAREABLE   \n",
       "\n",
       "    compoundIdentifier_x           name inchi                     inchiKey  \\\n",
       "169          JJ_PLS_0042   itraconazole  None  VHVPQPYKVGDNFY-ZPGVKDDISA-N   \n",
       "170          JJ_PLS_0106  phenobarbital  None  PZBPKYOVPCNPJY-UHFFFAOYSA-N   \n",
       "\n",
       "    smiles            studyIds  \\\n",
       "169   None  [6483, 6484, 6485]   \n",
       "170   None        [6500, 6501]   \n",
       "\n",
       "                                            findingIds  \\\n",
       "169  [1331698, 1331699, 1331700, 1331701, 1331702, ...   \n",
       "170  [1343990, 1343991, 1343992, 1343993, 1343994, ...   \n",
       "\n",
       "                  createdDate              modifiedDate pa_inchikey_x  \\\n",
       "169  2016-10-28T09:59:58.000Z  2016-10-28T09:59:58.000Z          None   \n",
       "170  2016-10-28T12:01:10.000Z  2016-10-28T12:01:10.000Z          None   \n",
       "\n",
       "    compoundIdentifier_y                pa_inchikey_y  \n",
       "169                28031  VHVPQPYKVGDNFY-UHFFFAOYSA-N  \n",
       "170                 8134  DDBREPKUVSBGFI-UHFFFAOYSA-N  "
      ]
     },
     "execution_count": 63,
     "metadata": {},
     "output_type": "execute_result"
    }
   ],
   "source": [
    "df_overlap_name[df_overlap_name.inchi.isnull()]"
   ]
  },
  {
   "cell_type": "code",
   "execution_count": null,
   "id": "b36e9e43",
   "metadata": {},
   "outputs": [],
   "source": []
  }
 ],
 "metadata": {
  "kernelspec": {
   "display_name": "Python 3",
   "language": "python",
   "name": "python3"
  },
  "language_info": {
   "codemirror_mode": {
    "name": "ipython",
    "version": 3
   },
   "file_extension": ".py",
   "mimetype": "text/x-python",
   "name": "python",
   "nbconvert_exporter": "python",
   "pygments_lexer": "ipython3",
   "version": "3.7.10"
  }
 },
 "nbformat": 4,
 "nbformat_minor": 5
}