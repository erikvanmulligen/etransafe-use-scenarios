{
 "cells": [
  {
   "cell_type": "markdown",
   "metadata": {},
   "source": [
    "# eTransafe Omeprazole Heatmap\n",
    "\n",
    "This is the use scenario that has been described in the eTox project for exploring the differences with respect to adverse events between omeprazole preclinical and clinical. In order to compute these results the following scenario is executed:\n",
    "1. authenticate with the eTransafe keycloak\n",
    "2. Translate the provided compound (e.g., omeprazole) to a SMILES\n",
    "3. Retrieve similar compounds based on structural similarity\n",
    "4. Retrieve data from the preclinical and clinical databases\n",
    "5. Aggregate the data per system organ class\n",
    "6. Visualize the data using a heatmap\n",
    "\n",
    "(C) 2020 Erasmus University Medical Center, Rotterdam, The Netherlands\n",
    "Author: Erik M. van Mulligen, e.vanmulligen@erasmusmc.nl"
   ]
  },
  {
   "cell_type": "code",
   "execution_count": 9,
   "metadata": {
    "pycharm": {
     "name": "#%%\n"
    }
   },
   "outputs": [],
   "source": [
    "from knowledgehub.api import KnowledgeHubAPI\n",
    "import ipywidgets as w\n",
    "from IPython.display import display, Javascript\n",
    "from ipypublish import nb_setup\n",
    "import numpy as np\n",
    "import seaborn as sns\n",
    "import pandas\n",
    "import matplotlib.pyplot as plt"
   ]
  },
  {
   "cell_type": "code",
   "execution_count": 10,
   "metadata": {},
   "outputs": [],
   "source": [
    "api = KnowledgeHubAPI()"
   ]
  },
  {
   "cell_type": "markdown",
   "metadata": {},
   "source": [
    "# 1. Authentication\n",
    "Use eTransafe's authentication service to get access to available services"
   ]
  },
  {
   "cell_type": "code",
   "execution_count": 11,
   "metadata": {},
   "outputs": [
    {
     "data": {
      "text/plain": "VBox(children=(Text(value='e.vanmulligen@erasmusmc.nl', description='username:', placeholder='Knowledge Hub ac…",
      "application/vnd.jupyter.widget-view+json": {
       "version_major": 2,
       "version_minor": 0,
       "model_id": "449842c8f5984162a2f93574d5b85a3b"
      }
     },
     "metadata": {},
     "output_type": "display_data"
    },
    {
     "name": "stdout",
     "output_type": "stream",
     "text": [
      "401\n",
      "Failed to login\n",
      "token:eyJhbGciOiJSUzI1NiIsInR5cCIgOiAiSldUIiwia2lkIiA6ICJFUWFIX3huSGNGOVJxb3ZDR1I2aUVvSERxZzRvdjhRRFZ2Q0ozVlprUjJBIn0.eyJqdGkiOiI4NjJiMWY3OS1lYTIxLTQ2ODAtOGQ3NS05ZTQ5Mzk3NTE5YmUiLCJleHAiOjE2MTE4NTA1MjUsIm5iZiI6MCwiaWF0IjoxNjExODQ2OTI1LCJpc3MiOiJodHRwczovL2xvZ2luLmV0cmFuc2FmZS5ldS9hdXRoL3JlYWxtcy9LSCIsImF1ZCI6WyJhY2NvdW50Iiwia25vd2xlZGdlLWh1YiJdLCJzdWIiOiI2MWZlOWY0Ni04Zjk4LTQ3OTEtOGUwOC03ZjViZjQxZGMwNDYiLCJ0eXAiOiJCZWFyZXIiLCJhenAiOiJrbm93bGVkZ2UtaHViIiwiYXV0aF90aW1lIjowLCJzZXNzaW9uX3N0YXRlIjoiMmUwMzRjNWMtNTJhMC00MmEzLWIyNDgtYzlkZjk2M2ZiOTA4IiwiYWNyIjoiMSIsImFsbG93ZWQtb3JpZ2lucyI6WyIqIl0sInJlYWxtX2FjY2VzcyI6eyJyb2xlcyI6WyJraC1hY2Nlc3MiLCJvZmZsaW5lX2FjY2VzcyIsInVtYV9hdXRob3JpemF0aW9uIl19LCJyZXNvdXJjZV9hY2Nlc3MiOnsiYWNjb3VudCI6eyJyb2xlcyI6WyJtYW5hZ2UtYWNjb3VudCIsIm1hbmFnZS1hY2NvdW50LWxpbmtzIiwidmlldy1wcm9maWxlIl19fSwic2NvcGUiOiJwcm9maWxlIGVtYWlsIiwiZW1haWxfdmVyaWZpZWQiOmZhbHNlLCJuYW1lIjoiRXJpayBNLiB2YW4gTXVsbGlnZW4iLCJpc3MiOiJodHRwczovL2xvZ2luLmV0cmFuc2FmZS5ldS9hdXRoL3JlYWxtcy9LSCIsInByZWZlcnJlZF91c2VybmFtZSI6ImUudmFubXVsbGlnZW5AZXJhc211c21jLm5sIiwiZ2l2ZW5fbmFtZSI6IkVyaWsgTS4iLCJmYW1pbHlfbmFtZSI6InZhbiBNdWxsaWdlbiIsImVtYWlsIjoiZS52YW5tdWxsaWdlbkBlcmFzbXVzbWMubmwifQ.AgLRiy1ieRhWnwS7Xcu_0UlculJb_HxaDE30Wz14KuPBbssupg6BvdbS4YWhv8k0qfCxch_Stf57ojTNRjtc1l67SI6lHAUlZN_OIROWBJ3kCyOow6mGjTIQvhx_g2XHlu9uUFfwKjxzrAtriuMy3va4rQh9lOVTzGkl9lwwk6LCTW4xx1Il289l4zAoDUmoEDf_lEI2eoxrCRZYzh-E0Qvm7myALG6s6Py2n9QYt591NBJMl1kclZCtN6w_OJzeXw6_LtAlQGmThKeL4WwEbcpbv3sleJEBR5W39IXUl8V2bqfaDLsceK4oQ8iUtcCYQUD6o2lfnDZJxRg1jbSltA\n",
      "successfully logged in\n"
     ]
    },
    {
     "data": {
      "text/plain": "<IPython.core.display.Javascript object>",
      "application/javascript": "IPython.notebook.execute_cell_range(IPython.notebook.get_selected_index()+1, IPython.notebook.get_selected_index()+2)"
     },
     "metadata": {},
     "output_type": "display_data"
    }
   ],
   "source": [
    "username = w.Text(value='e.vanmulligen@erasmusmc.nl',placeholder='Knowledge Hub account', description='username:', disabled=False)\n",
    "password = w.Password(value='', placeholder='Knowledge Hub password', description='password:', disabled=False)\n",
    "loginBtn = w.Button(description='Login')\n",
    "status = w.Output()\n",
    "\n",
    "def on_button_clicked(_):\n",
    "    if api.login(username.value, password.value) == False:\n",
    "        print(\"Failed to login\")\n",
    "    else:\n",
    "        print(\"successfully logged in\")\n",
    "        display(Javascript('IPython.notebook.execute_cell_range(IPython.notebook.get_selected_index()+1, IPython.notebook.get_selected_index()+2)'))\n",
    "\n",
    "loginBtn.on_click(on_button_clicked)\n",
    "w.VBox([username, password, loginBtn])"
   ]
  },
  {
   "cell_type": "markdown",
   "metadata": {},
   "source": [
    "## 2. Translate compound to SMILES using semantic services\n",
    "For the entered compound name, retrieve the associated SMILES using the semantic services"
   ]
  },
  {
   "cell_type": "code",
   "execution_count": 7,
   "metadata": {},
   "outputs": [
    {
     "data": {
      "text/plain": "VBox(children=(Text(value='omeprazole', description='compound:', placeholder='compound name'), Button(descript…",
      "application/vnd.jupyter.widget-view+json": {
       "version_major": 2,
       "version_minor": 0,
       "model_id": "d2cff3125bfe4a7796ba2435b83f139f"
      }
     },
     "metadata": {},
     "output_type": "display_data"
    }
   ],
   "source": [
    "compoundName = w.Text(value='omeprazole',placeholder='compound name', description='compound:', disabled=False)\n",
    "compoundBtn = w.Button(description='Retrieve')\n",
    "compoundSmile = None\n",
    "\n",
    "def on_compound_entered(_):\n",
    "        compound = api.SemanticService().normalize(compoundName.value, ['RxNorm','smiles'])\n",
    "        if 'concepts' in compound:\n",
    "            for concept in compound['concepts']:\n",
    "                if 'vocabularyId' in concept:\n",
    "                    if concept['vocabularyId'] == 'smiles':\n",
    "                        global compoundSmile\n",
    "                        compoundSmile = concept['conceptCode']\n",
    "                        print(f'Found SMILES {compoundSmile} for {compoundName.value}')\n",
    "                        display(Javascript('IPython.notebook.execute_cell_range(IPython.notebook.get_selected_index()+1, IPython.notebook.get_selected_index()+2)'))\n",
    "\n",
    "compoundBtn.on_click(on_compound_entered) \n",
    "w.VBox([compoundName, compoundBtn])"
   ]
  },
  {
   "cell_type": "markdown",
   "metadata": {},
   "source": [
    "## 3. Retrieve similar compounds"
   ]
  },
  {
   "cell_type": "code",
   "execution_count": 8,
   "metadata": {},
   "outputs": [
    {
     "ename": "TypeError",
     "evalue": "No registered converter was able to produce a C++ rvalue of type std::__1::basic_string<wchar_t, std::__1::char_traits<wchar_t>, std::__1::allocator<wchar_t> > from this Python object of type NoneType",
     "output_type": "error",
     "traceback": [
      "\u001B[0;31m---------------------------------------------------------------------------\u001B[0m",
      "\u001B[0;31mTypeError\u001B[0m                                 Traceback (most recent call last)",
      "\u001B[0;32m<ipython-input-8-6269e9d35a32>\u001B[0m in \u001B[0;36m<module>\u001B[0;34m\u001B[0m\n\u001B[0;32m----> 1\u001B[0;31m \u001B[0msimilar_compounds\u001B[0m \u001B[0;34m=\u001B[0m \u001B[0mapi\u001B[0m\u001B[0;34m.\u001B[0m\u001B[0mSimilarityService\u001B[0m\u001B[0;34m(\u001B[0m\u001B[0;34m)\u001B[0m\u001B[0;34m.\u001B[0m\u001B[0mget\u001B[0m\u001B[0;34m(\u001B[0m\u001B[0mcompoundSmile\u001B[0m\u001B[0;34m,\u001B[0m \u001B[0mnr_results\u001B[0m \u001B[0;34m=\u001B[0m \u001B[0;36m20\u001B[0m\u001B[0;34m)\u001B[0m\u001B[0;34m\u001B[0m\u001B[0;34m\u001B[0m\u001B[0m\n\u001B[0m\u001B[1;32m      2\u001B[0m \u001B[0mcompoundIds\u001B[0m \u001B[0;34m=\u001B[0m \u001B[0;34m[\u001B[0m\u001B[0;34m]\u001B[0m\u001B[0;34m\u001B[0m\u001B[0;34m\u001B[0m\u001B[0m\n\u001B[1;32m      3\u001B[0m \u001B[0mcompoundNames\u001B[0m \u001B[0;34m=\u001B[0m \u001B[0;34m[\u001B[0m\u001B[0;34m]\u001B[0m\u001B[0;34m\u001B[0m\u001B[0;34m\u001B[0m\u001B[0m\n\u001B[1;32m      4\u001B[0m \u001B[0mnames\u001B[0m \u001B[0;34m=\u001B[0m \u001B[0;34m[\u001B[0m\u001B[0;34m]\u001B[0m\u001B[0;34m\u001B[0m\u001B[0;34m\u001B[0m\u001B[0m\n\u001B[1;32m      5\u001B[0m \u001B[0msmiles\u001B[0m \u001B[0;34m=\u001B[0m \u001B[0;34m[\u001B[0m\u001B[0;34m]\u001B[0m\u001B[0;34m\u001B[0m\u001B[0;34m\u001B[0m\u001B[0m\n",
      "\u001B[0;32m~/PycharmProjects/KnowledgeHub/kh/similarityservice.py\u001B[0m in \u001B[0;36mget\u001B[0;34m(self, smile, nr_results, cutoff)\u001B[0m\n\u001B[1;32m     31\u001B[0m     \u001B[0;32mdef\u001B[0m \u001B[0mget\u001B[0m\u001B[0;34m(\u001B[0m\u001B[0mself\u001B[0m\u001B[0;34m,\u001B[0m \u001B[0msmile\u001B[0m\u001B[0;34m,\u001B[0m \u001B[0mnr_results\u001B[0m\u001B[0;34m=\u001B[0m\u001B[0;36m10\u001B[0m\u001B[0;34m,\u001B[0m \u001B[0mcutoff\u001B[0m\u001B[0;34m=\u001B[0m\u001B[0;36m0.7\u001B[0m\u001B[0;34m)\u001B[0m\u001B[0;34m:\u001B[0m\u001B[0;34m\u001B[0m\u001B[0;34m\u001B[0m\u001B[0m\n\u001B[1;32m     32\u001B[0m         \u001B[0mfo\u001B[0m \u001B[0;34m=\u001B[0m \u001B[0mtempfile\u001B[0m\u001B[0;34m.\u001B[0m\u001B[0mNamedTemporaryFile\u001B[0m\u001B[0;34m(\u001B[0m\u001B[0;34m)\u001B[0m\u001B[0;34m\u001B[0m\u001B[0;34m\u001B[0m\u001B[0m\n\u001B[0;32m---> 33\u001B[0;31m         \u001B[0mm\u001B[0m \u001B[0;34m=\u001B[0m \u001B[0mChem\u001B[0m\u001B[0;34m.\u001B[0m\u001B[0mMolFromSmiles\u001B[0m\u001B[0;34m(\u001B[0m\u001B[0msmile\u001B[0m\u001B[0;34m)\u001B[0m\u001B[0;34m\u001B[0m\u001B[0;34m\u001B[0m\u001B[0m\n\u001B[0m\u001B[1;32m     34\u001B[0m         \u001B[0mw\u001B[0m \u001B[0;34m=\u001B[0m \u001B[0mChem\u001B[0m\u001B[0;34m.\u001B[0m\u001B[0mSDWriter\u001B[0m\u001B[0;34m(\u001B[0m\u001B[0mfo\u001B[0m\u001B[0;34m.\u001B[0m\u001B[0mname\u001B[0m\u001B[0;34m)\u001B[0m\u001B[0;34m\u001B[0m\u001B[0;34m\u001B[0m\u001B[0m\n\u001B[1;32m     35\u001B[0m         \u001B[0mw\u001B[0m\u001B[0;34m.\u001B[0m\u001B[0mwrite\u001B[0m\u001B[0;34m(\u001B[0m\u001B[0mm\u001B[0m\u001B[0;34m)\u001B[0m\u001B[0;34m\u001B[0m\u001B[0;34m\u001B[0m\u001B[0m\n",
      "\u001B[0;31mTypeError\u001B[0m: No registered converter was able to produce a C++ rvalue of type std::__1::basic_string<wchar_t, std::__1::char_traits<wchar_t>, std::__1::allocator<wchar_t> > from this Python object of type NoneType"
     ]
    }
   ],
   "source": [
    "similar_compounds = api.SimilarityService().get(compoundSmile, nr_results = 20)\n",
    "compoundIds = []\n",
    "compoundNames = []\n",
    "names = []\n",
    "smiles = []\n",
    "similarities = []\n",
    "\n",
    "if similar_compounds != None:\n",
    "    if ('search_results' in similar_compounds) and (len(similar_compounds['search_results']) == 1):\n",
    "        search_result = similar_compounds['search_results'][0]\n",
    "        if 'obj_nam' in search_result:\n",
    "            for i in range(len(search_result['obj_nam'])):\n",
    "                names.append(search_result['obj_nam'][i])\n",
    "                smiles.append(search_result['SMILES'][i])\n",
    "                similarities.append(\"{:.4f}\".format(search_result['distances'][i]))\n",
    "\n",
    "            for cmp in search_result['obj_nam']:\n",
    "                concept = api.SemanticService().normalize(cmp, ['RxNorm'])\n",
    "                if 'concepts' in concept and len(concept['concepts']) == 1:\n",
    "                    compoundIds.append(concept['concepts'][0]['conceptCode'])\n",
    "                    compoundNames.append(concept['concepts'][0]['conceptName'])\n",
    "        else:\n",
    "            print('something wrong in the result object from the similarity service')    \n",
    "\n",
    "pd = nb_setup.setup_pandas(escape_latex=False)\n",
    "df = pd.DataFrame(np.random.rand(len(names),3),columns=['NAME','SMILES','SIMILARITY'])\n",
    "df.NAME = names\n",
    "df.SMILES = smiles\n",
    "df.SIMILARITY = similarities\n",
    "df.round(3)"
   ]
  },
  {
   "cell_type": "markdown",
   "metadata": {},
   "source": [
    "# 4. Retrieve data from the preclinical and clinical databases"
   ]
  },
  {
   "cell_type": "code",
   "execution_count": null,
   "metadata": {},
   "outputs": [],
   "source": [
    "studies = api.Medline().getStudiesByCompoundIds(compoundIds) + \\\n",
    "          api.Faers().getStudiesByCompoundIds(compoundIds) + \\\n",
    "          api.ClinicalTrials().getStudiesByCompoundIds(compoundIds) + \\\n",
    "          api.eToxSys().getStudiesByCompoundNames(compoundNames)\n",
    "print(f'Found {len(studies)} studies.')"
   ]
  },
  {
   "cell_type": "markdown",
   "metadata": {},
   "source": [
    "# 5. Aggregate the data per system organ class\n",
    "\n",
    "Since the eTox data reports events with an organ. We use our own method to map it to MedDRA's system organ class to make it comparable"
   ]
  },
  {
   "cell_type": "code",
   "execution_count": null,
   "metadata": {},
   "outputs": [],
   "source": [
    "system = {}\n",
    "all_compounds = [c.lower() for c in compoundNames]\n",
    "socs = {}\n",
    "\n",
    "# traverse all studies and collect the system organ classes; keep track of the # studies per class\n",
    "for study in studies:\n",
    "    source = study['source']\n",
    "    if source != 'eTOXsys' or study['FINDING']['finding'] != 'No abnormalities detected':\n",
    "        specimenOrgans = api.SemanticService().getSocs(study['FINDING']['specimenOrgan'])\n",
    "        for specimenOrgan in specimenOrgans:\n",
    "            if len(specimenOrgan) > 0:\n",
    "                if not specimenOrgan in socs:\n",
    "                    socs[specimenOrgan] = 1\n",
    "                else:\n",
    "                    socs[specimenOrgan] += 1\n",
    "                    \n",
    "# sort the socs per count\n",
    "all_socs = {k: v for k, v in sorted(socs.items(), key=lambda item: item[1], reverse=True)}\n",
    "\n",
    "# traverse all studies and create a matrix per source\n",
    "for study in studies:\n",
    "    source = study['source']\n",
    "    if not source in system.keys():\n",
    "        system[source] = {'data':np.zeros((len(all_socs),len(all_compounds)), dtype=int).tolist(), \n",
    "                          'rows':list(all_socs.keys()), \n",
    "                          'cols':all_compounds}\n",
    "    \n",
    "    if source != 'eTOXsys' or study['FINDING']['finding'] != 'No abnormalities detected':\n",
    "        specimenOrgans = api.SemanticService().getSocs(study['FINDING']['specimenOrgan'])\n",
    "        for specimenOrgan in specimenOrgans:\n",
    "            if len(specimenOrgan) > 0:\n",
    "                row = system[source]['rows'].index(specimenOrgan)\n",
    "                col = system[source]['cols'].index(study['COMPOUND']['name'].lower())\n",
    "                system[source]['data'][row][col] += 1\n",
    "                "
   ]
  },
  {
   "cell_type": "markdown",
   "metadata": {},
   "source": [
    "# 6. Visualize the data using a heatmap\n",
    "\n",
    "Using seaborn to visualize the content of the various databases. Note that we have to think about ways to easier compare the various results."
   ]
  },
  {
   "cell_type": "code",
   "execution_count": null,
   "metadata": {},
   "outputs": [],
   "source": [
    "figure, axes = plt.subplots(figsize=(20,20))\n",
    "i = 1\n",
    "for source,value in system.items():\n",
    "    plt.subplot(4, 1, i)\n",
    "    df = pandas.DataFrame(value['data'], index=value['rows'], columns=value['cols'])\n",
    "    ax = sns.heatmap(df, linewidths=1.0, cmap=\"YlGnBu\")\n",
    "    ax.set_xticklabels(ax.get_xmajorticklabels(), fontsize=14, rotation=45)\n",
    "    ax.set_yticklabels(ax.get_ymajorticklabels(), fontsize=14)\n",
    "    plt.ylabel(source, fontsize=20)\n",
    "    i += 1\n",
    "\n",
    "figure.tight_layout()\n",
    "plt.show()"
   ]
  },
  {
   "cell_type": "code",
   "execution_count": null,
   "metadata": {},
   "outputs": [],
   "source": []
  }
 ],
 "metadata": {
  "kernelspec": {
   "display_name": "Python 3",
   "language": "python",
   "name": "python3"
  },
  "language_info": {
   "codemirror_mode": {
    "name": "ipython",
    "version": 3
   },
   "file_extension": ".py",
   "mimetype": "text/x-python",
   "name": "python",
   "nbconvert_exporter": "python",
   "pygments_lexer": "ipython3",
   "version": "3.8.5"
  }
 },
 "nbformat": 4,
 "nbformat_minor": 4
}